{
  "nbformat": 4,
  "nbformat_minor": 0,
  "metadata": {
    "colab": {
      "name": "google_colab_clickhouse_pandahouse.ipynb",
      "provenance": [],
      "collapsed_sections": []
    },
    "kernelspec": {
      "name": "python3",
      "display_name": "Python 3"
    },
    "language_info": {
      "name": "python"
    }
  },
  "cells": [
    {
      "cell_type": "markdown",
      "metadata": {
        "id": "CkjD74ZOCk-3"
      },
      "source": [
        "##Pandahouse"
      ]
    },
    {
      "cell_type": "markdown",
      "metadata": {
        "id": "R74a5kbNCoQ1"
      },
      "source": [
        "###Установка ClickHouse"
      ]
    },
    {
      "cell_type": "code",
      "metadata": {
        "colab": {
          "base_uri": "https://localhost:8080/"
        },
        "id": "caV8Up10CeD2",
        "outputId": "86ea73d3-aa32-4ab0-ec3d-df1c37a73211"
      },
      "source": [
        "!sudo apt-get install apt-transport-https ca-certificates dirmngr\n",
        "!sudo apt-key adv --keyserver hkp://keyserver.ubuntu.com:80 --recv E0C56BD4\n",
        "\n",
        "!echo \"deb https://repo.clickhouse.tech/deb/stable/ main/\" | sudo tee \\\n",
        "    /etc/apt/sources.list.d/clickhouse.list\n",
        "!sudo apt-get update\n",
        "\n",
        "!sudo apt-get install -y clickhouse-server clickhouse-client\n",
        "\n",
        "!sudo service clickhouse-server start\n",
        "!clickhouse-client"
      ],
      "execution_count": 1,
      "outputs": [
        {
          "output_type": "stream",
          "text": [
            "Reading package lists... Done\n",
            "Building dependency tree       \n",
            "Reading state information... Done\n",
            "ca-certificates is already the newest version (20210119~18.04.1).\n",
            "dirmngr is already the newest version (2.2.4-1ubuntu1.4).\n",
            "The following NEW packages will be installed:\n",
            "  apt-transport-https\n",
            "0 upgraded, 1 newly installed, 0 to remove and 31 not upgraded.\n",
            "Need to get 1,692 B of archives.\n",
            "After this operation, 154 kB of additional disk space will be used.\n",
            "Get:1 http://archive.ubuntu.com/ubuntu bionic-updates/universe amd64 apt-transport-https all 1.6.13 [1,692 B]\n",
            "Fetched 1,692 B in 0s (9,729 B/s)\n",
            "debconf: unable to initialize frontend: Dialog\n",
            "debconf: (No usable dialog-like program is installed, so the dialog based frontend cannot be used. at /usr/share/perl5/Debconf/FrontEnd/Dialog.pm line 76, <> line 1.)\n",
            "debconf: falling back to frontend: Readline\n",
            "debconf: unable to initialize frontend: Readline\n",
            "debconf: (This frontend requires a controlling tty.)\n",
            "debconf: falling back to frontend: Teletype\n",
            "dpkg-preconfigure: unable to re-open stdin: \n",
            "Selecting previously unselected package apt-transport-https.\n",
            "(Reading database ... 160983 files and directories currently installed.)\n",
            "Preparing to unpack .../apt-transport-https_1.6.13_all.deb ...\n",
            "Unpacking apt-transport-https (1.6.13) ...\n",
            "Setting up apt-transport-https (1.6.13) ...\n",
            "Executing: /tmp/apt-key-gpghome.aauHOyMcFP/gpg.1.sh --keyserver hkp://keyserver.ubuntu.com:80 --recv E0C56BD4\n",
            "gpg: key C8F1E19FE0C56BD4: public key \"ClickHouse Repository Key <milovidov@yandex-team.ru>\" imported\n",
            "gpg: Total number processed: 1\n",
            "gpg:               imported: 1\n",
            "deb https://repo.clickhouse.tech/deb/stable/ main/\n",
            "Get:1 https://cloud.r-project.org/bin/linux/ubuntu bionic-cran40/ InRelease [3,626 B]\n",
            "Ign:2 https://developer.download.nvidia.com/compute/cuda/repos/ubuntu1804/x86_64  InRelease\n",
            "Get:3 http://security.ubuntu.com/ubuntu bionic-security InRelease [88.7 kB]\n",
            "Get:4 http://ppa.launchpad.net/c2d4u.team/c2d4u4.0+/ubuntu bionic InRelease [15.9 kB]\n",
            "Hit:5 http://archive.ubuntu.com/ubuntu bionic InRelease\n",
            "Ign:6 https://developer.download.nvidia.com/compute/machine-learning/repos/ubuntu1804/x86_64  InRelease\n",
            "Get:7 https://developer.download.nvidia.com/compute/cuda/repos/ubuntu1804/x86_64  Release [697 B]\n",
            "Hit:8 https://developer.download.nvidia.com/compute/machine-learning/repos/ubuntu1804/x86_64  Release\n",
            "Get:9 http://archive.ubuntu.com/ubuntu bionic-updates InRelease [88.7 kB]\n",
            "Get:10 https://developer.download.nvidia.com/compute/cuda/repos/ubuntu1804/x86_64  Release.gpg [836 B]\n",
            "Hit:11 http://ppa.launchpad.net/cran/libgit2/ubuntu bionic InRelease\n",
            "Get:13 http://archive.ubuntu.com/ubuntu bionic-backports InRelease [74.6 kB]\n",
            "Ign:14 https://repo.clickhouse.tech/deb/stable main/ InRelease\n",
            "Get:15 http://ppa.launchpad.net/deadsnakes/ppa/ubuntu bionic InRelease [15.9 kB]\n",
            "Ign:16 https://developer.download.nvidia.com/compute/cuda/repos/ubuntu1804/x86_64  Packages\n",
            "Get:16 https://developer.download.nvidia.com/compute/cuda/repos/ubuntu1804/x86_64  Packages [739 kB]\n",
            "Hit:17 http://ppa.launchpad.net/graphics-drivers/ppa/ubuntu bionic InRelease\n",
            "Get:18 http://security.ubuntu.com/ubuntu bionic-security/main amd64 Packages [2,116 kB]\n",
            "Get:19 https://repo.clickhouse.tech/deb/stable main/ Release [749 B]\n",
            "Get:20 http://ppa.launchpad.net/c2d4u.team/c2d4u4.0+/ubuntu bionic/main Sources [1,756 kB]\n",
            "Get:21 http://archive.ubuntu.com/ubuntu bionic-updates/universe amd64 Packages [2,182 kB]\n",
            "Get:22 https://repo.clickhouse.tech/deb/stable main/ Release.gpg [836 B]\n",
            "Get:23 http://security.ubuntu.com/ubuntu bionic-security/universe amd64 Packages [1,410 kB]\n",
            "Get:24 http://security.ubuntu.com/ubuntu bionic-security/multiverse amd64 Packages [24.5 kB]\n",
            "Get:25 http://security.ubuntu.com/ubuntu bionic-security/restricted amd64 Packages [395 kB]\n",
            "Get:26 http://archive.ubuntu.com/ubuntu bionic-updates/restricted amd64 Packages [425 kB]\n",
            "Get:27 http://archive.ubuntu.com/ubuntu bionic-updates/main amd64 Packages [2,546 kB]\n",
            "Get:28 http://ppa.launchpad.net/c2d4u.team/c2d4u4.0+/ubuntu bionic/main amd64 Packages [899 kB]\n",
            "Get:29 http://archive.ubuntu.com/ubuntu bionic-updates/multiverse amd64 Packages [31.4 kB]\n",
            "Get:30 https://repo.clickhouse.tech/deb/stable main/ Packages [176 kB]\n",
            "Get:31 http://ppa.launchpad.net/deadsnakes/ppa/ubuntu bionic/main amd64 Packages [39.5 kB]\n",
            "Fetched 13.0 MB in 2s (5,233 kB/s)\n",
            "Reading package lists... Done\n",
            "Reading package lists... Done\n",
            "Building dependency tree       \n",
            "Reading state information... Done\n",
            "The following additional packages will be installed:\n",
            "  clickhouse-common-static libcap2-bin libpam-cap\n",
            "Suggested packages:\n",
            "  clickhouse-common-static-dbg\n",
            "The following NEW packages will be installed:\n",
            "  clickhouse-client clickhouse-common-static clickhouse-server libcap2-bin\n",
            "  libpam-cap\n",
            "0 upgraded, 5 newly installed, 0 to remove and 78 not upgraded.\n",
            "Need to get 129 MB of archives.\n",
            "After this operation, 438 MB of additional disk space will be used.\n",
            "Get:1 https://repo.clickhouse.tech/deb/stable main/ clickhouse-common-static 21.4.4.30 [129 MB]\n",
            "Get:2 https://repo.clickhouse.tech/deb/stable main/ clickhouse-client 21.4.4.30 [46.3 kB]\n",
            "Get:3 https://repo.clickhouse.tech/deb/stable main/ clickhouse-server 21.4.4.30 [66.6 kB]\n",
            "Get:4 http://archive.ubuntu.com/ubuntu bionic/main amd64 libcap2-bin amd64 1:2.25-1.2 [20.6 kB]\n",
            "Get:5 http://archive.ubuntu.com/ubuntu bionic/main amd64 libpam-cap amd64 1:2.25-1.2 [7,268 B]\n",
            "Fetched 129 MB in 5s (23.4 MB/s)\n",
            "debconf: unable to initialize frontend: Dialog\n",
            "debconf: (No usable dialog-like program is installed, so the dialog based frontend cannot be used. at /usr/share/perl5/Debconf/FrontEnd/Dialog.pm line 76, <> line 5.)\n",
            "debconf: falling back to frontend: Readline\n",
            "debconf: unable to initialize frontend: Readline\n",
            "debconf: (This frontend requires a controlling tty.)\n",
            "debconf: falling back to frontend: Teletype\n",
            "dpkg-preconfigure: unable to re-open stdin: \n",
            "Selecting previously unselected package libcap2-bin.\n",
            "(Reading database ... 160987 files and directories currently installed.)\n",
            "Preparing to unpack .../libcap2-bin_1%3a2.25-1.2_amd64.deb ...\n",
            "Unpacking libcap2-bin (1:2.25-1.2) ...\n",
            "Selecting previously unselected package libpam-cap:amd64.\n",
            "Preparing to unpack .../libpam-cap_1%3a2.25-1.2_amd64.deb ...\n",
            "Unpacking libpam-cap:amd64 (1:2.25-1.2) ...\n",
            "Selecting previously unselected package clickhouse-common-static.\n",
            "Preparing to unpack .../clickhouse-common-static_21.4.4.30_amd64.deb ...\n",
            "Unpacking clickhouse-common-static (21.4.4.30) ...\n",
            "Selecting previously unselected package clickhouse-client.\n",
            "Preparing to unpack .../clickhouse-client_21.4.4.30_all.deb ...\n",
            "Unpacking clickhouse-client (21.4.4.30) ...\n",
            "Selecting previously unselected package clickhouse-server.\n",
            "Preparing to unpack .../clickhouse-server_21.4.4.30_all.deb ...\n",
            "Unpacking clickhouse-server (21.4.4.30) ...\n",
            "Setting up libpam-cap:amd64 (1:2.25-1.2) ...\n",
            "debconf: unable to initialize frontend: Dialog\n",
            "debconf: (No usable dialog-like program is installed, so the dialog based frontend cannot be used. at /usr/share/perl5/Debconf/FrontEnd/Dialog.pm line 76.)\n",
            "debconf: falling back to frontend: Readline\n",
            "Setting up libcap2-bin (1:2.25-1.2) ...\n",
            "Setting up clickhouse-common-static (21.4.4.30) ...\n",
            "Setting up clickhouse-server (21.4.4.30) ...\n",
            "debconf: unable to initialize frontend: Dialog\n",
            "debconf: (No usable dialog-like program is installed, so the dialog based frontend cannot be used. at /usr/share/perl5/Debconf/FrontEnd/Dialog.pm line 76.)\n",
            "debconf: falling back to frontend: Readline\n",
            "Configuring clickhouse-server\n",
            "-----------------------------\n",
            "\n",
            "\u001b[4mEnter password for default user: \u001b[m\u001b[1m\u001b[m\u001b[m\n",
            "\n",
            "ClickHouse binary is already located at /usr/bin/clickhouse\n",
            "Symlink /usr/bin/clickhouse-server already exists but it points to /clickhouse. Will replace the old symlink to /usr/bin/clickhouse.\n",
            "Creating symlink /usr/bin/clickhouse-server to /usr/bin/clickhouse.\n",
            "Symlink /usr/bin/clickhouse-client already exists but it points to /clickhouse. Will replace the old symlink to /usr/bin/clickhouse.\n",
            "Creating symlink /usr/bin/clickhouse-client to /usr/bin/clickhouse.\n",
            "Symlink /usr/bin/clickhouse-local already exists but it points to /clickhouse. Will replace the old symlink to /usr/bin/clickhouse.\n",
            "Creating symlink /usr/bin/clickhouse-local to /usr/bin/clickhouse.\n",
            "Symlink /usr/bin/clickhouse-benchmark already exists but it points to /clickhouse. Will replace the old symlink to /usr/bin/clickhouse.\n",
            "Creating symlink /usr/bin/clickhouse-benchmark to /usr/bin/clickhouse.\n",
            "Symlink /usr/bin/clickhouse-copier already exists but it points to /clickhouse. Will replace the old symlink to /usr/bin/clickhouse.\n",
            "Creating symlink /usr/bin/clickhouse-copier to /usr/bin/clickhouse.\n",
            "Symlink /usr/bin/clickhouse-obfuscator already exists but it points to /clickhouse. Will replace the old symlink to /usr/bin/clickhouse.\n",
            "Creating symlink /usr/bin/clickhouse-obfuscator to /usr/bin/clickhouse.\n",
            "Creating symlink /usr/bin/clickhouse-git-import to /usr/bin/clickhouse.\n",
            "Symlink /usr/bin/clickhouse-compressor already exists but it points to /clickhouse. Will replace the old symlink to /usr/bin/clickhouse.\n",
            "Creating symlink /usr/bin/clickhouse-compressor to /usr/bin/clickhouse.\n",
            "Symlink /usr/bin/clickhouse-format already exists but it points to /clickhouse. Will replace the old symlink to /usr/bin/clickhouse.\n",
            "Creating symlink /usr/bin/clickhouse-format to /usr/bin/clickhouse.\n",
            "Symlink /usr/bin/clickhouse-extract-from-config already exists but it points to /clickhouse. Will replace the old symlink to /usr/bin/clickhouse.\n",
            "Creating symlink /usr/bin/clickhouse-extract-from-config to /usr/bin/clickhouse.\n",
            "Creating clickhouse group if it does not exist.\n",
            " groupadd -r clickhouse\n",
            "Creating clickhouse user if it does not exist.\n",
            " useradd -r --shell /bin/false --home-dir /nonexistent -g clickhouse clickhouse\n",
            "Will set ulimits for clickhouse user in /etc/security/limits.d/clickhouse.conf.\n",
            "Creating config directory /etc/clickhouse-server/config.d that is used for tweaks of main server configuration.\n",
            "Creating config directory /etc/clickhouse-server/users.d that is used for tweaks of users configuration.\n",
            "Config file /etc/clickhouse-server/config.xml already exists, will keep it and extract path info from it.\n",
            "/etc/clickhouse-server/config.xml has /var/lib/clickhouse/ as data path.\n",
            "/etc/clickhouse-server/config.xml has /var/log/clickhouse-server/ as log path.\n",
            "Users config file /etc/clickhouse-server/users.xml already exists, will keep it and extract users info from it.\n",
            " chown --recursive clickhouse:clickhouse '/etc/clickhouse-server'\n",
            "Creating log directory /var/log/clickhouse-server/.\n",
            "Creating data directory /var/lib/clickhouse/.\n",
            "Creating pid directory /var/run/clickhouse-server.\n",
            " chown --recursive clickhouse:clickhouse '/var/log/clickhouse-server/'\n",
            " chown --recursive clickhouse:clickhouse '/var/run/clickhouse-server'\n",
            " chown clickhouse:clickhouse '/var/lib/clickhouse/'\n",
            "Password for default user is empty string. See /etc/clickhouse-server/users.xml and /etc/clickhouse-server/users.d to change it.\n",
            "Setting capabilities for clickhouse binary. This is optional.\n",
            " command -v setcap >/dev/null && echo > /tmp/test_setcap.sh && chmod a+x /tmp/test_setcap.sh && /tmp/test_setcap.sh && setcap 'cap_net_admin,cap_ipc_lock,cap_sys_nice+ep' /tmp/test_setcap.sh && /tmp/test_setcap.sh && rm /tmp/test_setcap.sh && setcap 'cap_net_admin,cap_ipc_lock,cap_sys_nice+ep' /usr/bin/clickhouse || echo \"Cannot set 'net_admin' or 'ipc_lock' or 'sys_nice' capability for clickhouse binary. This is optional. Taskstats accounting will be disabled. To enable taskstats accounting you may add the required capability later manually.\"\n",
            "sh: 1: /tmp/test_setcap.sh: Operation not permitted\n",
            "Cannot set 'net_admin' or 'ipc_lock' or 'sys_nice' capability for clickhouse binary. This is optional. Taskstats accounting will be disabled. To enable taskstats accounting you may add the required capability later manually.\n",
            "\n",
            "ClickHouse has been successfully installed.\n",
            "\n",
            "Start clickhouse-server with:\n",
            " sudo clickhouse start\n",
            "\n",
            "Start clickhouse-client with:\n",
            " clickhouse-client\n",
            "\n",
            "Setting up clickhouse-client (21.4.4.30) ...\n",
            "Processing triggers for man-db (2.8.3-2ubuntu0.1) ...\n",
            "Processing triggers for systemd (237-3ubuntu10.45) ...\n",
            " chown --recursive clickhouse '/var/run/clickhouse-server/'\n",
            "Will run su -s /bin/sh 'clickhouse' -c '/usr/bin/clickhouse-server --config-file /etc/clickhouse-server/config.xml --pid-file /var/run/clickhouse-server/clickhouse-server.pid --daemon'\n",
            "Waiting for server to start\n",
            "Waiting for server to start\n",
            "Server started\n",
            "src/tcmalloc.cc:283] Attempt to free invalid pointer 0x7ff9a0c1f000 \n"
          ],
          "name": "stdout"
        }
      ]
    },
    {
      "cell_type": "markdown",
      "metadata": {
        "id": "iB34kvuHC9gl"
      },
      "source": [
        "###Загрузка датасетов"
      ]
    },
    {
      "cell_type": "code",
      "metadata": {
        "id": "-7VmpIAhC6PF"
      },
      "source": [
        "import pandas as pd\n",
        "import numpy as np"
      ],
      "execution_count": 2,
      "outputs": []
    },
    {
      "cell_type": "code",
      "metadata": {
        "id": "2bBsE_frDDJ9"
      },
      "source": [
        "df_ratings = pd.read_csv('drive/MyDrive/dataset/movies_rating.csv')"
      ],
      "execution_count": 3,
      "outputs": []
    },
    {
      "cell_type": "code",
      "metadata": {
        "id": "SNDww5umDcK1"
      },
      "source": [
        "df_ratings['date'] = pd.to_datetime(df_ratings['timestamp'],unit='s')"
      ],
      "execution_count": 4,
      "outputs": []
    },
    {
      "cell_type": "code",
      "metadata": {
        "id": "DYpERDsELyhl"
      },
      "source": [
        "df_ratings['date'] = df_ratings['date'].dt.date"
      ],
      "execution_count": 5,
      "outputs": []
    },
    {
      "cell_type": "code",
      "metadata": {
        "id": "ekccuIOUDeZV"
      },
      "source": [
        "df_ratings = df_ratings[['date','userId','movieId','rating']]\n",
        "df_ratings.columns = ['date','user_id','movie_id','rating']"
      ],
      "execution_count": 6,
      "outputs": []
    },
    {
      "cell_type": "code",
      "metadata": {
        "colab": {
          "base_uri": "https://localhost:8080/",
          "height": 204
        },
        "id": "yvl-bRznDfWF",
        "outputId": "25af149b-720d-47eb-ebf4-237bc1d53481"
      },
      "source": [
        "df_ratings.head()"
      ],
      "execution_count": 7,
      "outputs": [
        {
          "output_type": "execute_result",
          "data": {
            "text/html": [
              "<div>\n",
              "<style scoped>\n",
              "    .dataframe tbody tr th:only-of-type {\n",
              "        vertical-align: middle;\n",
              "    }\n",
              "\n",
              "    .dataframe tbody tr th {\n",
              "        vertical-align: top;\n",
              "    }\n",
              "\n",
              "    .dataframe thead th {\n",
              "        text-align: right;\n",
              "    }\n",
              "</style>\n",
              "<table border=\"1\" class=\"dataframe\">\n",
              "  <thead>\n",
              "    <tr style=\"text-align: right;\">\n",
              "      <th></th>\n",
              "      <th>date</th>\n",
              "      <th>user_id</th>\n",
              "      <th>movie_id</th>\n",
              "      <th>rating</th>\n",
              "    </tr>\n",
              "  </thead>\n",
              "  <tbody>\n",
              "    <tr>\n",
              "      <th>0</th>\n",
              "      <td>2009-12-14</td>\n",
              "      <td>1</td>\n",
              "      <td>31</td>\n",
              "      <td>2.5</td>\n",
              "    </tr>\n",
              "    <tr>\n",
              "      <th>1</th>\n",
              "      <td>2009-12-14</td>\n",
              "      <td>1</td>\n",
              "      <td>1029</td>\n",
              "      <td>3.0</td>\n",
              "    </tr>\n",
              "    <tr>\n",
              "      <th>2</th>\n",
              "      <td>2009-12-14</td>\n",
              "      <td>1</td>\n",
              "      <td>1061</td>\n",
              "      <td>3.0</td>\n",
              "    </tr>\n",
              "    <tr>\n",
              "      <th>3</th>\n",
              "      <td>2009-12-14</td>\n",
              "      <td>1</td>\n",
              "      <td>1129</td>\n",
              "      <td>2.0</td>\n",
              "    </tr>\n",
              "    <tr>\n",
              "      <th>4</th>\n",
              "      <td>2009-12-14</td>\n",
              "      <td>1</td>\n",
              "      <td>1172</td>\n",
              "      <td>4.0</td>\n",
              "    </tr>\n",
              "  </tbody>\n",
              "</table>\n",
              "</div>"
            ],
            "text/plain": [
              "         date  user_id  movie_id  rating\n",
              "0  2009-12-14        1        31     2.5\n",
              "1  2009-12-14        1      1029     3.0\n",
              "2  2009-12-14        1      1061     3.0\n",
              "3  2009-12-14        1      1129     2.0\n",
              "4  2009-12-14        1      1172     4.0"
            ]
          },
          "metadata": {
            "tags": []
          },
          "execution_count": 7
        }
      ]
    },
    {
      "cell_type": "code",
      "metadata": {
        "colab": {
          "base_uri": "https://localhost:8080/"
        },
        "id": "PdUd4gRaDi2-",
        "outputId": "9d05fc67-8068-491a-89a6-ecf12bb2bdc1"
      },
      "source": [
        "df_ratings.isnull().sum()"
      ],
      "execution_count": 8,
      "outputs": [
        {
          "output_type": "execute_result",
          "data": {
            "text/plain": [
              "date        0\n",
              "user_id     0\n",
              "movie_id    0\n",
              "rating      0\n",
              "dtype: int64"
            ]
          },
          "metadata": {
            "tags": []
          },
          "execution_count": 8
        }
      ]
    },
    {
      "cell_type": "code",
      "metadata": {
        "colab": {
          "base_uri": "https://localhost:8080/"
        },
        "id": "GX4m8WHADnPF",
        "outputId": "54fa375a-e3a8-4e0e-d877-cfc753aa5f37"
      },
      "source": [
        "df_ratings.info()"
      ],
      "execution_count": 9,
      "outputs": [
        {
          "output_type": "stream",
          "text": [
            "<class 'pandas.core.frame.DataFrame'>\n",
            "RangeIndex: 100004 entries, 0 to 100003\n",
            "Data columns (total 4 columns):\n",
            " #   Column    Non-Null Count   Dtype  \n",
            "---  ------    --------------   -----  \n",
            " 0   date      100004 non-null  object \n",
            " 1   user_id   100004 non-null  int64  \n",
            " 2   movie_id  100004 non-null  int64  \n",
            " 3   rating    100004 non-null  float64\n",
            "dtypes: float64(1), int64(2), object(1)\n",
            "memory usage: 3.1+ MB\n"
          ],
          "name": "stdout"
        }
      ]
    },
    {
      "cell_type": "code",
      "metadata": {
        "id": "JB5aSdoyDqQe"
      },
      "source": [
        "usecols = ['id','title']\n",
        "df_movies = pd.read_csv('drive/MyDrive/dataset/movies.csv',usecols=usecols)\n",
        "df_movies.columns = ['movie_id', 'title']"
      ],
      "execution_count": 10,
      "outputs": []
    },
    {
      "cell_type": "code",
      "metadata": {
        "colab": {
          "base_uri": "https://localhost:8080/",
          "height": 204
        },
        "id": "b9A5PJ4EDtSe",
        "outputId": "256088f3-78db-4435-dc5a-f2936f0c9fb1"
      },
      "source": [
        "df_movies.head()"
      ],
      "execution_count": 11,
      "outputs": [
        {
          "output_type": "execute_result",
          "data": {
            "text/html": [
              "<div>\n",
              "<style scoped>\n",
              "    .dataframe tbody tr th:only-of-type {\n",
              "        vertical-align: middle;\n",
              "    }\n",
              "\n",
              "    .dataframe tbody tr th {\n",
              "        vertical-align: top;\n",
              "    }\n",
              "\n",
              "    .dataframe thead th {\n",
              "        text-align: right;\n",
              "    }\n",
              "</style>\n",
              "<table border=\"1\" class=\"dataframe\">\n",
              "  <thead>\n",
              "    <tr style=\"text-align: right;\">\n",
              "      <th></th>\n",
              "      <th>movie_id</th>\n",
              "      <th>title</th>\n",
              "    </tr>\n",
              "  </thead>\n",
              "  <tbody>\n",
              "    <tr>\n",
              "      <th>0</th>\n",
              "      <td>862</td>\n",
              "      <td>Toy Story</td>\n",
              "    </tr>\n",
              "    <tr>\n",
              "      <th>1</th>\n",
              "      <td>8844</td>\n",
              "      <td>Jumanji</td>\n",
              "    </tr>\n",
              "    <tr>\n",
              "      <th>2</th>\n",
              "      <td>15602</td>\n",
              "      <td>Grumpier Old Men</td>\n",
              "    </tr>\n",
              "    <tr>\n",
              "      <th>3</th>\n",
              "      <td>31357</td>\n",
              "      <td>Waiting to Exhale</td>\n",
              "    </tr>\n",
              "    <tr>\n",
              "      <th>4</th>\n",
              "      <td>11862</td>\n",
              "      <td>Father of the Bride Part II</td>\n",
              "    </tr>\n",
              "  </tbody>\n",
              "</table>\n",
              "</div>"
            ],
            "text/plain": [
              "  movie_id                        title\n",
              "0      862                    Toy Story\n",
              "1     8844                      Jumanji\n",
              "2    15602             Grumpier Old Men\n",
              "3    31357            Waiting to Exhale\n",
              "4    11862  Father of the Bride Part II"
            ]
          },
          "metadata": {
            "tags": []
          },
          "execution_count": 11
        }
      ]
    },
    {
      "cell_type": "code",
      "metadata": {
        "colab": {
          "base_uri": "https://localhost:8080/"
        },
        "id": "npOA-jz4DueP",
        "outputId": "e8059659-04b5-4c74-a1e2-5c0be21d874f"
      },
      "source": [
        "df_movies.info()"
      ],
      "execution_count": 12,
      "outputs": [
        {
          "output_type": "stream",
          "text": [
            "<class 'pandas.core.frame.DataFrame'>\n",
            "RangeIndex: 45466 entries, 0 to 45465\n",
            "Data columns (total 2 columns):\n",
            " #   Column    Non-Null Count  Dtype \n",
            "---  ------    --------------  ----- \n",
            " 0   movie_id  45466 non-null  object\n",
            " 1   title     45460 non-null  object\n",
            "dtypes: object(2)\n",
            "memory usage: 710.5+ KB\n"
          ],
          "name": "stdout"
        }
      ]
    },
    {
      "cell_type": "code",
      "metadata": {
        "id": "CLZ0JcdkDx-F"
      },
      "source": [
        "df_movies.movie_id = pd.to_numeric(df_movies.movie_id , errors='coerce').convert_dtypes()"
      ],
      "execution_count": 13,
      "outputs": []
    },
    {
      "cell_type": "code",
      "metadata": {
        "colab": {
          "base_uri": "https://localhost:8080/"
        },
        "id": "5kk_0IXfDzN1",
        "outputId": "2c2c5043-a63a-4373-fbf9-304daa320757"
      },
      "source": [
        "df_movies.info()"
      ],
      "execution_count": 14,
      "outputs": [
        {
          "output_type": "stream",
          "text": [
            "<class 'pandas.core.frame.DataFrame'>\n",
            "RangeIndex: 45466 entries, 0 to 45465\n",
            "Data columns (total 2 columns):\n",
            " #   Column    Non-Null Count  Dtype \n",
            "---  ------    --------------  ----- \n",
            " 0   movie_id  45463 non-null  Int64 \n",
            " 1   title     45460 non-null  object\n",
            "dtypes: Int64(1), object(1)\n",
            "memory usage: 754.9+ KB\n"
          ],
          "name": "stdout"
        }
      ]
    },
    {
      "cell_type": "code",
      "metadata": {
        "colab": {
          "base_uri": "https://localhost:8080/"
        },
        "id": "I2gaGPKED2s1",
        "outputId": "6c99e166-3e15-4912-ee4c-319e141f4784"
      },
      "source": [
        "df_movies.isnull().sum()"
      ],
      "execution_count": 15,
      "outputs": [
        {
          "output_type": "execute_result",
          "data": {
            "text/plain": [
              "movie_id    3\n",
              "title       6\n",
              "dtype: int64"
            ]
          },
          "metadata": {
            "tags": []
          },
          "execution_count": 15
        }
      ]
    },
    {
      "cell_type": "code",
      "metadata": {
        "id": "lX6zPrZ4D5dd"
      },
      "source": [
        "df_movies = df_movies.dropna()"
      ],
      "execution_count": 16,
      "outputs": []
    },
    {
      "cell_type": "code",
      "metadata": {
        "colab": {
          "base_uri": "https://localhost:8080/"
        },
        "id": "Zgfp2-_8D7iV",
        "outputId": "8de0ced4-6061-4596-fb88-53f075485101"
      },
      "source": [
        "df_movies.isnull().sum()"
      ],
      "execution_count": 17,
      "outputs": [
        {
          "output_type": "execute_result",
          "data": {
            "text/plain": [
              "movie_id    0\n",
              "title       0\n",
              "dtype: int64"
            ]
          },
          "metadata": {
            "tags": []
          },
          "execution_count": 17
        }
      ]
    },
    {
      "cell_type": "code",
      "metadata": {
        "id": "IPOKCNAFVmxa"
      },
      "source": [
        "df_movies['movie_id'] = df_movies['movie_id'].astype('int64')"
      ],
      "execution_count": 18,
      "outputs": []
    },
    {
      "cell_type": "code",
      "metadata": {
        "colab": {
          "base_uri": "https://localhost:8080/"
        },
        "id": "lyeEAvomV6fy",
        "outputId": "6a22a6b0-7abd-4f87-a5d8-4c4d405dc656"
      },
      "source": [
        "df_movies.info()"
      ],
      "execution_count": 19,
      "outputs": [
        {
          "output_type": "stream",
          "text": [
            "<class 'pandas.core.frame.DataFrame'>\n",
            "Int64Index: 45460 entries, 0 to 45465\n",
            "Data columns (total 2 columns):\n",
            " #   Column    Non-Null Count  Dtype \n",
            "---  ------    --------------  ----- \n",
            " 0   movie_id  45460 non-null  int64 \n",
            " 1   title     45460 non-null  object\n",
            "dtypes: int64(1), object(1)\n",
            "memory usage: 1.0+ MB\n"
          ],
          "name": "stdout"
        }
      ]
    },
    {
      "cell_type": "markdown",
      "metadata": {
        "id": "ORP9-F5QEDRX"
      },
      "source": [
        "###Добавление новой БД и таблиц"
      ]
    },
    {
      "cell_type": "code",
      "metadata": {
        "colab": {
          "base_uri": "https://localhost:8080/"
        },
        "id": "Mldj5o7ZIyzc",
        "outputId": "9226e3d4-bd6d-4c1f-be70-22360219a9d1"
      },
      "source": [
        "!pip install clickhouse-driver"
      ],
      "execution_count": 20,
      "outputs": [
        {
          "output_type": "stream",
          "text": [
            "Collecting clickhouse-driver\n",
            "\u001b[?25l  Downloading https://files.pythonhosted.org/packages/7d/33/16f13d59d084ab3f38ef4c8f6906834d1a004c03ef2f68714ae22e42a3d6/clickhouse_driver-0.2.0-cp37-cp37m-manylinux2010_x86_64.whl (480kB)\n",
            "\r\u001b[K     |▊                               | 10kB 15.1MB/s eta 0:00:01\r\u001b[K     |█▍                              | 20kB 21.2MB/s eta 0:00:01\r\u001b[K     |██                              | 30kB 23.2MB/s eta 0:00:01\r\u001b[K     |██▊                             | 40kB 19.8MB/s eta 0:00:01\r\u001b[K     |███▍                            | 51kB 12.9MB/s eta 0:00:01\r\u001b[K     |████                            | 61kB 13.7MB/s eta 0:00:01\r\u001b[K     |████▊                           | 71kB 12.8MB/s eta 0:00:01\r\u001b[K     |█████▌                          | 81kB 13.7MB/s eta 0:00:01\r\u001b[K     |██████▏                         | 92kB 13.0MB/s eta 0:00:01\r\u001b[K     |██████▉                         | 102kB 13.3MB/s eta 0:00:01\r\u001b[K     |███████▌                        | 112kB 13.3MB/s eta 0:00:01\r\u001b[K     |████████▏                       | 122kB 13.3MB/s eta 0:00:01\r\u001b[K     |████████▉                       | 133kB 13.3MB/s eta 0:00:01\r\u001b[K     |█████████▌                      | 143kB 13.3MB/s eta 0:00:01\r\u001b[K     |██████████▎                     | 153kB 13.3MB/s eta 0:00:01\r\u001b[K     |███████████                     | 163kB 13.3MB/s eta 0:00:01\r\u001b[K     |███████████▋                    | 174kB 13.3MB/s eta 0:00:01\r\u001b[K     |████████████▎                   | 184kB 13.3MB/s eta 0:00:01\r\u001b[K     |█████████████                   | 194kB 13.3MB/s eta 0:00:01\r\u001b[K     |█████████████▋                  | 204kB 13.3MB/s eta 0:00:01\r\u001b[K     |██████████████▎                 | 215kB 13.3MB/s eta 0:00:01\r\u001b[K     |███████████████                 | 225kB 13.3MB/s eta 0:00:01\r\u001b[K     |███████████████▊                | 235kB 13.3MB/s eta 0:00:01\r\u001b[K     |████████████████▍               | 245kB 13.3MB/s eta 0:00:01\r\u001b[K     |█████████████████               | 256kB 13.3MB/s eta 0:00:01\r\u001b[K     |█████████████████▊              | 266kB 13.3MB/s eta 0:00:01\r\u001b[K     |██████████████████▍             | 276kB 13.3MB/s eta 0:00:01\r\u001b[K     |███████████████████             | 286kB 13.3MB/s eta 0:00:01\r\u001b[K     |███████████████████▉            | 296kB 13.3MB/s eta 0:00:01\r\u001b[K     |████████████████████▌           | 307kB 13.3MB/s eta 0:00:01\r\u001b[K     |█████████████████████▏          | 317kB 13.3MB/s eta 0:00:01\r\u001b[K     |█████████████████████▉          | 327kB 13.3MB/s eta 0:00:01\r\u001b[K     |██████████████████████▌         | 337kB 13.3MB/s eta 0:00:01\r\u001b[K     |███████████████████████▏        | 348kB 13.3MB/s eta 0:00:01\r\u001b[K     |███████████████████████▉        | 358kB 13.3MB/s eta 0:00:01\r\u001b[K     |████████████████████████▋       | 368kB 13.3MB/s eta 0:00:01\r\u001b[K     |█████████████████████████▎      | 378kB 13.3MB/s eta 0:00:01\r\u001b[K     |██████████████████████████      | 389kB 13.3MB/s eta 0:00:01\r\u001b[K     |██████████████████████████▋     | 399kB 13.3MB/s eta 0:00:01\r\u001b[K     |███████████████████████████▎    | 409kB 13.3MB/s eta 0:00:01\r\u001b[K     |████████████████████████████    | 419kB 13.3MB/s eta 0:00:01\r\u001b[K     |████████████████████████████▋   | 430kB 13.3MB/s eta 0:00:01\r\u001b[K     |█████████████████████████████▍  | 440kB 13.3MB/s eta 0:00:01\r\u001b[K     |██████████████████████████████  | 450kB 13.3MB/s eta 0:00:01\r\u001b[K     |██████████████████████████████▊ | 460kB 13.3MB/s eta 0:00:01\r\u001b[K     |███████████████████████████████▍| 471kB 13.3MB/s eta 0:00:01\r\u001b[K     |████████████████████████████████| 481kB 13.3MB/s \n",
            "\u001b[?25hRequirement already satisfied: pytz in /usr/local/lib/python3.7/dist-packages (from clickhouse-driver) (2018.9)\n",
            "Requirement already satisfied: tzlocal<3.0 in /usr/local/lib/python3.7/dist-packages (from clickhouse-driver) (1.5.1)\n",
            "Installing collected packages: clickhouse-driver\n",
            "Successfully installed clickhouse-driver-0.2.0\n"
          ],
          "name": "stdout"
        }
      ]
    },
    {
      "cell_type": "code",
      "metadata": {
        "colab": {
          "base_uri": "https://localhost:8080/"
        },
        "id": "65aBxlY7Iyv-",
        "outputId": "743e6652-aadc-41bb-aff7-87836432c4fd"
      },
      "source": [
        "from clickhouse_driver import Client\n",
        "client = Client(host='localhost')\n",
        "client.execute('SHOW DATABASES')"
      ],
      "execution_count": 21,
      "outputs": [
        {
          "output_type": "execute_result",
          "data": {
            "text/plain": [
              "[('default',), ('system',)]"
            ]
          },
          "metadata": {
            "tags": []
          },
          "execution_count": 21
        }
      ]
    },
    {
      "cell_type": "code",
      "metadata": {
        "colab": {
          "base_uri": "https://localhost:8080/"
        },
        "id": "792MUCwfIypu",
        "outputId": "d7a6b64c-a0f7-4468-99cd-e21d83bb61e4"
      },
      "source": [
        "client.execute('CREATE DATABASE db_movies')"
      ],
      "execution_count": 22,
      "outputs": [
        {
          "output_type": "execute_result",
          "data": {
            "text/plain": [
              "[]"
            ]
          },
          "metadata": {
            "tags": []
          },
          "execution_count": 22
        }
      ]
    },
    {
      "cell_type": "code",
      "metadata": {
        "colab": {
          "base_uri": "https://localhost:8080/"
        },
        "id": "Kl8Y33pkJuW0",
        "outputId": "41a01635-2c09-42dc-b4f5-e6455a707a93"
      },
      "source": [
        "client.execute('SHOW DATABASES')"
      ],
      "execution_count": 23,
      "outputs": [
        {
          "output_type": "execute_result",
          "data": {
            "text/plain": [
              "[('db_movies',), ('default',), ('system',)]"
            ]
          },
          "metadata": {
            "tags": []
          },
          "execution_count": 23
        }
      ]
    },
    {
      "cell_type": "code",
      "metadata": {
        "id": "PQ9wpWM-J7AE"
      },
      "source": [
        "client = Client(host='localhost', user='default', port='9000', database='db_movies')"
      ],
      "execution_count": 24,
      "outputs": []
    },
    {
      "cell_type": "code",
      "metadata": {
        "colab": {
          "base_uri": "https://localhost:8080/"
        },
        "id": "gM6N6iBsJVAF",
        "outputId": "052bfdb2-96ce-41ac-b323-cff899cedee9"
      },
      "source": [
        "client.execute('DROP TABLE IF EXISTS ratings')\n",
        "client.execute('CREATE TABLE ratings (date Date, user_id Int64, movie_id Int64, rating Float32  ) ENGINE = Memory')"
      ],
      "execution_count": 25,
      "outputs": [
        {
          "output_type": "execute_result",
          "data": {
            "text/plain": [
              "[]"
            ]
          },
          "metadata": {
            "tags": []
          },
          "execution_count": 25
        }
      ]
    },
    {
      "cell_type": "code",
      "metadata": {
        "colab": {
          "base_uri": "https://localhost:8080/"
        },
        "id": "neyMjayHJaiE",
        "outputId": "c5b2d90e-a638-4dde-b9c8-5bf3fcc53526"
      },
      "source": [
        "client.execute('DROP TABLE IF EXISTS movies')\n",
        "client.execute('CREATE TABLE movies (movie_id Int64, title String ) ENGINE = Memory')"
      ],
      "execution_count": 26,
      "outputs": [
        {
          "output_type": "execute_result",
          "data": {
            "text/plain": [
              "[]"
            ]
          },
          "metadata": {
            "tags": []
          },
          "execution_count": 26
        }
      ]
    },
    {
      "cell_type": "code",
      "metadata": {
        "colab": {
          "base_uri": "https://localhost:8080/"
        },
        "id": "vSirq_6jJph0",
        "outputId": "d0dd722e-ccbb-430b-9044-9020e65ce462"
      },
      "source": [
        "client.execute('SHOW TABLES FROM db_movies')"
      ],
      "execution_count": 27,
      "outputs": [
        {
          "output_type": "execute_result",
          "data": {
            "text/plain": [
              "[('movies',), ('ratings',)]"
            ]
          },
          "metadata": {
            "tags": []
          },
          "execution_count": 27
        }
      ]
    },
    {
      "cell_type": "markdown",
      "metadata": {
        "id": "iONxFSOxMiyk"
      },
      "source": [
        "### Загрузка и чтение записей из БД"
      ]
    },
    {
      "cell_type": "code",
      "metadata": {
        "colab": {
          "base_uri": "https://localhost:8080/"
        },
        "id": "MbPGi1VyEHbc",
        "outputId": "fdfb87bf-0858-4230-9304-5aebc3f302e2"
      },
      "source": [
        "!pip install pandahouse"
      ],
      "execution_count": 28,
      "outputs": [
        {
          "output_type": "stream",
          "text": [
            "Collecting pandahouse\n",
            "  Downloading https://files.pythonhosted.org/packages/78/7c/1a98a3791690428fb3d0346ad4f214102ab66c8026f3ea2b80beb22a160a/pandahouse-0.2.7.tar.gz\n",
            "Requirement already satisfied: pandas in /usr/local/lib/python3.7/dist-packages (from pandahouse) (1.1.5)\n",
            "Requirement already satisfied: requests in /usr/local/lib/python3.7/dist-packages (from pandahouse) (2.23.0)\n",
            "Requirement already satisfied: toolz in /usr/local/lib/python3.7/dist-packages (from pandahouse) (0.11.1)\n",
            "Requirement already satisfied: numpy>=1.15.4 in /usr/local/lib/python3.7/dist-packages (from pandas->pandahouse) (1.19.5)\n",
            "Requirement already satisfied: pytz>=2017.2 in /usr/local/lib/python3.7/dist-packages (from pandas->pandahouse) (2018.9)\n",
            "Requirement already satisfied: python-dateutil>=2.7.3 in /usr/local/lib/python3.7/dist-packages (from pandas->pandahouse) (2.8.1)\n",
            "Requirement already satisfied: certifi>=2017.4.17 in /usr/local/lib/python3.7/dist-packages (from requests->pandahouse) (2020.12.5)\n",
            "Requirement already satisfied: idna<3,>=2.5 in /usr/local/lib/python3.7/dist-packages (from requests->pandahouse) (2.10)\n",
            "Requirement already satisfied: chardet<4,>=3.0.2 in /usr/local/lib/python3.7/dist-packages (from requests->pandahouse) (3.0.4)\n",
            "Requirement already satisfied: urllib3!=1.25.0,!=1.25.1,<1.26,>=1.21.1 in /usr/local/lib/python3.7/dist-packages (from requests->pandahouse) (1.24.3)\n",
            "Requirement already satisfied: six>=1.5 in /usr/local/lib/python3.7/dist-packages (from python-dateutil>=2.7.3->pandas->pandahouse) (1.15.0)\n",
            "Building wheels for collected packages: pandahouse\n",
            "  Building wheel for pandahouse (setup.py) ... \u001b[?25l\u001b[?25hdone\n",
            "  Created wheel for pandahouse: filename=pandahouse-0.2.7-py2.py3-none-any.whl size=5922 sha256=1233e1516259ef16e94d39a58b86c8eeeb36b135621b33c8be687416216d1887\n",
            "  Stored in directory: /root/.cache/pip/wheels/34/cd/4e/f42f963ab3b7a59b470cc45b2d3dcee0c310731feb780ca2ff\n",
            "Successfully built pandahouse\n",
            "Installing collected packages: pandahouse\n",
            "Successfully installed pandahouse-0.2.7\n"
          ],
          "name": "stdout"
        }
      ]
    },
    {
      "cell_type": "code",
      "metadata": {
        "id": "20zmwUlvHDWV"
      },
      "source": [
        "from pandahouse import to_clickhouse, read_clickhouse"
      ],
      "execution_count": 29,
      "outputs": []
    },
    {
      "cell_type": "code",
      "metadata": {
        "id": "Asaog4wQFS2e"
      },
      "source": [
        "connection = {'host':'http://localhost:8123', 'database': 'db_movies'}"
      ],
      "execution_count": 30,
      "outputs": []
    },
    {
      "cell_type": "markdown",
      "metadata": {
        "id": "EcQqdF1UWpG9"
      },
      "source": [
        "### Обращать внимание на проблемы конвертации типов данных (https://github.com/kszucs/pandahouse/blob/master/pandahouse/convert.py)"
      ]
    },
    {
      "cell_type": "code",
      "metadata": {
        "id": "XZWk0l-1EM51"
      },
      "source": [
        "df_ratings = to_clickhouse(df_ratings, table='ratings', index=False, connection=connection)"
      ],
      "execution_count": 31,
      "outputs": []
    },
    {
      "cell_type": "code",
      "metadata": {
        "id": "XtKwuZ6UL9CU"
      },
      "source": [
        "df_sql_ratings = read_clickhouse('SELECT * FROM db_movies.ratings', connection=connection)"
      ],
      "execution_count": 32,
      "outputs": []
    },
    {
      "cell_type": "code",
      "metadata": {
        "colab": {
          "base_uri": "https://localhost:8080/",
          "height": 204
        },
        "id": "v-6pAq-OMXI8",
        "outputId": "e72b4605-1cb2-4594-861e-d7b4064b8db2"
      },
      "source": [
        "df_sql_ratings.head()"
      ],
      "execution_count": 33,
      "outputs": [
        {
          "output_type": "execute_result",
          "data": {
            "text/html": [
              "<div>\n",
              "<style scoped>\n",
              "    .dataframe tbody tr th:only-of-type {\n",
              "        vertical-align: middle;\n",
              "    }\n",
              "\n",
              "    .dataframe tbody tr th {\n",
              "        vertical-align: top;\n",
              "    }\n",
              "\n",
              "    .dataframe thead th {\n",
              "        text-align: right;\n",
              "    }\n",
              "</style>\n",
              "<table border=\"1\" class=\"dataframe\">\n",
              "  <thead>\n",
              "    <tr style=\"text-align: right;\">\n",
              "      <th></th>\n",
              "      <th>date</th>\n",
              "      <th>user_id</th>\n",
              "      <th>movie_id</th>\n",
              "      <th>rating</th>\n",
              "    </tr>\n",
              "  </thead>\n",
              "  <tbody>\n",
              "    <tr>\n",
              "      <th>0</th>\n",
              "      <td>2009-12-14</td>\n",
              "      <td>1</td>\n",
              "      <td>31</td>\n",
              "      <td>2.5</td>\n",
              "    </tr>\n",
              "    <tr>\n",
              "      <th>1</th>\n",
              "      <td>2009-12-14</td>\n",
              "      <td>1</td>\n",
              "      <td>1029</td>\n",
              "      <td>3.0</td>\n",
              "    </tr>\n",
              "    <tr>\n",
              "      <th>2</th>\n",
              "      <td>2009-12-14</td>\n",
              "      <td>1</td>\n",
              "      <td>1061</td>\n",
              "      <td>3.0</td>\n",
              "    </tr>\n",
              "    <tr>\n",
              "      <th>3</th>\n",
              "      <td>2009-12-14</td>\n",
              "      <td>1</td>\n",
              "      <td>1129</td>\n",
              "      <td>2.0</td>\n",
              "    </tr>\n",
              "    <tr>\n",
              "      <th>4</th>\n",
              "      <td>2009-12-14</td>\n",
              "      <td>1</td>\n",
              "      <td>1172</td>\n",
              "      <td>4.0</td>\n",
              "    </tr>\n",
              "  </tbody>\n",
              "</table>\n",
              "</div>"
            ],
            "text/plain": [
              "        date  user_id  movie_id  rating\n",
              "0 2009-12-14        1        31     2.5\n",
              "1 2009-12-14        1      1029     3.0\n",
              "2 2009-12-14        1      1061     3.0\n",
              "3 2009-12-14        1      1129     2.0\n",
              "4 2009-12-14        1      1172     4.0"
            ]
          },
          "metadata": {
            "tags": []
          },
          "execution_count": 33
        }
      ]
    },
    {
      "cell_type": "code",
      "metadata": {
        "id": "alQ1_llZMvAL"
      },
      "source": [
        "df_movies = to_clickhouse(df_movies, table='movies', index=False, connection=connection)"
      ],
      "execution_count": 34,
      "outputs": []
    },
    {
      "cell_type": "code",
      "metadata": {
        "id": "QsoNRnHNWS1T"
      },
      "source": [
        "df_sql_movies = read_clickhouse('SELECT * FROM db_movies.movies', connection=connection)"
      ],
      "execution_count": 35,
      "outputs": []
    },
    {
      "cell_type": "code",
      "metadata": {
        "colab": {
          "base_uri": "https://localhost:8080/",
          "height": 204
        },
        "id": "gu9RBZWDWYei",
        "outputId": "b99474de-957d-4573-e593-3058b399e532"
      },
      "source": [
        "df_sql_movies.head()"
      ],
      "execution_count": 36,
      "outputs": [
        {
          "output_type": "execute_result",
          "data": {
            "text/html": [
              "<div>\n",
              "<style scoped>\n",
              "    .dataframe tbody tr th:only-of-type {\n",
              "        vertical-align: middle;\n",
              "    }\n",
              "\n",
              "    .dataframe tbody tr th {\n",
              "        vertical-align: top;\n",
              "    }\n",
              "\n",
              "    .dataframe thead th {\n",
              "        text-align: right;\n",
              "    }\n",
              "</style>\n",
              "<table border=\"1\" class=\"dataframe\">\n",
              "  <thead>\n",
              "    <tr style=\"text-align: right;\">\n",
              "      <th></th>\n",
              "      <th>movie_id</th>\n",
              "      <th>title</th>\n",
              "    </tr>\n",
              "  </thead>\n",
              "  <tbody>\n",
              "    <tr>\n",
              "      <th>0</th>\n",
              "      <td>862</td>\n",
              "      <td>Toy Story</td>\n",
              "    </tr>\n",
              "    <tr>\n",
              "      <th>1</th>\n",
              "      <td>8844</td>\n",
              "      <td>Jumanji</td>\n",
              "    </tr>\n",
              "    <tr>\n",
              "      <th>2</th>\n",
              "      <td>15602</td>\n",
              "      <td>Grumpier Old Men</td>\n",
              "    </tr>\n",
              "    <tr>\n",
              "      <th>3</th>\n",
              "      <td>31357</td>\n",
              "      <td>Waiting to Exhale</td>\n",
              "    </tr>\n",
              "    <tr>\n",
              "      <th>4</th>\n",
              "      <td>11862</td>\n",
              "      <td>Father of the Bride Part II</td>\n",
              "    </tr>\n",
              "  </tbody>\n",
              "</table>\n",
              "</div>"
            ],
            "text/plain": [
              "   movie_id                        title\n",
              "0       862                    Toy Story\n",
              "1      8844                      Jumanji\n",
              "2     15602             Grumpier Old Men\n",
              "3     31357            Waiting to Exhale\n",
              "4     11862  Father of the Bride Part II"
            ]
          },
          "metadata": {
            "tags": []
          },
          "execution_count": 36
        }
      ]
    },
    {
      "cell_type": "markdown",
      "metadata": {
        "id": "esMjd2PPd9cJ"
      },
      "source": [
        "###Запросы к БД"
      ]
    },
    {
      "cell_type": "code",
      "metadata": {
        "colab": {
          "base_uri": "https://localhost:8080/",
          "height": 359
        },
        "id": "yaSPTW_Jd05b",
        "outputId": "bba68a86-e875-4785-8c4e-cb91f19f9e6a"
      },
      "source": [
        "read_clickhouse('SELECT r.*,  \\\n",
        "                      m.title \\\n",
        "                FROM  \\\n",
        "                    (SELECT r.movie_id,  \\\n",
        "                            count(r.rating) as count,  \\\n",
        "                            avg(r.rating) as avg \\\n",
        "                    FROM db_movies.ratings as r\\\n",
        "                    GROUP BY r.movie_id  \\\n",
        "                    ORDER BY count(r.rating) DESC, \\\n",
        "                            avg(r.rating) DESC) as r  \\\n",
        "                    LEFT JOIN db_movies.movies as m ON r.movie_id = m.movie_id \\\n",
        "                LIMIT 10', connection=connection)"
      ],
      "execution_count": 37,
      "outputs": [
        {
          "output_type": "execute_result",
          "data": {
            "text/html": [
              "<div>\n",
              "<style scoped>\n",
              "    .dataframe tbody tr th:only-of-type {\n",
              "        vertical-align: middle;\n",
              "    }\n",
              "\n",
              "    .dataframe tbody tr th {\n",
              "        vertical-align: top;\n",
              "    }\n",
              "\n",
              "    .dataframe thead th {\n",
              "        text-align: right;\n",
              "    }\n",
              "</style>\n",
              "<table border=\"1\" class=\"dataframe\">\n",
              "  <thead>\n",
              "    <tr style=\"text-align: right;\">\n",
              "      <th></th>\n",
              "      <th>movie_id</th>\n",
              "      <th>count</th>\n",
              "      <th>avg</th>\n",
              "      <th>title</th>\n",
              "    </tr>\n",
              "  </thead>\n",
              "  <tbody>\n",
              "    <tr>\n",
              "      <th>0</th>\n",
              "      <td>356</td>\n",
              "      <td>341</td>\n",
              "      <td>4.054252</td>\n",
              "      <td></td>\n",
              "    </tr>\n",
              "    <tr>\n",
              "      <th>1</th>\n",
              "      <td>296</td>\n",
              "      <td>324</td>\n",
              "      <td>4.256173</td>\n",
              "      <td>Terminator 3: Rise of the Machines</td>\n",
              "    </tr>\n",
              "    <tr>\n",
              "      <th>2</th>\n",
              "      <td>318</td>\n",
              "      <td>311</td>\n",
              "      <td>4.487138</td>\n",
              "      <td>The Million Dollar Hotel</td>\n",
              "    </tr>\n",
              "    <tr>\n",
              "      <th>3</th>\n",
              "      <td>593</td>\n",
              "      <td>304</td>\n",
              "      <td>4.138158</td>\n",
              "      <td>Solaris</td>\n",
              "    </tr>\n",
              "    <tr>\n",
              "      <th>4</th>\n",
              "      <td>260</td>\n",
              "      <td>291</td>\n",
              "      <td>4.221649</td>\n",
              "      <td>The 39 Steps</td>\n",
              "    </tr>\n",
              "    <tr>\n",
              "      <th>5</th>\n",
              "      <td>480</td>\n",
              "      <td>274</td>\n",
              "      <td>3.706204</td>\n",
              "      <td>Monsoon Wedding</td>\n",
              "    </tr>\n",
              "    <tr>\n",
              "      <th>6</th>\n",
              "      <td>2571</td>\n",
              "      <td>259</td>\n",
              "      <td>4.183398</td>\n",
              "      <td></td>\n",
              "    </tr>\n",
              "    <tr>\n",
              "      <th>7</th>\n",
              "      <td>1</td>\n",
              "      <td>247</td>\n",
              "      <td>3.872470</td>\n",
              "      <td></td>\n",
              "    </tr>\n",
              "    <tr>\n",
              "      <th>8</th>\n",
              "      <td>527</td>\n",
              "      <td>244</td>\n",
              "      <td>4.303279</td>\n",
              "      <td>Once Were Warriors</td>\n",
              "    </tr>\n",
              "    <tr>\n",
              "      <th>9</th>\n",
              "      <td>589</td>\n",
              "      <td>237</td>\n",
              "      <td>4.006329</td>\n",
              "      <td></td>\n",
              "    </tr>\n",
              "  </tbody>\n",
              "</table>\n",
              "</div>"
            ],
            "text/plain": [
              "   movie_id  count       avg                               title\n",
              "0       356    341  4.054252                                    \n",
              "1       296    324  4.256173  Terminator 3: Rise of the Machines\n",
              "2       318    311  4.487138            The Million Dollar Hotel\n",
              "3       593    304  4.138158                             Solaris\n",
              "4       260    291  4.221649                        The 39 Steps\n",
              "5       480    274  3.706204                     Monsoon Wedding\n",
              "6      2571    259  4.183398                                    \n",
              "7         1    247  3.872470                                    \n",
              "8       527    244  4.303279                  Once Were Warriors\n",
              "9       589    237  4.006329                                    "
            ]
          },
          "metadata": {
            "tags": []
          },
          "execution_count": 37
        }
      ]
    }
  ]
}
