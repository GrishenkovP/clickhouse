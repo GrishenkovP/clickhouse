{
  "nbformat": 4,
  "nbformat_minor": 0,
  "metadata": {
    "colab": {
      "name": "google_colab_clickhouse_ratings_of_movies.ipynb",
      "provenance": [],
      "collapsed_sections": []
    },
    "kernelspec": {
      "name": "python3",
      "display_name": "Python 3"
    },
    "language_info": {
      "name": "python"
    }
  },
  "cells": [
    {
      "cell_type": "markdown",
      "metadata": {
        "id": "RhAMDdlSxHBA"
      },
      "source": [
        "#Установка ClickHouse\n"
      ]
    },
    {
      "cell_type": "code",
      "metadata": {
        "colab": {
          "base_uri": "https://localhost:8080/"
        },
        "id": "DJQrUEsRi35z",
        "outputId": "f8d0766c-34ed-4df4-e120-5107147ec277"
      },
      "source": [
        "!sudo apt-get install apt-transport-https ca-certificates dirmngr\n",
        "!sudo apt-key adv --keyserver hkp://keyserver.ubuntu.com:80 --recv E0C56BD4\n",
        "\n",
        "!echo \"deb https://repo.clickhouse.tech/deb/stable/ main/\" | sudo tee \\\n",
        "    /etc/apt/sources.list.d/clickhouse.list\n",
        "!sudo apt-get update\n",
        "\n",
        "!sudo apt-get install -y clickhouse-server clickhouse-client\n",
        "\n",
        "!sudo service clickhouse-server start\n",
        "!clickhouse-client"
      ],
      "execution_count": 1,
      "outputs": [
        {
          "output_type": "stream",
          "text": [
            "Reading package lists... Done\n",
            "Building dependency tree       \n",
            "Reading state information... Done\n",
            "ca-certificates is already the newest version (20210119~18.04.1).\n",
            "dirmngr is already the newest version (2.2.4-1ubuntu1.4).\n",
            "The following NEW packages will be installed:\n",
            "  apt-transport-https\n",
            "0 upgraded, 1 newly installed, 0 to remove and 29 not upgraded.\n",
            "Need to get 1,696 B of archives.\n",
            "After this operation, 153 kB of additional disk space will be used.\n",
            "Get:1 http://archive.ubuntu.com/ubuntu bionic-updates/universe amd64 apt-transport-https all 1.6.12ubuntu0.2 [1,696 B]\n",
            "Fetched 1,696 B in 0s (47.6 kB/s)\n",
            "debconf: unable to initialize frontend: Dialog\n",
            "debconf: (No usable dialog-like program is installed, so the dialog based frontend cannot be used. at /usr/share/perl5/Debconf/FrontEnd/Dialog.pm line 76, <> line 1.)\n",
            "debconf: falling back to frontend: Readline\n",
            "debconf: unable to initialize frontend: Readline\n",
            "debconf: (This frontend requires a controlling tty.)\n",
            "debconf: falling back to frontend: Teletype\n",
            "dpkg-preconfigure: unable to re-open stdin: \n",
            "Selecting previously unselected package apt-transport-https.\n",
            "(Reading database ... 160975 files and directories currently installed.)\n",
            "Preparing to unpack .../apt-transport-https_1.6.12ubuntu0.2_all.deb ...\n",
            "Unpacking apt-transport-https (1.6.12ubuntu0.2) ...\n",
            "Setting up apt-transport-https (1.6.12ubuntu0.2) ...\n",
            "Executing: /tmp/apt-key-gpghome.0kA1aY3oC9/gpg.1.sh --keyserver hkp://keyserver.ubuntu.com:80 --recv E0C56BD4\n",
            "gpg: key C8F1E19FE0C56BD4: public key \"ClickHouse Repository Key <milovidov@yandex-team.ru>\" imported\n",
            "gpg: Total number processed: 1\n",
            "gpg:               imported: 1\n",
            "deb https://repo.clickhouse.tech/deb/stable/ main/\n",
            "Get:1 http://ppa.launchpad.net/c2d4u.team/c2d4u4.0+/ubuntu bionic InRelease [15.9 kB]\n",
            "Hit:2 http://archive.ubuntu.com/ubuntu bionic InRelease\n",
            "Get:3 http://archive.ubuntu.com/ubuntu bionic-updates InRelease [88.7 kB]\n",
            "Get:4 http://security.ubuntu.com/ubuntu bionic-security InRelease [88.7 kB]\n",
            "Get:5 https://cloud.r-project.org/bin/linux/ubuntu bionic-cran40/ InRelease [3,626 B]\n",
            "Hit:6 http://ppa.launchpad.net/cran/libgit2/ubuntu bionic InRelease\n",
            "Get:7 http://archive.ubuntu.com/ubuntu bionic-backports InRelease [74.6 kB]\n",
            "Hit:8 http://ppa.launchpad.net/deadsnakes/ppa/ubuntu bionic InRelease\n",
            "Hit:9 http://ppa.launchpad.net/graphics-drivers/ppa/ubuntu bionic InRelease\n",
            "Ign:10 https://repo.clickhouse.tech/deb/stable main/ InRelease\n",
            "Ign:11 https://developer.download.nvidia.com/compute/cuda/repos/ubuntu1804/x86_64  InRelease\n",
            "Get:12 https://repo.clickhouse.tech/deb/stable main/ Release [749 B]\n",
            "Get:13 http://ppa.launchpad.net/c2d4u.team/c2d4u4.0+/ubuntu bionic/main Sources [1,746 kB]\n",
            "Get:14 https://repo.clickhouse.tech/deb/stable main/ Release.gpg [836 B]\n",
            "Ign:15 https://developer.download.nvidia.com/compute/machine-learning/repos/ubuntu1804/x86_64  InRelease\n",
            "Get:16 https://developer.download.nvidia.com/compute/cuda/repos/ubuntu1804/x86_64  Release [697 B]\n",
            "Hit:17 https://developer.download.nvidia.com/compute/machine-learning/repos/ubuntu1804/x86_64  Release\n",
            "Get:18 https://developer.download.nvidia.com/compute/cuda/repos/ubuntu1804/x86_64  Release.gpg [836 B]\n",
            "Get:19 http://security.ubuntu.com/ubuntu bionic-security/restricted amd64 Packages [333 kB]\n",
            "Get:20 http://ppa.launchpad.net/c2d4u.team/c2d4u4.0+/ubuntu bionic/main amd64 Packages [894 kB]\n",
            "Get:21 http://security.ubuntu.com/ubuntu bionic-security/universe amd64 Packages [1,398 kB]\n",
            "Get:22 http://security.ubuntu.com/ubuntu bionic-security/main amd64 Packages [1,995 kB]\n",
            "Get:23 https://cloud.r-project.org/bin/linux/ubuntu bionic-cran40/ Packages [49.4 kB]\n",
            "Get:24 http://archive.ubuntu.com/ubuntu bionic-updates/main amd64 Packages [2,437 kB]\n",
            "Get:25 http://archive.ubuntu.com/ubuntu bionic-updates/universe amd64 Packages [2,165 kB]\n",
            "Get:26 http://archive.ubuntu.com/ubuntu bionic-updates/restricted amd64 Packages [367 kB]\n",
            "Get:28 https://repo.clickhouse.tech/deb/stable main/ Packages [166 kB]\n",
            "Ign:29 https://developer.download.nvidia.com/compute/cuda/repos/ubuntu1804/x86_64  Packages\n",
            "Get:29 https://developer.download.nvidia.com/compute/cuda/repos/ubuntu1804/x86_64  Packages [603 kB]\n",
            "Fetched 12.4 MB in 2s (6,953 kB/s)\n",
            "Reading package lists... Done\n",
            "Reading package lists... Done\n",
            "Building dependency tree       \n",
            "Reading state information... Done\n",
            "The following additional packages will be installed:\n",
            "  clickhouse-common-static libcap2-bin libpam-cap\n",
            "Suggested packages:\n",
            "  clickhouse-common-static-dbg\n",
            "The following NEW packages will be installed:\n",
            "  clickhouse-client clickhouse-common-static clickhouse-server libcap2-bin\n",
            "  libpam-cap\n",
            "0 upgraded, 5 newly installed, 0 to remove and 55 not upgraded.\n",
            "Need to get 126 MB of archives.\n",
            "After this operation, 428 MB of additional disk space will be used.\n",
            "Get:1 http://archive.ubuntu.com/ubuntu bionic/main amd64 libcap2-bin amd64 1:2.25-1.2 [20.6 kB]\n",
            "Get:2 http://archive.ubuntu.com/ubuntu bionic/main amd64 libpam-cap amd64 1:2.25-1.2 [7,268 B]\n",
            "Get:3 https://repo.clickhouse.tech/deb/stable main/ clickhouse-common-static 21.3.3.14 [126 MB]\n",
            "Get:4 https://repo.clickhouse.tech/deb/stable main/ clickhouse-client 21.3.3.14 [38.1 kB]\n",
            "Get:5 https://repo.clickhouse.tech/deb/stable main/ clickhouse-server 21.3.3.14 [58.1 kB]\n",
            "Fetched 126 MB in 2s (53.0 MB/s)\n",
            "debconf: unable to initialize frontend: Dialog\n",
            "debconf: (No usable dialog-like program is installed, so the dialog based frontend cannot be used. at /usr/share/perl5/Debconf/FrontEnd/Dialog.pm line 76, <> line 5.)\n",
            "debconf: falling back to frontend: Readline\n",
            "debconf: unable to initialize frontend: Readline\n",
            "debconf: (This frontend requires a controlling tty.)\n",
            "debconf: falling back to frontend: Teletype\n",
            "dpkg-preconfigure: unable to re-open stdin: \n",
            "Selecting previously unselected package libcap2-bin.\n",
            "(Reading database ... 160979 files and directories currently installed.)\n",
            "Preparing to unpack .../libcap2-bin_1%3a2.25-1.2_amd64.deb ...\n",
            "Unpacking libcap2-bin (1:2.25-1.2) ...\n",
            "Selecting previously unselected package libpam-cap:amd64.\n",
            "Preparing to unpack .../libpam-cap_1%3a2.25-1.2_amd64.deb ...\n",
            "Unpacking libpam-cap:amd64 (1:2.25-1.2) ...\n",
            "Selecting previously unselected package clickhouse-common-static.\n",
            "Preparing to unpack .../clickhouse-common-static_21.3.3.14_amd64.deb ...\n",
            "Unpacking clickhouse-common-static (21.3.3.14) ...\n",
            "Selecting previously unselected package clickhouse-client.\n",
            "Preparing to unpack .../clickhouse-client_21.3.3.14_all.deb ...\n",
            "Unpacking clickhouse-client (21.3.3.14) ...\n",
            "Selecting previously unselected package clickhouse-server.\n",
            "Preparing to unpack .../clickhouse-server_21.3.3.14_all.deb ...\n",
            "Unpacking clickhouse-server (21.3.3.14) ...\n",
            "Setting up libpam-cap:amd64 (1:2.25-1.2) ...\n",
            "debconf: unable to initialize frontend: Dialog\n",
            "debconf: (No usable dialog-like program is installed, so the dialog based frontend cannot be used. at /usr/share/perl5/Debconf/FrontEnd/Dialog.pm line 76.)\n",
            "debconf: falling back to frontend: Readline\n",
            "Setting up libcap2-bin (1:2.25-1.2) ...\n",
            "Setting up clickhouse-common-static (21.3.3.14) ...\n",
            "Setting up clickhouse-server (21.3.3.14) ...\n",
            "debconf: unable to initialize frontend: Dialog\n",
            "debconf: (No usable dialog-like program is installed, so the dialog based frontend cannot be used. at /usr/share/perl5/Debconf/FrontEnd/Dialog.pm line 76.)\n",
            "debconf: falling back to frontend: Readline\n",
            "Configuring clickhouse-server\n",
            "-----------------------------\n",
            "\n",
            "\u001b[4mEnter password for default user: \u001b[m\u001b[1m\u001b[m\u001b[m\n",
            "\n",
            "ClickHouse binary is already located at /usr/bin/clickhouse\n",
            "Symlink /usr/bin/clickhouse-server already exists but it points to /clickhouse. Will replace the old symlink to /usr/bin/clickhouse.\n",
            "Creating symlink /usr/bin/clickhouse-server to /usr/bin/clickhouse.\n",
            "Symlink /usr/bin/clickhouse-client already exists but it points to /clickhouse. Will replace the old symlink to /usr/bin/clickhouse.\n",
            "Creating symlink /usr/bin/clickhouse-client to /usr/bin/clickhouse.\n",
            "Symlink /usr/bin/clickhouse-local already exists but it points to /clickhouse. Will replace the old symlink to /usr/bin/clickhouse.\n",
            "Creating symlink /usr/bin/clickhouse-local to /usr/bin/clickhouse.\n",
            "Symlink /usr/bin/clickhouse-benchmark already exists but it points to /clickhouse. Will replace the old symlink to /usr/bin/clickhouse.\n",
            "Creating symlink /usr/bin/clickhouse-benchmark to /usr/bin/clickhouse.\n",
            "Symlink /usr/bin/clickhouse-copier already exists but it points to /clickhouse. Will replace the old symlink to /usr/bin/clickhouse.\n",
            "Creating symlink /usr/bin/clickhouse-copier to /usr/bin/clickhouse.\n",
            "Symlink /usr/bin/clickhouse-obfuscator already exists but it points to /clickhouse. Will replace the old symlink to /usr/bin/clickhouse.\n",
            "Creating symlink /usr/bin/clickhouse-obfuscator to /usr/bin/clickhouse.\n",
            "Creating symlink /usr/bin/clickhouse-git-import to /usr/bin/clickhouse.\n",
            "Symlink /usr/bin/clickhouse-compressor already exists but it points to /clickhouse. Will replace the old symlink to /usr/bin/clickhouse.\n",
            "Creating symlink /usr/bin/clickhouse-compressor to /usr/bin/clickhouse.\n",
            "Symlink /usr/bin/clickhouse-format already exists but it points to /clickhouse. Will replace the old symlink to /usr/bin/clickhouse.\n",
            "Creating symlink /usr/bin/clickhouse-format to /usr/bin/clickhouse.\n",
            "Symlink /usr/bin/clickhouse-extract-from-config already exists but it points to /clickhouse. Will replace the old symlink to /usr/bin/clickhouse.\n",
            "Creating symlink /usr/bin/clickhouse-extract-from-config to /usr/bin/clickhouse.\n",
            "Creating clickhouse group if it does not exist.\n",
            " groupadd -r clickhouse\n",
            "Creating clickhouse user if it does not exist.\n",
            " useradd -r --shell /bin/false --home-dir /nonexistent -g clickhouse clickhouse\n",
            "Will set ulimits for clickhouse user in /etc/security/limits.d/clickhouse.conf.\n",
            "Creating config directory /etc/clickhouse-server/config.d that is used for tweaks of main server configuration.\n",
            "Creating config directory /etc/clickhouse-server/users.d that is used for tweaks of users configuration.\n",
            "Config file /etc/clickhouse-server/config.xml already exists, will keep it and extract path info from it.\n",
            "/etc/clickhouse-server/config.xml has /var/lib/clickhouse/ as data path.\n",
            "/etc/clickhouse-server/config.xml has /var/log/clickhouse-server/ as log path.\n",
            "Users config file /etc/clickhouse-server/users.xml already exists, will keep it and extract users info from it.\n",
            " chown --recursive clickhouse:clickhouse '/etc/clickhouse-server'\n",
            "Creating log directory /var/log/clickhouse-server/.\n",
            "Creating data directory /var/lib/clickhouse/.\n",
            "Creating pid directory /var/run/clickhouse-server.\n",
            " chown --recursive clickhouse:clickhouse '/var/log/clickhouse-server/'\n",
            " chown --recursive clickhouse:clickhouse '/var/run/clickhouse-server'\n",
            " chown clickhouse:clickhouse '/var/lib/clickhouse/'\n",
            "Password for default user is empty string. See /etc/clickhouse-server/users.xml and /etc/clickhouse-server/users.d to change it.\n",
            "Setting capabilities for clickhouse binary. This is optional.\n",
            " command -v setcap >/dev/null && echo > /tmp/test_setcap.sh && chmod a+x /tmp/test_setcap.sh && /tmp/test_setcap.sh && setcap 'cap_net_admin,cap_ipc_lock,cap_sys_nice+ep' /tmp/test_setcap.sh && /tmp/test_setcap.sh && rm /tmp/test_setcap.sh && setcap 'cap_net_admin,cap_ipc_lock,cap_sys_nice+ep' /usr/bin/clickhouse || echo \"Cannot set 'net_admin' or 'ipc_lock' or 'sys_nice' capability for clickhouse binary. This is optional. Taskstats accounting will be disabled. To enable taskstats accounting you may add the required capability later manually.\"\n",
            "sh: 1: /tmp/test_setcap.sh: Operation not permitted\n",
            "Cannot set 'net_admin' or 'ipc_lock' or 'sys_nice' capability for clickhouse binary. This is optional. Taskstats accounting will be disabled. To enable taskstats accounting you may add the required capability later manually.\n",
            "\n",
            "ClickHouse has been successfully installed.\n",
            "\n",
            "Start clickhouse-server with:\n",
            " sudo clickhouse start\n",
            "\n",
            "Start clickhouse-client with:\n",
            " clickhouse-client\n",
            "\n",
            "Setting up clickhouse-client (21.3.3.14) ...\n",
            "Processing triggers for man-db (2.8.3-2ubuntu0.1) ...\n",
            "Processing triggers for systemd (237-3ubuntu10.44) ...\n",
            " chown --recursive clickhouse '/var/run/clickhouse-server/'\n",
            "Will run su -s /bin/sh 'clickhouse' -c '/usr/bin/clickhouse-server --config-file /etc/clickhouse-server/config.xml --pid-file /var/run/clickhouse-server/clickhouse-server.pid --daemon'\n",
            "Waiting for server to start\n",
            "Waiting for server to start\n",
            "Server started\n",
            "src/tcmalloc.cc:283] Attempt to free invalid pointer 0x7f41bd41f000 \n"
          ],
          "name": "stdout"
        }
      ]
    },
    {
      "cell_type": "code",
      "metadata": {
        "colab": {
          "base_uri": "https://localhost:8080/"
        },
        "id": "Zds7FaMAjdav",
        "outputId": "0d72d208-c2c9-4121-ed97-de381a714188"
      },
      "source": [
        "!pip install clickhouse-driver"
      ],
      "execution_count": 2,
      "outputs": [
        {
          "output_type": "stream",
          "text": [
            "Collecting clickhouse-driver\n",
            "\u001b[?25l  Downloading https://files.pythonhosted.org/packages/7d/33/16f13d59d084ab3f38ef4c8f6906834d1a004c03ef2f68714ae22e42a3d6/clickhouse_driver-0.2.0-cp37-cp37m-manylinux2010_x86_64.whl (480kB)\n",
            "\r\u001b[K     |▊                               | 10kB 15.9MB/s eta 0:00:01\r\u001b[K     |█▍                              | 20kB 20.6MB/s eta 0:00:01\r\u001b[K     |██                              | 30kB 16.9MB/s eta 0:00:01\r\u001b[K     |██▊                             | 40kB 14.6MB/s eta 0:00:01\r\u001b[K     |███▍                            | 51kB 14.1MB/s eta 0:00:01\r\u001b[K     |████                            | 61kB 15.1MB/s eta 0:00:01\r\u001b[K     |████▊                           | 71kB 12.1MB/s eta 0:00:01\r\u001b[K     |█████▌                          | 81kB 12.9MB/s eta 0:00:01\r\u001b[K     |██████▏                         | 92kB 11.5MB/s eta 0:00:01\r\u001b[K     |██████▉                         | 102kB 11.9MB/s eta 0:00:01\r\u001b[K     |███████▌                        | 112kB 11.9MB/s eta 0:00:01\r\u001b[K     |████████▏                       | 122kB 11.9MB/s eta 0:00:01\r\u001b[K     |████████▉                       | 133kB 11.9MB/s eta 0:00:01\r\u001b[K     |█████████▌                      | 143kB 11.9MB/s eta 0:00:01\r\u001b[K     |██████████▎                     | 153kB 11.9MB/s eta 0:00:01\r\u001b[K     |███████████                     | 163kB 11.9MB/s eta 0:00:01\r\u001b[K     |███████████▋                    | 174kB 11.9MB/s eta 0:00:01\r\u001b[K     |████████████▎                   | 184kB 11.9MB/s eta 0:00:01\r\u001b[K     |█████████████                   | 194kB 11.9MB/s eta 0:00:01\r\u001b[K     |█████████████▋                  | 204kB 11.9MB/s eta 0:00:01\r\u001b[K     |██████████████▎                 | 215kB 11.9MB/s eta 0:00:01\r\u001b[K     |███████████████                 | 225kB 11.9MB/s eta 0:00:01\r\u001b[K     |███████████████▊                | 235kB 11.9MB/s eta 0:00:01\r\u001b[K     |████████████████▍               | 245kB 11.9MB/s eta 0:00:01\r\u001b[K     |█████████████████               | 256kB 11.9MB/s eta 0:00:01\r\u001b[K     |█████████████████▊              | 266kB 11.9MB/s eta 0:00:01\r\u001b[K     |██████████████████▍             | 276kB 11.9MB/s eta 0:00:01\r\u001b[K     |███████████████████             | 286kB 11.9MB/s eta 0:00:01\r\u001b[K     |███████████████████▉            | 296kB 11.9MB/s eta 0:00:01\r\u001b[K     |████████████████████▌           | 307kB 11.9MB/s eta 0:00:01\r\u001b[K     |█████████████████████▏          | 317kB 11.9MB/s eta 0:00:01\r\u001b[K     |█████████████████████▉          | 327kB 11.9MB/s eta 0:00:01\r\u001b[K     |██████████████████████▌         | 337kB 11.9MB/s eta 0:00:01\r\u001b[K     |███████████████████████▏        | 348kB 11.9MB/s eta 0:00:01\r\u001b[K     |███████████████████████▉        | 358kB 11.9MB/s eta 0:00:01\r\u001b[K     |████████████████████████▋       | 368kB 11.9MB/s eta 0:00:01\r\u001b[K     |█████████████████████████▎      | 378kB 11.9MB/s eta 0:00:01\r\u001b[K     |██████████████████████████      | 389kB 11.9MB/s eta 0:00:01\r\u001b[K     |██████████████████████████▋     | 399kB 11.9MB/s eta 0:00:01\r\u001b[K     |███████████████████████████▎    | 409kB 11.9MB/s eta 0:00:01\r\u001b[K     |████████████████████████████    | 419kB 11.9MB/s eta 0:00:01\r\u001b[K     |████████████████████████████▋   | 430kB 11.9MB/s eta 0:00:01\r\u001b[K     |█████████████████████████████▍  | 440kB 11.9MB/s eta 0:00:01\r\u001b[K     |██████████████████████████████  | 450kB 11.9MB/s eta 0:00:01\r\u001b[K     |██████████████████████████████▊ | 460kB 11.9MB/s eta 0:00:01\r\u001b[K     |███████████████████████████████▍| 471kB 11.9MB/s eta 0:00:01\r\u001b[K     |████████████████████████████████| 481kB 11.9MB/s \n",
            "\u001b[?25hRequirement already satisfied: tzlocal<3.0 in /usr/local/lib/python3.7/dist-packages (from clickhouse-driver) (1.5.1)\n",
            "Requirement already satisfied: pytz in /usr/local/lib/python3.7/dist-packages (from clickhouse-driver) (2018.9)\n",
            "Installing collected packages: clickhouse-driver\n",
            "Successfully installed clickhouse-driver-0.2.0\n"
          ],
          "name": "stdout"
        }
      ]
    },
    {
      "cell_type": "code",
      "metadata": {
        "colab": {
          "base_uri": "https://localhost:8080/"
        },
        "id": "5zu_hH00juPO",
        "outputId": "82bda7bf-36a0-49f8-c054-4899b4c5c73c"
      },
      "source": [
        "from clickhouse_driver import Client\n",
        "client = Client(host='localhost')\n",
        "client.execute('SHOW DATABASES')"
      ],
      "execution_count": 30,
      "outputs": [
        {
          "output_type": "execute_result",
          "data": {
            "text/plain": [
              "[('db_movies',), ('default',), ('system',)]"
            ]
          },
          "metadata": {
            "tags": []
          },
          "execution_count": 30
        }
      ]
    },
    {
      "cell_type": "markdown",
      "metadata": {
        "id": "CoG20De9xRKY"
      },
      "source": [
        "# Загрузка датасетов"
      ]
    },
    {
      "cell_type": "code",
      "metadata": {
        "id": "GoznPZ9Rj6NO"
      },
      "source": [
        "import pandas as pd\n",
        "import numpy as np"
      ],
      "execution_count": 4,
      "outputs": []
    },
    {
      "cell_type": "code",
      "metadata": {
        "id": "Tipg7Nw3lZXB"
      },
      "source": [
        "df_ratings = pd.read_csv('drive/MyDrive/dataset/ratings.csv')"
      ],
      "execution_count": 14,
      "outputs": []
    },
    {
      "cell_type": "code",
      "metadata": {
        "id": "4In66EXwpzFA"
      },
      "source": [
        "df_ratings['date'] = pd.to_datetime(df_ratings['timestamp'],unit='s')"
      ],
      "execution_count": 15,
      "outputs": []
    },
    {
      "cell_type": "code",
      "metadata": {
        "id": "TKXsmVvmp3Pe"
      },
      "source": [
        "df_ratings = df_ratings[['date','userId','movieId','rating']]\n",
        "df_ratings.columns = ['date','userid','movieid','rating']"
      ],
      "execution_count": 16,
      "outputs": []
    },
    {
      "cell_type": "code",
      "metadata": {
        "colab": {
          "base_uri": "https://localhost:8080/",
          "height": 204
        },
        "id": "GLhFwJ5bmJXf",
        "outputId": "fc10373b-e848-4c83-ab9a-f9c3941dabb9"
      },
      "source": [
        "df_ratings.head()"
      ],
      "execution_count": 17,
      "outputs": [
        {
          "output_type": "execute_result",
          "data": {
            "text/html": [
              "<div>\n",
              "<style scoped>\n",
              "    .dataframe tbody tr th:only-of-type {\n",
              "        vertical-align: middle;\n",
              "    }\n",
              "\n",
              "    .dataframe tbody tr th {\n",
              "        vertical-align: top;\n",
              "    }\n",
              "\n",
              "    .dataframe thead th {\n",
              "        text-align: right;\n",
              "    }\n",
              "</style>\n",
              "<table border=\"1\" class=\"dataframe\">\n",
              "  <thead>\n",
              "    <tr style=\"text-align: right;\">\n",
              "      <th></th>\n",
              "      <th>date</th>\n",
              "      <th>userid</th>\n",
              "      <th>movieid</th>\n",
              "      <th>rating</th>\n",
              "    </tr>\n",
              "  </thead>\n",
              "  <tbody>\n",
              "    <tr>\n",
              "      <th>0</th>\n",
              "      <td>2009-12-14 02:52:24</td>\n",
              "      <td>1</td>\n",
              "      <td>31</td>\n",
              "      <td>2.5</td>\n",
              "    </tr>\n",
              "    <tr>\n",
              "      <th>1</th>\n",
              "      <td>2009-12-14 02:52:59</td>\n",
              "      <td>1</td>\n",
              "      <td>1029</td>\n",
              "      <td>3.0</td>\n",
              "    </tr>\n",
              "    <tr>\n",
              "      <th>2</th>\n",
              "      <td>2009-12-14 02:53:02</td>\n",
              "      <td>1</td>\n",
              "      <td>1061</td>\n",
              "      <td>3.0</td>\n",
              "    </tr>\n",
              "    <tr>\n",
              "      <th>3</th>\n",
              "      <td>2009-12-14 02:53:05</td>\n",
              "      <td>1</td>\n",
              "      <td>1129</td>\n",
              "      <td>2.0</td>\n",
              "    </tr>\n",
              "    <tr>\n",
              "      <th>4</th>\n",
              "      <td>2009-12-14 02:53:25</td>\n",
              "      <td>1</td>\n",
              "      <td>1172</td>\n",
              "      <td>4.0</td>\n",
              "    </tr>\n",
              "  </tbody>\n",
              "</table>\n",
              "</div>"
            ],
            "text/plain": [
              "                 date  userid  movieid  rating\n",
              "0 2009-12-14 02:52:24       1       31     2.5\n",
              "1 2009-12-14 02:52:59       1     1029     3.0\n",
              "2 2009-12-14 02:53:02       1     1061     3.0\n",
              "3 2009-12-14 02:53:05       1     1129     2.0\n",
              "4 2009-12-14 02:53:25       1     1172     4.0"
            ]
          },
          "metadata": {
            "tags": []
          },
          "execution_count": 17
        }
      ]
    },
    {
      "cell_type": "code",
      "metadata": {
        "colab": {
          "base_uri": "https://localhost:8080/"
        },
        "id": "xmHEX2_fmjsf",
        "outputId": "e3b8a887-257b-4f09-86ee-2b7d02ccd237"
      },
      "source": [
        "df_ratings.isnull().sum()"
      ],
      "execution_count": 19,
      "outputs": [
        {
          "output_type": "execute_result",
          "data": {
            "text/plain": [
              "date       0\n",
              "userid     0\n",
              "movieid    0\n",
              "rating     0\n",
              "dtype: int64"
            ]
          },
          "metadata": {
            "tags": []
          },
          "execution_count": 19
        }
      ]
    },
    {
      "cell_type": "code",
      "metadata": {
        "colab": {
          "base_uri": "https://localhost:8080/"
        },
        "id": "DB8-BfVEsKI3",
        "outputId": "43f8c113-a75a-4be0-a813-2af8c79aaea2"
      },
      "source": [
        "df_ratings.info()"
      ],
      "execution_count": 20,
      "outputs": [
        {
          "output_type": "stream",
          "text": [
            "<class 'pandas.core.frame.DataFrame'>\n",
            "RangeIndex: 100004 entries, 0 to 100003\n",
            "Data columns (total 4 columns):\n",
            " #   Column   Non-Null Count   Dtype         \n",
            "---  ------   --------------   -----         \n",
            " 0   date     100004 non-null  datetime64[ns]\n",
            " 1   userid   100004 non-null  int64         \n",
            " 2   movieid  100004 non-null  int64         \n",
            " 3   rating   100004 non-null  float64       \n",
            "dtypes: datetime64[ns](1), float64(1), int64(2)\n",
            "memory usage: 3.1 MB\n"
          ],
          "name": "stdout"
        }
      ]
    },
    {
      "cell_type": "code",
      "metadata": {
        "id": "TwYQDCmgsTK-"
      },
      "source": [
        "usecols = ['id','title']\n",
        "df_movies = pd.read_csv('drive/MyDrive/dataset/movies.csv',usecols=usecols)"
      ],
      "execution_count": 53,
      "outputs": []
    },
    {
      "cell_type": "code",
      "metadata": {
        "colab": {
          "base_uri": "https://localhost:8080/",
          "height": 204
        },
        "id": "S9ZQFTZ8uW3O",
        "outputId": "88933744-9dc2-4104-8c94-2573526661fa"
      },
      "source": [
        "df_movies.head()"
      ],
      "execution_count": 54,
      "outputs": [
        {
          "output_type": "execute_result",
          "data": {
            "text/html": [
              "<div>\n",
              "<style scoped>\n",
              "    .dataframe tbody tr th:only-of-type {\n",
              "        vertical-align: middle;\n",
              "    }\n",
              "\n",
              "    .dataframe tbody tr th {\n",
              "        vertical-align: top;\n",
              "    }\n",
              "\n",
              "    .dataframe thead th {\n",
              "        text-align: right;\n",
              "    }\n",
              "</style>\n",
              "<table border=\"1\" class=\"dataframe\">\n",
              "  <thead>\n",
              "    <tr style=\"text-align: right;\">\n",
              "      <th></th>\n",
              "      <th>id</th>\n",
              "      <th>title</th>\n",
              "    </tr>\n",
              "  </thead>\n",
              "  <tbody>\n",
              "    <tr>\n",
              "      <th>0</th>\n",
              "      <td>862</td>\n",
              "      <td>Toy Story</td>\n",
              "    </tr>\n",
              "    <tr>\n",
              "      <th>1</th>\n",
              "      <td>8844</td>\n",
              "      <td>Jumanji</td>\n",
              "    </tr>\n",
              "    <tr>\n",
              "      <th>2</th>\n",
              "      <td>15602</td>\n",
              "      <td>Grumpier Old Men</td>\n",
              "    </tr>\n",
              "    <tr>\n",
              "      <th>3</th>\n",
              "      <td>31357</td>\n",
              "      <td>Waiting to Exhale</td>\n",
              "    </tr>\n",
              "    <tr>\n",
              "      <th>4</th>\n",
              "      <td>11862</td>\n",
              "      <td>Father of the Bride Part II</td>\n",
              "    </tr>\n",
              "  </tbody>\n",
              "</table>\n",
              "</div>"
            ],
            "text/plain": [
              "      id                        title\n",
              "0    862                    Toy Story\n",
              "1   8844                      Jumanji\n",
              "2  15602             Grumpier Old Men\n",
              "3  31357            Waiting to Exhale\n",
              "4  11862  Father of the Bride Part II"
            ]
          },
          "metadata": {
            "tags": []
          },
          "execution_count": 54
        }
      ]
    },
    {
      "cell_type": "code",
      "metadata": {
        "colab": {
          "base_uri": "https://localhost:8080/"
        },
        "id": "ZNv6weWptVIO",
        "outputId": "cc70985b-e8a7-4163-8d9f-935c849d09ed"
      },
      "source": [
        "df_movies.info()"
      ],
      "execution_count": 55,
      "outputs": [
        {
          "output_type": "stream",
          "text": [
            "<class 'pandas.core.frame.DataFrame'>\n",
            "RangeIndex: 45466 entries, 0 to 45465\n",
            "Data columns (total 2 columns):\n",
            " #   Column  Non-Null Count  Dtype \n",
            "---  ------  --------------  ----- \n",
            " 0   id      45466 non-null  object\n",
            " 1   title   45460 non-null  object\n",
            "dtypes: object(2)\n",
            "memory usage: 710.5+ KB\n"
          ],
          "name": "stdout"
        }
      ]
    },
    {
      "cell_type": "code",
      "metadata": {
        "id": "f8bMhAET6h8v"
      },
      "source": [
        "df_movies.id = pd.to_numeric(df_movies.id , errors='coerce').astype('Int32')"
      ],
      "execution_count": 56,
      "outputs": []
    },
    {
      "cell_type": "code",
      "metadata": {
        "colab": {
          "base_uri": "https://localhost:8080/"
        },
        "id": "DADeNgr07A63",
        "outputId": "78839987-1e67-4364-a593-54e88c0fa7f6"
      },
      "source": [
        "df_movies.info()"
      ],
      "execution_count": 57,
      "outputs": [
        {
          "output_type": "stream",
          "text": [
            "<class 'pandas.core.frame.DataFrame'>\n",
            "RangeIndex: 45466 entries, 0 to 45465\n",
            "Data columns (total 2 columns):\n",
            " #   Column  Non-Null Count  Dtype \n",
            "---  ------  --------------  ----- \n",
            " 0   id      45463 non-null  Int32 \n",
            " 1   title   45460 non-null  object\n",
            "dtypes: Int32(1), object(1)\n",
            "memory usage: 577.3+ KB\n"
          ],
          "name": "stdout"
        }
      ]
    },
    {
      "cell_type": "code",
      "metadata": {
        "colab": {
          "base_uri": "https://localhost:8080/"
        },
        "id": "pdX8saKsuVtQ",
        "outputId": "a50d87cd-ff3e-4248-8663-8b551d879b08"
      },
      "source": [
        "df_movies.isnull().sum()"
      ],
      "execution_count": 58,
      "outputs": [
        {
          "output_type": "execute_result",
          "data": {
            "text/plain": [
              "id       3\n",
              "title    6\n",
              "dtype: int64"
            ]
          },
          "metadata": {
            "tags": []
          },
          "execution_count": 58
        }
      ]
    },
    {
      "cell_type": "code",
      "metadata": {
        "id": "hRdwHk3hunIQ"
      },
      "source": [
        "df_movies = df_movies.dropna()"
      ],
      "execution_count": 59,
      "outputs": []
    },
    {
      "cell_type": "code",
      "metadata": {
        "colab": {
          "base_uri": "https://localhost:8080/"
        },
        "id": "_JncAEeDvCzO",
        "outputId": "3d51c189-41a5-4ecb-9fa4-dba98f78d837"
      },
      "source": [
        "df_movies.isnull().sum()"
      ],
      "execution_count": 60,
      "outputs": [
        {
          "output_type": "execute_result",
          "data": {
            "text/plain": [
              "id       0\n",
              "title    0\n",
              "dtype: int64"
            ]
          },
          "metadata": {
            "tags": []
          },
          "execution_count": 60
        }
      ]
    },
    {
      "cell_type": "markdown",
      "metadata": {
        "id": "nrL80_0oxeSV"
      },
      "source": [
        "# Добавление новой БД и запись значений"
      ]
    },
    {
      "cell_type": "code",
      "metadata": {
        "colab": {
          "base_uri": "https://localhost:8080/"
        },
        "id": "pzC7fxdux6we",
        "outputId": "f6cd6c0d-80fa-48c3-d467-23f4184c4dbf"
      },
      "source": [
        "# client.execute('CREATE DATABASE db_movies')\n",
        "client.execute('SHOW DATABASES')"
      ],
      "execution_count": 32,
      "outputs": [
        {
          "output_type": "execute_result",
          "data": {
            "text/plain": [
              "[('db_movies',), ('default',), ('system',)]"
            ]
          },
          "metadata": {
            "tags": []
          },
          "execution_count": 32
        }
      ]
    },
    {
      "cell_type": "code",
      "metadata": {
        "id": "Y2I31490y0s-"
      },
      "source": [
        "client = Client(host='localhost', user='default', port='9000', database='db_movies')"
      ],
      "execution_count": 33,
      "outputs": []
    },
    {
      "cell_type": "code",
      "metadata": {
        "colab": {
          "base_uri": "https://localhost:8080/"
        },
        "id": "cycgQb5ZzPl_",
        "outputId": "10359262-6197-45e6-aa01-46917a3c30c6"
      },
      "source": [
        "client.execute('SHOW DATABASES')"
      ],
      "execution_count": 34,
      "outputs": [
        {
          "output_type": "execute_result",
          "data": {
            "text/plain": [
              "[('db_movies',), ('default',), ('system',)]"
            ]
          },
          "metadata": {
            "tags": []
          },
          "execution_count": 34
        }
      ]
    },
    {
      "cell_type": "code",
      "metadata": {
        "id": "nqPpBXI_zR9Q"
      },
      "source": [
        "client.execute('DROP TABLE IF EXISTS ratings')"
      ],
      "execution_count": null,
      "outputs": []
    },
    {
      "cell_type": "code",
      "metadata": {
        "colab": {
          "base_uri": "https://localhost:8080/"
        },
        "id": "vk7LhIYtzeZA",
        "outputId": "0f36478d-97ff-475a-88a3-43b5c06dacee"
      },
      "source": [
        "client.execute('CREATE TABLE ratings (date Date, userid Int32, movieid Int32, rating Float32  ) ENGINE = Memory')"
      ],
      "execution_count": 35,
      "outputs": [
        {
          "output_type": "execute_result",
          "data": {
            "text/plain": [
              "[]"
            ]
          },
          "metadata": {
            "tags": []
          },
          "execution_count": 35
        }
      ]
    },
    {
      "cell_type": "code",
      "metadata": {
        "colab": {
          "base_uri": "https://localhost:8080/"
        },
        "id": "M5Hj1qkz0mon",
        "outputId": "dbf3e64e-f941-4cf8-be8e-db85a3cc4b4a"
      },
      "source": [
        "client.execute('SHOW TABLES FROM db_movies')"
      ],
      "execution_count": 36,
      "outputs": [
        {
          "output_type": "execute_result",
          "data": {
            "text/plain": [
              "[('ratings',)]"
            ]
          },
          "metadata": {
            "tags": []
          },
          "execution_count": 36
        }
      ]
    },
    {
      "cell_type": "code",
      "metadata": {
        "colab": {
          "base_uri": "https://localhost:8080/"
        },
        "id": "efFzKyld3i7n",
        "outputId": "8ee448b4-f4f0-4afd-89bc-3f2e7f06e26c"
      },
      "source": [
        "client.execute(\"INSERT INTO ratings VALUES\", df_ratings.to_dict('records'))"
      ],
      "execution_count": 42,
      "outputs": [
        {
          "output_type": "execute_result",
          "data": {
            "text/plain": [
              "100004"
            ]
          },
          "metadata": {
            "tags": []
          },
          "execution_count": 42
        }
      ]
    },
    {
      "cell_type": "code",
      "metadata": {
        "colab": {
          "base_uri": "https://localhost:8080/"
        },
        "id": "UDGoc3OZ3tTW",
        "outputId": "6e46aa37-7519-43fa-e3de-d58930f75654"
      },
      "source": [
        "client.execute('SELECT * FROM ratings LIMIT 5')"
      ],
      "execution_count": 43,
      "outputs": [
        {
          "output_type": "execute_result",
          "data": {
            "text/plain": [
              "[(datetime.date(2009, 12, 14), 1, 31, 2.5),\n",
              " (datetime.date(2009, 12, 14), 1, 1029, 3.0),\n",
              " (datetime.date(2009, 12, 14), 1, 1061, 3.0),\n",
              " (datetime.date(2009, 12, 14), 1, 1129, 2.0),\n",
              " (datetime.date(2009, 12, 14), 1, 1172, 4.0)]"
            ]
          },
          "metadata": {
            "tags": []
          },
          "execution_count": 43
        }
      ]
    },
    {
      "cell_type": "code",
      "metadata": {
        "colab": {
          "base_uri": "https://localhost:8080/"
        },
        "id": "186IpOfr4cfm",
        "outputId": "7a7567c5-4627-40d8-f609-b891309653b3"
      },
      "source": [
        "client.execute('DROP TABLE IF EXISTS movies')"
      ],
      "execution_count": 44,
      "outputs": [
        {
          "output_type": "execute_result",
          "data": {
            "text/plain": [
              "[]"
            ]
          },
          "metadata": {
            "tags": []
          },
          "execution_count": 44
        }
      ]
    },
    {
      "cell_type": "code",
      "metadata": {
        "colab": {
          "base_uri": "https://localhost:8080/"
        },
        "id": "NjkOKFKZ43X_",
        "outputId": "e1da1ce3-23a5-4e95-9015-75bea7e2991f"
      },
      "source": [
        "client.execute('CREATE TABLE movies (id Int32, title String ) ENGINE = Memory')"
      ],
      "execution_count": 45,
      "outputs": [
        {
          "output_type": "execute_result",
          "data": {
            "text/plain": [
              "[]"
            ]
          },
          "metadata": {
            "tags": []
          },
          "execution_count": 45
        }
      ]
    },
    {
      "cell_type": "code",
      "metadata": {
        "colab": {
          "base_uri": "https://localhost:8080/"
        },
        "id": "ysmfTFR95_TI",
        "outputId": "d048b5ca-3146-480c-b7bf-709c6167552a"
      },
      "source": [
        "client.execute('SHOW TABLES FROM db_movies')"
      ],
      "execution_count": 46,
      "outputs": [
        {
          "output_type": "execute_result",
          "data": {
            "text/plain": [
              "[('movies',), ('ratings',)]"
            ]
          },
          "metadata": {
            "tags": []
          },
          "execution_count": 46
        }
      ]
    },
    {
      "cell_type": "code",
      "metadata": {
        "colab": {
          "base_uri": "https://localhost:8080/"
        },
        "id": "fmMod_If6Adu",
        "outputId": "6d37defe-c0e9-4712-9e3d-653bd8cfb651"
      },
      "source": [
        "client.execute(\"INSERT INTO movies VALUES\", df_movies.to_dict('records'))"
      ],
      "execution_count": 61,
      "outputs": [
        {
          "output_type": "execute_result",
          "data": {
            "text/plain": [
              "45460"
            ]
          },
          "metadata": {
            "tags": []
          },
          "execution_count": 61
        }
      ]
    },
    {
      "cell_type": "code",
      "metadata": {
        "colab": {
          "base_uri": "https://localhost:8080/"
        },
        "id": "2quRTKGM8X_A",
        "outputId": "4d56dd7c-612c-4094-97b6-d75dca7108b1"
      },
      "source": [
        "client.execute('SELECT * FROM movies LIMIT 5')"
      ],
      "execution_count": 62,
      "outputs": [
        {
          "output_type": "execute_result",
          "data": {
            "text/plain": [
              "[(862, 'Toy Story'),\n",
              " (8844, 'Jumanji'),\n",
              " (15602, 'Grumpier Old Men'),\n",
              " (31357, 'Waiting to Exhale'),\n",
              " (11862, 'Father of the Bride Part II')]"
            ]
          },
          "metadata": {
            "tags": []
          },
          "execution_count": 62
        }
      ]
    },
    {
      "cell_type": "markdown",
      "metadata": {
        "id": "PnGUR1CJ8lq4"
      },
      "source": [
        "# Запросы к БД"
      ]
    },
    {
      "cell_type": "code",
      "metadata": {
        "colab": {
          "base_uri": "https://localhost:8080/"
        },
        "id": "CIoS99Pf8toO",
        "outputId": "1d571d28-7dde-4814-982c-1103de1aeb22"
      },
      "source": [
        "client.execute('SELECT r.*,  \\\n",
        "                      m.title \\\n",
        "                FROM  \\\n",
        "                    (SELECT ratings.movieid,  \\\n",
        "                            count(ratings.rating) as count,  \\\n",
        "                            avg(ratings.rating) as avg \\\n",
        "                    FROM ratings \\\n",
        "                    GROUP BY ratings.movieid  \\\n",
        "                    ORDER BY count(ratings.rating) DESC, \\\n",
        "                            avg(ratings.rating) DESC) as r  \\\n",
        "                    LEFT JOIN movies as m ON r.movieid = m.id \\\n",
        "                LIMIT 10')"
      ],
      "execution_count": 99,
      "outputs": [
        {
          "output_type": "execute_result",
          "data": {
            "text/plain": [
              "[(356, 341, 4.05425219941349, ''),\n",
              " (296, 324, 4.256172839506172, 'Terminator 3: Rise of the Machines'),\n",
              " (318, 311, 4.487138263665595, 'The Million Dollar Hotel'),\n",
              " (593, 304, 4.1381578947368425, 'Solaris'),\n",
              " (260, 291, 4.221649484536083, 'The 39 Steps'),\n",
              " (480, 274, 3.7062043795620436, 'Monsoon Wedding'),\n",
              " (2571, 259, 4.183397683397684, ''),\n",
              " (1, 247, 3.8724696356275303, ''),\n",
              " (527, 244, 4.30327868852459, 'Once Were Warriors'),\n",
              " (589, 237, 4.006329113924051, '')]"
            ]
          },
          "metadata": {
            "tags": []
          },
          "execution_count": 99
        }
      ]
    }
  ]
}