{
  "nbformat": 4,
  "nbformat_minor": 0,
  "metadata": {
    "colab": {
      "name": "google_colab_clickhouse_window_functions.ipynb",
      "provenance": [],
      "collapsed_sections": []
    },
    "kernelspec": {
      "name": "python3",
      "display_name": "Python 3"
    },
    "language_info": {
      "name": "python"
    }
  },
  "cells": [
    {
      "cell_type": "code",
      "metadata": {
        "id": "T6zN9XP0fVaV",
        "colab": {
          "base_uri": "https://localhost:8080/"
        },
        "outputId": "72e185b5-b316-40ea-8db6-55b2436d0fd9"
      },
      "source": [
        "!sudo apt-get install apt-transport-https ca-certificates dirmngr\n",
        "!sudo apt-key adv --keyserver hkp://keyserver.ubuntu.com:80 --recv E0C56BD4\n",
        "\n",
        "!echo \"deb https://repo.clickhouse.tech/deb/stable/ main/\" | sudo tee \\\n",
        "    /etc/apt/sources.list.d/clickhouse.list\n",
        "!sudo apt-get update\n",
        "\n",
        "!sudo apt-get install -y clickhouse-server clickhouse-client\n",
        "\n",
        "!sudo service clickhouse-server start\n",
        "!clickhouse-client"
      ],
      "execution_count": 1,
      "outputs": [
        {
          "output_type": "stream",
          "text": [
            "Reading package lists... Done\n",
            "Building dependency tree       \n",
            "Reading state information... Done\n",
            "ca-certificates is already the newest version (20210119~18.04.1).\n",
            "dirmngr is already the newest version (2.2.4-1ubuntu1.4).\n",
            "The following NEW packages will be installed:\n",
            "  apt-transport-https\n",
            "0 upgraded, 1 newly installed, 0 to remove and 30 not upgraded.\n",
            "Need to get 1,696 B of archives.\n",
            "After this operation, 153 kB of additional disk space will be used.\n",
            "Get:1 http://archive.ubuntu.com/ubuntu bionic-updates/universe amd64 apt-transport-https all 1.6.12ubuntu0.2 [1,696 B]\n",
            "Fetched 1,696 B in 0s (9,068 B/s)\n",
            "debconf: unable to initialize frontend: Dialog\n",
            "debconf: (No usable dialog-like program is installed, so the dialog based frontend cannot be used. at /usr/share/perl5/Debconf/FrontEnd/Dialog.pm line 76, <> line 1.)\n",
            "debconf: falling back to frontend: Readline\n",
            "debconf: unable to initialize frontend: Readline\n",
            "debconf: (This frontend requires a controlling tty.)\n",
            "debconf: falling back to frontend: Teletype\n",
            "dpkg-preconfigure: unable to re-open stdin: \n",
            "Selecting previously unselected package apt-transport-https.\n",
            "(Reading database ... 160980 files and directories currently installed.)\n",
            "Preparing to unpack .../apt-transport-https_1.6.12ubuntu0.2_all.deb ...\n",
            "Unpacking apt-transport-https (1.6.12ubuntu0.2) ...\n",
            "Setting up apt-transport-https (1.6.12ubuntu0.2) ...\n",
            "Executing: /tmp/apt-key-gpghome.U9sySYwina/gpg.1.sh --keyserver hkp://keyserver.ubuntu.com:80 --recv E0C56BD4\n",
            "gpg: key C8F1E19FE0C56BD4: public key \"ClickHouse Repository Key <milovidov@yandex-team.ru>\" imported\n",
            "gpg: Total number processed: 1\n",
            "gpg:               imported: 1\n",
            "deb https://repo.clickhouse.tech/deb/stable/ main/\n",
            "Ign:1 https://developer.download.nvidia.com/compute/cuda/repos/ubuntu1804/x86_64  InRelease\n",
            "Get:2 https://cloud.r-project.org/bin/linux/ubuntu bionic-cran40/ InRelease [3,626 B]\n",
            "Get:3 http://ppa.launchpad.net/c2d4u.team/c2d4u4.0+/ubuntu bionic InRelease [15.9 kB]\n",
            "Get:4 http://security.ubuntu.com/ubuntu bionic-security InRelease [88.7 kB]\n",
            "Hit:5 http://archive.ubuntu.com/ubuntu bionic InRelease\n",
            "Ign:6 https://developer.download.nvidia.com/compute/machine-learning/repos/ubuntu1804/x86_64  InRelease\n",
            "Hit:7 https://developer.download.nvidia.com/compute/cuda/repos/ubuntu1804/x86_64  Release\n",
            "Hit:8 https://developer.download.nvidia.com/compute/machine-learning/repos/ubuntu1804/x86_64  Release\n",
            "Ign:9 https://repo.clickhouse.tech/deb/stable main/ InRelease\n",
            "Get:10 http://archive.ubuntu.com/ubuntu bionic-updates InRelease [88.7 kB]\n",
            "Get:11 https://cloud.r-project.org/bin/linux/ubuntu bionic-cran40/ Packages [52.7 kB]\n",
            "Hit:12 http://ppa.launchpad.net/cran/libgit2/ubuntu bionic InRelease\n",
            "Get:13 https://repo.clickhouse.tech/deb/stable main/ Release [749 B]\n",
            "Get:15 https://repo.clickhouse.tech/deb/stable main/ Release.gpg [836 B]\n",
            "Get:16 http://archive.ubuntu.com/ubuntu bionic-backports InRelease [74.6 kB]\n",
            "Hit:17 http://ppa.launchpad.net/deadsnakes/ppa/ubuntu bionic InRelease\n",
            "Hit:19 http://ppa.launchpad.net/graphics-drivers/ppa/ubuntu bionic InRelease\n",
            "Get:20 http://security.ubuntu.com/ubuntu bionic-security/main amd64 Packages [2,045 kB]\n",
            "Get:21 http://ppa.launchpad.net/c2d4u.team/c2d4u4.0+/ubuntu bionic/main Sources [1,749 kB]\n",
            "Get:22 http://archive.ubuntu.com/ubuntu bionic-updates/universe amd64 Packages [2,170 kB]\n",
            "Get:23 http://archive.ubuntu.com/ubuntu bionic-updates/main amd64 Packages [2,475 kB]\n",
            "Get:24 https://repo.clickhouse.tech/deb/stable main/ Packages [168 kB]\n",
            "Get:25 http://ppa.launchpad.net/c2d4u.team/c2d4u4.0+/ubuntu bionic/main amd64 Packages [895 kB]\n",
            "Get:26 http://security.ubuntu.com/ubuntu bionic-security/universe amd64 Packages [1,402 kB]\n",
            "Fetched 11.2 MB in 3s (4,405 kB/s)\n",
            "Reading package lists... Done\n",
            "Reading package lists... Done\n",
            "Building dependency tree       \n",
            "Reading state information... Done\n",
            "The following additional packages will be installed:\n",
            "  clickhouse-common-static libcap2-bin libpam-cap\n",
            "Suggested packages:\n",
            "  clickhouse-common-static-dbg\n",
            "The following NEW packages will be installed:\n",
            "  clickhouse-client clickhouse-common-static clickhouse-server libcap2-bin\n",
            "  libpam-cap\n",
            "0 upgraded, 5 newly installed, 0 to remove and 50 not upgraded.\n",
            "Need to get 126 MB of archives.\n",
            "After this operation, 428 MB of additional disk space will be used.\n",
            "Get:1 http://archive.ubuntu.com/ubuntu bionic/main amd64 libcap2-bin amd64 1:2.25-1.2 [20.6 kB]\n",
            "Get:2 https://repo.clickhouse.tech/deb/stable main/ clickhouse-common-static 21.3.4.25 [126 MB]\n",
            "Get:3 http://archive.ubuntu.com/ubuntu bionic/main amd64 libpam-cap amd64 1:2.25-1.2 [7,268 B]\n",
            "Get:4 https://repo.clickhouse.tech/deb/stable main/ clickhouse-client 21.3.4.25 [38.1 kB]\n",
            "Get:5 https://repo.clickhouse.tech/deb/stable main/ clickhouse-server 21.3.4.25 [58.1 kB]\n",
            "Fetched 126 MB in 2s (51.5 MB/s)\n",
            "debconf: unable to initialize frontend: Dialog\n",
            "debconf: (No usable dialog-like program is installed, so the dialog based frontend cannot be used. at /usr/share/perl5/Debconf/FrontEnd/Dialog.pm line 76, <> line 5.)\n",
            "debconf: falling back to frontend: Readline\n",
            "debconf: unable to initialize frontend: Readline\n",
            "debconf: (This frontend requires a controlling tty.)\n",
            "debconf: falling back to frontend: Teletype\n",
            "dpkg-preconfigure: unable to re-open stdin: \n",
            "Selecting previously unselected package libcap2-bin.\n",
            "(Reading database ... 160984 files and directories currently installed.)\n",
            "Preparing to unpack .../libcap2-bin_1%3a2.25-1.2_amd64.deb ...\n",
            "Unpacking libcap2-bin (1:2.25-1.2) ...\n",
            "Selecting previously unselected package libpam-cap:amd64.\n",
            "Preparing to unpack .../libpam-cap_1%3a2.25-1.2_amd64.deb ...\n",
            "Unpacking libpam-cap:amd64 (1:2.25-1.2) ...\n",
            "Selecting previously unselected package clickhouse-common-static.\n",
            "Preparing to unpack .../clickhouse-common-static_21.3.4.25_amd64.deb ...\n",
            "Unpacking clickhouse-common-static (21.3.4.25) ...\n",
            "Selecting previously unselected package clickhouse-client.\n",
            "Preparing to unpack .../clickhouse-client_21.3.4.25_all.deb ...\n",
            "Unpacking clickhouse-client (21.3.4.25) ...\n",
            "Selecting previously unselected package clickhouse-server.\n",
            "Preparing to unpack .../clickhouse-server_21.3.4.25_all.deb ...\n",
            "Unpacking clickhouse-server (21.3.4.25) ...\n",
            "Setting up libpam-cap:amd64 (1:2.25-1.2) ...\n",
            "debconf: unable to initialize frontend: Dialog\n",
            "debconf: (No usable dialog-like program is installed, so the dialog based frontend cannot be used. at /usr/share/perl5/Debconf/FrontEnd/Dialog.pm line 76.)\n",
            "debconf: falling back to frontend: Readline\n",
            "Setting up libcap2-bin (1:2.25-1.2) ...\n",
            "Setting up clickhouse-common-static (21.3.4.25) ...\n",
            "Setting up clickhouse-server (21.3.4.25) ...\n",
            "debconf: unable to initialize frontend: Dialog\n",
            "debconf: (No usable dialog-like program is installed, so the dialog based frontend cannot be used. at /usr/share/perl5/Debconf/FrontEnd/Dialog.pm line 76.)\n",
            "debconf: falling back to frontend: Readline\n",
            "Configuring clickhouse-server\n",
            "-----------------------------\n",
            "\n",
            "\u001b[4mEnter password for default user: \u001b[m\u001b[1m\u001b[m\u001b[m\n",
            "\n",
            "ClickHouse binary is already located at /usr/bin/clickhouse\n",
            "Symlink /usr/bin/clickhouse-server already exists but it points to /clickhouse. Will replace the old symlink to /usr/bin/clickhouse.\n",
            "Creating symlink /usr/bin/clickhouse-server to /usr/bin/clickhouse.\n",
            "Symlink /usr/bin/clickhouse-client already exists but it points to /clickhouse. Will replace the old symlink to /usr/bin/clickhouse.\n",
            "Creating symlink /usr/bin/clickhouse-client to /usr/bin/clickhouse.\n",
            "Symlink /usr/bin/clickhouse-local already exists but it points to /clickhouse. Will replace the old symlink to /usr/bin/clickhouse.\n",
            "Creating symlink /usr/bin/clickhouse-local to /usr/bin/clickhouse.\n",
            "Symlink /usr/bin/clickhouse-benchmark already exists but it points to /clickhouse. Will replace the old symlink to /usr/bin/clickhouse.\n",
            "Creating symlink /usr/bin/clickhouse-benchmark to /usr/bin/clickhouse.\n",
            "Symlink /usr/bin/clickhouse-copier already exists but it points to /clickhouse. Will replace the old symlink to /usr/bin/clickhouse.\n",
            "Creating symlink /usr/bin/clickhouse-copier to /usr/bin/clickhouse.\n",
            "Symlink /usr/bin/clickhouse-obfuscator already exists but it points to /clickhouse. Will replace the old symlink to /usr/bin/clickhouse.\n",
            "Creating symlink /usr/bin/clickhouse-obfuscator to /usr/bin/clickhouse.\n",
            "Creating symlink /usr/bin/clickhouse-git-import to /usr/bin/clickhouse.\n",
            "Symlink /usr/bin/clickhouse-compressor already exists but it points to /clickhouse. Will replace the old symlink to /usr/bin/clickhouse.\n",
            "Creating symlink /usr/bin/clickhouse-compressor to /usr/bin/clickhouse.\n",
            "Symlink /usr/bin/clickhouse-format already exists but it points to /clickhouse. Will replace the old symlink to /usr/bin/clickhouse.\n",
            "Creating symlink /usr/bin/clickhouse-format to /usr/bin/clickhouse.\n",
            "Symlink /usr/bin/clickhouse-extract-from-config already exists but it points to /clickhouse. Will replace the old symlink to /usr/bin/clickhouse.\n",
            "Creating symlink /usr/bin/clickhouse-extract-from-config to /usr/bin/clickhouse.\n",
            "Creating clickhouse group if it does not exist.\n",
            " groupadd -r clickhouse\n",
            "Creating clickhouse user if it does not exist.\n",
            " useradd -r --shell /bin/false --home-dir /nonexistent -g clickhouse clickhouse\n",
            "Will set ulimits for clickhouse user in /etc/security/limits.d/clickhouse.conf.\n",
            "Creating config directory /etc/clickhouse-server/config.d that is used for tweaks of main server configuration.\n",
            "Creating config directory /etc/clickhouse-server/users.d that is used for tweaks of users configuration.\n",
            "Config file /etc/clickhouse-server/config.xml already exists, will keep it and extract path info from it.\n",
            "/etc/clickhouse-server/config.xml has /var/lib/clickhouse/ as data path.\n",
            "/etc/clickhouse-server/config.xml has /var/log/clickhouse-server/ as log path.\n",
            "Users config file /etc/clickhouse-server/users.xml already exists, will keep it and extract users info from it.\n",
            " chown --recursive clickhouse:clickhouse '/etc/clickhouse-server'\n",
            "Creating log directory /var/log/clickhouse-server/.\n",
            "Creating data directory /var/lib/clickhouse/.\n",
            "Creating pid directory /var/run/clickhouse-server.\n",
            " chown --recursive clickhouse:clickhouse '/var/log/clickhouse-server/'\n",
            " chown --recursive clickhouse:clickhouse '/var/run/clickhouse-server'\n",
            " chown clickhouse:clickhouse '/var/lib/clickhouse/'\n",
            "Password for default user is empty string. See /etc/clickhouse-server/users.xml and /etc/clickhouse-server/users.d to change it.\n",
            "Setting capabilities for clickhouse binary. This is optional.\n",
            " command -v setcap >/dev/null && echo > /tmp/test_setcap.sh && chmod a+x /tmp/test_setcap.sh && /tmp/test_setcap.sh && setcap 'cap_net_admin,cap_ipc_lock,cap_sys_nice+ep' /tmp/test_setcap.sh && /tmp/test_setcap.sh && rm /tmp/test_setcap.sh && setcap 'cap_net_admin,cap_ipc_lock,cap_sys_nice+ep' /usr/bin/clickhouse || echo \"Cannot set 'net_admin' or 'ipc_lock' or 'sys_nice' capability for clickhouse binary. This is optional. Taskstats accounting will be disabled. To enable taskstats accounting you may add the required capability later manually.\"\n",
            "sh: 1: /tmp/test_setcap.sh: Operation not permitted\n",
            "Cannot set 'net_admin' or 'ipc_lock' or 'sys_nice' capability for clickhouse binary. This is optional. Taskstats accounting will be disabled. To enable taskstats accounting you may add the required capability later manually.\n",
            "\n",
            "ClickHouse has been successfully installed.\n",
            "\n",
            "Start clickhouse-server with:\n",
            " sudo clickhouse start\n",
            "\n",
            "Start clickhouse-client with:\n",
            " clickhouse-client\n",
            "\n",
            "Setting up clickhouse-client (21.3.4.25) ...\n",
            "Processing triggers for man-db (2.8.3-2ubuntu0.1) ...\n",
            "Processing triggers for systemd (237-3ubuntu10.45) ...\n",
            " chown --recursive clickhouse '/var/run/clickhouse-server/'\n",
            "Will run su -s /bin/sh 'clickhouse' -c '/usr/bin/clickhouse-server --config-file /etc/clickhouse-server/config.xml --pid-file /var/run/clickhouse-server/clickhouse-server.pid --daemon'\n",
            "Waiting for server to start\n",
            "Waiting for server to start\n",
            "Server started\n",
            "src/tcmalloc.cc:283] Attempt to free invalid pointer 0x7f1bbd41f000 \n"
          ],
          "name": "stdout"
        }
      ]
    },
    {
      "cell_type": "code",
      "metadata": {
        "id": "DYZsT-5ofcu9",
        "colab": {
          "base_uri": "https://localhost:8080/"
        },
        "outputId": "314ff943-873a-4ce7-903e-ba7ca301e0e2"
      },
      "source": [
        "!pip install clickhouse-driver"
      ],
      "execution_count": 2,
      "outputs": [
        {
          "output_type": "stream",
          "text": [
            "Collecting clickhouse-driver\n",
            "\u001b[?25l  Downloading https://files.pythonhosted.org/packages/7d/33/16f13d59d084ab3f38ef4c8f6906834d1a004c03ef2f68714ae22e42a3d6/clickhouse_driver-0.2.0-cp37-cp37m-manylinux2010_x86_64.whl (480kB)\n",
            "\u001b[K     |████████████████████████████████| 481kB 5.2MB/s \n",
            "\u001b[?25hRequirement already satisfied: pytz in /usr/local/lib/python3.7/dist-packages (from clickhouse-driver) (2018.9)\n",
            "Requirement already satisfied: tzlocal<3.0 in /usr/local/lib/python3.7/dist-packages (from clickhouse-driver) (1.5.1)\n",
            "Installing collected packages: clickhouse-driver\n",
            "Successfully installed clickhouse-driver-0.2.0\n"
          ],
          "name": "stdout"
        }
      ]
    },
    {
      "cell_type": "code",
      "metadata": {
        "id": "A6DUpJl7fft0",
        "colab": {
          "base_uri": "https://localhost:8080/"
        },
        "outputId": "3be8851b-e52a-455d-a585-da716d4814e1"
      },
      "source": [
        "from clickhouse_driver import Client\n",
        "client = Client(host='localhost')\n",
        "client.execute('SHOW DATABASES')"
      ],
      "execution_count": 61,
      "outputs": [
        {
          "output_type": "execute_result",
          "data": {
            "text/plain": [
              "[('default',), ('system',)]"
            ]
          },
          "metadata": {
            "tags": []
          },
          "execution_count": 61
        }
      ]
    },
    {
      "cell_type": "code",
      "metadata": {
        "id": "kjyurshBfhm8"
      },
      "source": [
        "import pandas as pd\n",
        "import numpy as np\n",
        "from datetime import datetime"
      ],
      "execution_count": 62,
      "outputs": []
    },
    {
      "cell_type": "code",
      "metadata": {
        "id": "u8UEF7aihE6k"
      },
      "source": [
        "dateparser = lambda x: datetime.strptime(x, \"%d.%m.%Y\")\n",
        "df = pd.read_csv('data.csv',sep=';',decimal=',',parse_dates = ['date'], date_parser=dateparser)"
      ],
      "execution_count": 63,
      "outputs": []
    },
    {
      "cell_type": "code",
      "metadata": {
        "colab": {
          "base_uri": "https://localhost:8080/"
        },
        "id": "1DF2APGehKbD",
        "outputId": "855da5a2-92cf-4ce4-e41e-724857c82ea2"
      },
      "source": [
        "print(df.head())\n",
        "print(df.info())"
      ],
      "execution_count": 64,
      "outputs": [
        {
          "output_type": "stream",
          "text": [
            "        date   city   manager   product  amount\n",
            "0 2020-01-01  city1  manager1  product1      20\n",
            "1 2020-01-02  city2  manager2  product2       6\n",
            "2 2020-01-03  city1  manager3  product3       7\n",
            "3 2020-01-04  city2  manager4  product4      10\n",
            "4 2020-01-05  city1  manager1  product5      12\n",
            "<class 'pandas.core.frame.DataFrame'>\n",
            "RangeIndex: 20 entries, 0 to 19\n",
            "Data columns (total 5 columns):\n",
            " #   Column   Non-Null Count  Dtype         \n",
            "---  ------   --------------  -----         \n",
            " 0   date     20 non-null     datetime64[ns]\n",
            " 1   city     20 non-null     object        \n",
            " 2   manager  20 non-null     object        \n",
            " 3   product  20 non-null     object        \n",
            " 4   amount   20 non-null     int64         \n",
            "dtypes: datetime64[ns](1), int64(1), object(3)\n",
            "memory usage: 928.0+ bytes\n",
            "None\n"
          ],
          "name": "stdout"
        }
      ]
    },
    {
      "cell_type": "code",
      "metadata": {
        "colab": {
          "base_uri": "https://localhost:8080/"
        },
        "id": "KCcplBuvnM1r",
        "outputId": "e1067e0d-00d7-485a-abb1-44ff058108af"
      },
      "source": [
        "client.execute('DROP DATABASE IF EXISTS db')"
      ],
      "execution_count": 65,
      "outputs": [
        {
          "output_type": "execute_result",
          "data": {
            "text/plain": [
              "[]"
            ]
          },
          "metadata": {
            "tags": []
          },
          "execution_count": 65
        }
      ]
    },
    {
      "cell_type": "code",
      "metadata": {
        "colab": {
          "base_uri": "https://localhost:8080/"
        },
        "id": "x4N77QQvh61d",
        "outputId": "b9849543-d4c3-4bd0-c6dc-1bb1d08c3763"
      },
      "source": [
        "client.execute('CREATE DATABASE db')"
      ],
      "execution_count": 66,
      "outputs": [
        {
          "output_type": "execute_result",
          "data": {
            "text/plain": [
              "[]"
            ]
          },
          "metadata": {
            "tags": []
          },
          "execution_count": 66
        }
      ]
    },
    {
      "cell_type": "code",
      "metadata": {
        "colab": {
          "base_uri": "https://localhost:8080/"
        },
        "id": "pBsQ8t89jrY7",
        "outputId": "fdfc7582-5c6d-48c4-c72d-e0ecb41ce1ef"
      },
      "source": [
        "client.execute('SHOW DATABASES')"
      ],
      "execution_count": 67,
      "outputs": [
        {
          "output_type": "execute_result",
          "data": {
            "text/plain": [
              "[('db',), ('default',), ('system',)]"
            ]
          },
          "metadata": {
            "tags": []
          },
          "execution_count": 67
        }
      ]
    },
    {
      "cell_type": "code",
      "metadata": {
        "id": "RhjFuFZciFPz"
      },
      "source": [
        "client = Client(host='localhost', user='default', port='9000', database='db',settings={'columnar': True})"
      ],
      "execution_count": 68,
      "outputs": []
    },
    {
      "cell_type": "code",
      "metadata": {
        "colab": {
          "base_uri": "https://localhost:8080/"
        },
        "id": "8MRvqJrpknuT",
        "outputId": "c931ac17-3dfb-47d2-e926-66c9499339aa"
      },
      "source": [
        "client.execute('DROP TABLE IF EXISTS test')"
      ],
      "execution_count": 70,
      "outputs": [
        {
          "output_type": "execute_result",
          "data": {
            "text/plain": [
              "[]"
            ]
          },
          "metadata": {
            "tags": []
          },
          "execution_count": 70
        }
      ]
    },
    {
      "cell_type": "code",
      "metadata": {
        "colab": {
          "base_uri": "https://localhost:8080/"
        },
        "id": "9P2ljJnniRXL",
        "outputId": "61796766-6c72-44ef-b465-bb3c99c419be"
      },
      "source": [
        "client.execute('CREATE TABLE test (date Date, city String, manager String, product String, amount Int32) ENGINE = Memory')"
      ],
      "execution_count": 71,
      "outputs": [
        {
          "output_type": "execute_result",
          "data": {
            "text/plain": [
              "[]"
            ]
          },
          "metadata": {
            "tags": []
          },
          "execution_count": 71
        }
      ]
    },
    {
      "cell_type": "code",
      "metadata": {
        "colab": {
          "base_uri": "https://localhost:8080/"
        },
        "id": "HcZNrqlVjgF0",
        "outputId": "4a9cda32-263d-4ef8-e5cc-d7f88d49283f"
      },
      "source": [
        "client.execute('SHOW TABLES FROM db')"
      ],
      "execution_count": 72,
      "outputs": [
        {
          "output_type": "execute_result",
          "data": {
            "text/plain": [
              "[('test',)]"
            ]
          },
          "metadata": {
            "tags": []
          },
          "execution_count": 72
        }
      ]
    },
    {
      "cell_type": "code",
      "metadata": {
        "colab": {
          "base_uri": "https://localhost:8080/"
        },
        "id": "bNXjTqZSinMc",
        "outputId": "5c9535e0-f620-413d-835d-7f3211a7c6b7"
      },
      "source": [
        "client.execute(\"INSERT INTO test VALUES\", df.to_dict('records'))"
      ],
      "execution_count": 73,
      "outputs": [
        {
          "output_type": "execute_result",
          "data": {
            "text/plain": [
              "20"
            ]
          },
          "metadata": {
            "tags": []
          },
          "execution_count": 73
        }
      ]
    },
    {
      "cell_type": "code",
      "metadata": {
        "id": "hWAGEYDBnjo7"
      },
      "source": [
        "def select_clickhouse(sql):\n",
        "  return client.query_dataframe(sql)"
      ],
      "execution_count": 74,
      "outputs": []
    },
    {
      "cell_type": "code",
      "metadata": {
        "id": "zvaST1zbnoXi"
      },
      "source": [
        "sql = '''SELECT * \n",
        "         FROM test as t \n",
        "         ORDER BY t.city, t.manager, t.product\n",
        "         LIMIT 25'''"
      ],
      "execution_count": 109,
      "outputs": []
    },
    {
      "cell_type": "code",
      "metadata": {
        "colab": {
          "base_uri": "https://localhost:8080/",
          "height": 669
        },
        "id": "bwU4Qx-lnsNq",
        "outputId": "da61a462-202d-4df9-8f2b-1c4c4358303f"
      },
      "source": [
        "select_clickhouse(sql)"
      ],
      "execution_count": 110,
      "outputs": [
        {
          "output_type": "execute_result",
          "data": {
            "text/html": [
              "<div>\n",
              "<style scoped>\n",
              "    .dataframe tbody tr th:only-of-type {\n",
              "        vertical-align: middle;\n",
              "    }\n",
              "\n",
              "    .dataframe tbody tr th {\n",
              "        vertical-align: top;\n",
              "    }\n",
              "\n",
              "    .dataframe thead th {\n",
              "        text-align: right;\n",
              "    }\n",
              "</style>\n",
              "<table border=\"1\" class=\"dataframe\">\n",
              "  <thead>\n",
              "    <tr style=\"text-align: right;\">\n",
              "      <th></th>\n",
              "      <th>date</th>\n",
              "      <th>city</th>\n",
              "      <th>manager</th>\n",
              "      <th>product</th>\n",
              "      <th>amount</th>\n",
              "    </tr>\n",
              "  </thead>\n",
              "  <tbody>\n",
              "    <tr>\n",
              "      <th>0</th>\n",
              "      <td>2020-01-01</td>\n",
              "      <td>city1</td>\n",
              "      <td>manager1</td>\n",
              "      <td>product1</td>\n",
              "      <td>20</td>\n",
              "    </tr>\n",
              "    <tr>\n",
              "      <th>1</th>\n",
              "      <td>2020-01-09</td>\n",
              "      <td>city1</td>\n",
              "      <td>manager1</td>\n",
              "      <td>product2</td>\n",
              "      <td>23</td>\n",
              "    </tr>\n",
              "    <tr>\n",
              "      <th>2</th>\n",
              "      <td>2020-01-17</td>\n",
              "      <td>city1</td>\n",
              "      <td>manager1</td>\n",
              "      <td>product3</td>\n",
              "      <td>6</td>\n",
              "    </tr>\n",
              "    <tr>\n",
              "      <th>3</th>\n",
              "      <td>2020-01-05</td>\n",
              "      <td>city1</td>\n",
              "      <td>manager1</td>\n",
              "      <td>product5</td>\n",
              "      <td>12</td>\n",
              "    </tr>\n",
              "    <tr>\n",
              "      <th>4</th>\n",
              "      <td>2020-01-13</td>\n",
              "      <td>city1</td>\n",
              "      <td>manager1</td>\n",
              "      <td>product6</td>\n",
              "      <td>22</td>\n",
              "    </tr>\n",
              "    <tr>\n",
              "      <th>5</th>\n",
              "      <td>2020-01-15</td>\n",
              "      <td>city1</td>\n",
              "      <td>manager3</td>\n",
              "      <td>product1</td>\n",
              "      <td>12</td>\n",
              "    </tr>\n",
              "    <tr>\n",
              "      <th>6</th>\n",
              "      <td>2020-01-03</td>\n",
              "      <td>city1</td>\n",
              "      <td>manager3</td>\n",
              "      <td>product3</td>\n",
              "      <td>7</td>\n",
              "    </tr>\n",
              "    <tr>\n",
              "      <th>7</th>\n",
              "      <td>2020-01-11</td>\n",
              "      <td>city1</td>\n",
              "      <td>manager3</td>\n",
              "      <td>product4</td>\n",
              "      <td>21</td>\n",
              "    </tr>\n",
              "    <tr>\n",
              "      <th>8</th>\n",
              "      <td>2020-01-19</td>\n",
              "      <td>city1</td>\n",
              "      <td>manager3</td>\n",
              "      <td>product5</td>\n",
              "      <td>9</td>\n",
              "    </tr>\n",
              "    <tr>\n",
              "      <th>9</th>\n",
              "      <td>2020-01-07</td>\n",
              "      <td>city1</td>\n",
              "      <td>manager3</td>\n",
              "      <td>product7</td>\n",
              "      <td>3</td>\n",
              "    </tr>\n",
              "    <tr>\n",
              "      <th>10</th>\n",
              "      <td>2020-01-02</td>\n",
              "      <td>city2</td>\n",
              "      <td>manager2</td>\n",
              "      <td>product2</td>\n",
              "      <td>6</td>\n",
              "    </tr>\n",
              "    <tr>\n",
              "      <th>11</th>\n",
              "      <td>2020-01-10</td>\n",
              "      <td>city2</td>\n",
              "      <td>manager2</td>\n",
              "      <td>product3</td>\n",
              "      <td>22</td>\n",
              "    </tr>\n",
              "    <tr>\n",
              "      <th>12</th>\n",
              "      <td>2020-01-18</td>\n",
              "      <td>city2</td>\n",
              "      <td>manager2</td>\n",
              "      <td>product4</td>\n",
              "      <td>11</td>\n",
              "    </tr>\n",
              "    <tr>\n",
              "      <th>13</th>\n",
              "      <td>2020-01-06</td>\n",
              "      <td>city2</td>\n",
              "      <td>manager2</td>\n",
              "      <td>product6</td>\n",
              "      <td>21</td>\n",
              "    </tr>\n",
              "    <tr>\n",
              "      <th>14</th>\n",
              "      <td>2020-01-14</td>\n",
              "      <td>city2</td>\n",
              "      <td>manager2</td>\n",
              "      <td>product7</td>\n",
              "      <td>11</td>\n",
              "    </tr>\n",
              "    <tr>\n",
              "      <th>15</th>\n",
              "      <td>2020-01-08</td>\n",
              "      <td>city2</td>\n",
              "      <td>manager4</td>\n",
              "      <td>product1</td>\n",
              "      <td>11</td>\n",
              "    </tr>\n",
              "    <tr>\n",
              "      <th>16</th>\n",
              "      <td>2020-01-16</td>\n",
              "      <td>city2</td>\n",
              "      <td>manager4</td>\n",
              "      <td>product2</td>\n",
              "      <td>19</td>\n",
              "    </tr>\n",
              "    <tr>\n",
              "      <th>17</th>\n",
              "      <td>2020-01-04</td>\n",
              "      <td>city2</td>\n",
              "      <td>manager4</td>\n",
              "      <td>product4</td>\n",
              "      <td>10</td>\n",
              "    </tr>\n",
              "    <tr>\n",
              "      <th>18</th>\n",
              "      <td>2020-01-12</td>\n",
              "      <td>city2</td>\n",
              "      <td>manager4</td>\n",
              "      <td>product5</td>\n",
              "      <td>12</td>\n",
              "    </tr>\n",
              "    <tr>\n",
              "      <th>19</th>\n",
              "      <td>2020-01-20</td>\n",
              "      <td>city2</td>\n",
              "      <td>manager4</td>\n",
              "      <td>product6</td>\n",
              "      <td>20</td>\n",
              "    </tr>\n",
              "  </tbody>\n",
              "</table>\n",
              "</div>"
            ],
            "text/plain": [
              "          date   city   manager   product  amount\n",
              "0   2020-01-01  city1  manager1  product1      20\n",
              "1   2020-01-09  city1  manager1  product2      23\n",
              "2   2020-01-17  city1  manager1  product3       6\n",
              "3   2020-01-05  city1  manager1  product5      12\n",
              "4   2020-01-13  city1  manager1  product6      22\n",
              "5   2020-01-15  city1  manager3  product1      12\n",
              "6   2020-01-03  city1  manager3  product3       7\n",
              "7   2020-01-11  city1  manager3  product4      21\n",
              "8   2020-01-19  city1  manager3  product5       9\n",
              "9   2020-01-07  city1  manager3  product7       3\n",
              "10  2020-01-02  city2  manager2  product2       6\n",
              "11  2020-01-10  city2  manager2  product3      22\n",
              "12  2020-01-18  city2  manager2  product4      11\n",
              "13  2020-01-06  city2  manager2  product6      21\n",
              "14  2020-01-14  city2  manager2  product7      11\n",
              "15  2020-01-08  city2  manager4  product1      11\n",
              "16  2020-01-16  city2  manager4  product2      19\n",
              "17  2020-01-04  city2  manager4  product4      10\n",
              "18  2020-01-12  city2  manager4  product5      12\n",
              "19  2020-01-20  city2  manager4  product6      20"
            ]
          },
          "metadata": {
            "tags": []
          },
          "execution_count": 110
        }
      ]
    },
    {
      "cell_type": "markdown",
      "metadata": {
        "id": "Bj0uMsMnpk8R"
      },
      "source": [
        "### Справка по оконным функциям"
      ]
    },
    {
      "cell_type": "code",
      "metadata": {
        "id": "TEMW0RXepjAR"
      },
      "source": [
        "# https://clickhouse.tech/docs/en/sql-reference/window-functions/"
      ],
      "execution_count": null,
      "outputs": []
    },
    {
      "cell_type": "code",
      "metadata": {
        "colab": {
          "base_uri": "https://localhost:8080/"
        },
        "id": "paN8Oeczv01g",
        "outputId": "412adcd0-23c1-47cd-c8f5-f6564b5a0773"
      },
      "source": [
        "client.execute('set allow_experimental_window_functions = 1;')"
      ],
      "execution_count": 150,
      "outputs": [
        {
          "output_type": "execute_result",
          "data": {
            "text/plain": [
              "[]"
            ]
          },
          "metadata": {
            "tags": []
          },
          "execution_count": 150
        }
      ]
    },
    {
      "cell_type": "code",
      "metadata": {
        "id": "p085K5k4nwCi"
      },
      "source": [
        "sql = '''SELECT \n",
        "                date,\n",
        "                city, \n",
        "                manager,\n",
        "                amount,\n",
        "                sum(amount) over w as amount_cum_sum\n",
        "         FROM test \n",
        "         WINDOW w AS\n",
        "         (PARTITION BY city,manager\n",
        "         ORDER BY date,city, manager\n",
        "         ROWS BETWEEN UNBOUNDED PRECEDING AND CURRENT ROW);'''"
      ],
      "execution_count": 151,
      "outputs": []
    },
    {
      "cell_type": "code",
      "metadata": {
        "colab": {
          "base_uri": "https://localhost:8080/",
          "height": 669
        },
        "id": "NgSjMXFUo548",
        "outputId": "3cc34168-9f18-42e0-d51c-35af66e3dc57"
      },
      "source": [
        "select_clickhouse(sql)"
      ],
      "execution_count": 152,
      "outputs": [
        {
          "output_type": "execute_result",
          "data": {
            "text/html": [
              "<div>\n",
              "<style scoped>\n",
              "    .dataframe tbody tr th:only-of-type {\n",
              "        vertical-align: middle;\n",
              "    }\n",
              "\n",
              "    .dataframe tbody tr th {\n",
              "        vertical-align: top;\n",
              "    }\n",
              "\n",
              "    .dataframe thead th {\n",
              "        text-align: right;\n",
              "    }\n",
              "</style>\n",
              "<table border=\"1\" class=\"dataframe\">\n",
              "  <thead>\n",
              "    <tr style=\"text-align: right;\">\n",
              "      <th></th>\n",
              "      <th>date</th>\n",
              "      <th>city</th>\n",
              "      <th>manager</th>\n",
              "      <th>amount</th>\n",
              "      <th>amount_cum_sum</th>\n",
              "    </tr>\n",
              "  </thead>\n",
              "  <tbody>\n",
              "    <tr>\n",
              "      <th>0</th>\n",
              "      <td>2020-01-01</td>\n",
              "      <td>city1</td>\n",
              "      <td>manager1</td>\n",
              "      <td>20</td>\n",
              "      <td>20</td>\n",
              "    </tr>\n",
              "    <tr>\n",
              "      <th>1</th>\n",
              "      <td>2020-01-05</td>\n",
              "      <td>city1</td>\n",
              "      <td>manager1</td>\n",
              "      <td>12</td>\n",
              "      <td>32</td>\n",
              "    </tr>\n",
              "    <tr>\n",
              "      <th>2</th>\n",
              "      <td>2020-01-09</td>\n",
              "      <td>city1</td>\n",
              "      <td>manager1</td>\n",
              "      <td>23</td>\n",
              "      <td>55</td>\n",
              "    </tr>\n",
              "    <tr>\n",
              "      <th>3</th>\n",
              "      <td>2020-01-13</td>\n",
              "      <td>city1</td>\n",
              "      <td>manager1</td>\n",
              "      <td>22</td>\n",
              "      <td>77</td>\n",
              "    </tr>\n",
              "    <tr>\n",
              "      <th>4</th>\n",
              "      <td>2020-01-17</td>\n",
              "      <td>city1</td>\n",
              "      <td>manager1</td>\n",
              "      <td>6</td>\n",
              "      <td>83</td>\n",
              "    </tr>\n",
              "    <tr>\n",
              "      <th>5</th>\n",
              "      <td>2020-01-03</td>\n",
              "      <td>city1</td>\n",
              "      <td>manager3</td>\n",
              "      <td>7</td>\n",
              "      <td>7</td>\n",
              "    </tr>\n",
              "    <tr>\n",
              "      <th>6</th>\n",
              "      <td>2020-01-07</td>\n",
              "      <td>city1</td>\n",
              "      <td>manager3</td>\n",
              "      <td>3</td>\n",
              "      <td>10</td>\n",
              "    </tr>\n",
              "    <tr>\n",
              "      <th>7</th>\n",
              "      <td>2020-01-11</td>\n",
              "      <td>city1</td>\n",
              "      <td>manager3</td>\n",
              "      <td>21</td>\n",
              "      <td>31</td>\n",
              "    </tr>\n",
              "    <tr>\n",
              "      <th>8</th>\n",
              "      <td>2020-01-15</td>\n",
              "      <td>city1</td>\n",
              "      <td>manager3</td>\n",
              "      <td>12</td>\n",
              "      <td>43</td>\n",
              "    </tr>\n",
              "    <tr>\n",
              "      <th>9</th>\n",
              "      <td>2020-01-19</td>\n",
              "      <td>city1</td>\n",
              "      <td>manager3</td>\n",
              "      <td>9</td>\n",
              "      <td>52</td>\n",
              "    </tr>\n",
              "    <tr>\n",
              "      <th>10</th>\n",
              "      <td>2020-01-02</td>\n",
              "      <td>city2</td>\n",
              "      <td>manager2</td>\n",
              "      <td>6</td>\n",
              "      <td>6</td>\n",
              "    </tr>\n",
              "    <tr>\n",
              "      <th>11</th>\n",
              "      <td>2020-01-06</td>\n",
              "      <td>city2</td>\n",
              "      <td>manager2</td>\n",
              "      <td>21</td>\n",
              "      <td>27</td>\n",
              "    </tr>\n",
              "    <tr>\n",
              "      <th>12</th>\n",
              "      <td>2020-01-10</td>\n",
              "      <td>city2</td>\n",
              "      <td>manager2</td>\n",
              "      <td>22</td>\n",
              "      <td>49</td>\n",
              "    </tr>\n",
              "    <tr>\n",
              "      <th>13</th>\n",
              "      <td>2020-01-14</td>\n",
              "      <td>city2</td>\n",
              "      <td>manager2</td>\n",
              "      <td>11</td>\n",
              "      <td>60</td>\n",
              "    </tr>\n",
              "    <tr>\n",
              "      <th>14</th>\n",
              "      <td>2020-01-18</td>\n",
              "      <td>city2</td>\n",
              "      <td>manager2</td>\n",
              "      <td>11</td>\n",
              "      <td>71</td>\n",
              "    </tr>\n",
              "    <tr>\n",
              "      <th>15</th>\n",
              "      <td>2020-01-04</td>\n",
              "      <td>city2</td>\n",
              "      <td>manager4</td>\n",
              "      <td>10</td>\n",
              "      <td>10</td>\n",
              "    </tr>\n",
              "    <tr>\n",
              "      <th>16</th>\n",
              "      <td>2020-01-08</td>\n",
              "      <td>city2</td>\n",
              "      <td>manager4</td>\n",
              "      <td>11</td>\n",
              "      <td>21</td>\n",
              "    </tr>\n",
              "    <tr>\n",
              "      <th>17</th>\n",
              "      <td>2020-01-12</td>\n",
              "      <td>city2</td>\n",
              "      <td>manager4</td>\n",
              "      <td>12</td>\n",
              "      <td>33</td>\n",
              "    </tr>\n",
              "    <tr>\n",
              "      <th>18</th>\n",
              "      <td>2020-01-16</td>\n",
              "      <td>city2</td>\n",
              "      <td>manager4</td>\n",
              "      <td>19</td>\n",
              "      <td>52</td>\n",
              "    </tr>\n",
              "    <tr>\n",
              "      <th>19</th>\n",
              "      <td>2020-01-20</td>\n",
              "      <td>city2</td>\n",
              "      <td>manager4</td>\n",
              "      <td>20</td>\n",
              "      <td>72</td>\n",
              "    </tr>\n",
              "  </tbody>\n",
              "</table>\n",
              "</div>"
            ],
            "text/plain": [
              "          date   city   manager  amount  amount_cum_sum\n",
              "0   2020-01-01  city1  manager1      20              20\n",
              "1   2020-01-05  city1  manager1      12              32\n",
              "2   2020-01-09  city1  manager1      23              55\n",
              "3   2020-01-13  city1  manager1      22              77\n",
              "4   2020-01-17  city1  manager1       6              83\n",
              "5   2020-01-03  city1  manager3       7               7\n",
              "6   2020-01-07  city1  manager3       3              10\n",
              "7   2020-01-11  city1  manager3      21              31\n",
              "8   2020-01-15  city1  manager3      12              43\n",
              "9   2020-01-19  city1  manager3       9              52\n",
              "10  2020-01-02  city2  manager2       6               6\n",
              "11  2020-01-06  city2  manager2      21              27\n",
              "12  2020-01-10  city2  manager2      22              49\n",
              "13  2020-01-14  city2  manager2      11              60\n",
              "14  2020-01-18  city2  manager2      11              71\n",
              "15  2020-01-04  city2  manager4      10              10\n",
              "16  2020-01-08  city2  manager4      11              21\n",
              "17  2020-01-12  city2  manager4      12              33\n",
              "18  2020-01-16  city2  manager4      19              52\n",
              "19  2020-01-20  city2  manager4      20              72"
            ]
          },
          "metadata": {
            "tags": []
          },
          "execution_count": 152
        }
      ]
    }
  ]
}
