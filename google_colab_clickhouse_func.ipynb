{
  "nbformat": 4,
  "nbformat_minor": 0,
  "metadata": {
    "colab": {
      "name": "google_colab_clickhouse_func.ipynb",
      "provenance": [],
      "collapsed_sections": []
    },
    "kernelspec": {
      "name": "python3",
      "display_name": "Python 3"
    },
    "language_info": {
      "name": "python"
    }
  },
  "cells": [
    {
      "cell_type": "code",
      "metadata": {
        "colab": {
          "base_uri": "https://localhost:8080/"
        },
        "id": "6tPO4Dd3HkZX",
        "outputId": "949f348d-7686-4af4-f0bd-892fd50ed546"
      },
      "source": [
        "!sudo apt-get install apt-transport-https ca-certificates dirmngr\n",
        "!sudo apt-key adv --keyserver hkp://keyserver.ubuntu.com:80 --recv E0C56BD4\n",
        "\n",
        "!echo \"deb https://repo.clickhouse.tech/deb/stable/ main/\" | sudo tee \\\n",
        "    /etc/apt/sources.list.d/clickhouse.list\n",
        "!sudo apt-get update\n",
        "\n",
        "!sudo apt-get install -y clickhouse-server clickhouse-client\n",
        "\n",
        "!sudo service clickhouse-server start\n",
        "!clickhouse-client"
      ],
      "execution_count": 1,
      "outputs": [
        {
          "output_type": "stream",
          "text": [
            "Reading package lists... Done\n",
            "Building dependency tree       \n",
            "Reading state information... Done\n",
            "ca-certificates is already the newest version (20210119~18.04.1).\n",
            "dirmngr is already the newest version (2.2.4-1ubuntu1.4).\n",
            "The following NEW packages will be installed:\n",
            "  apt-transport-https\n",
            "0 upgraded, 1 newly installed, 0 to remove and 30 not upgraded.\n",
            "Need to get 1,696 B of archives.\n",
            "After this operation, 153 kB of additional disk space will be used.\n",
            "Get:1 http://archive.ubuntu.com/ubuntu bionic-updates/universe amd64 apt-transport-https all 1.6.12ubuntu0.2 [1,696 B]\n",
            "Fetched 1,696 B in 0s (5,978 B/s)\n",
            "debconf: unable to initialize frontend: Dialog\n",
            "debconf: (No usable dialog-like program is installed, so the dialog based frontend cannot be used. at /usr/share/perl5/Debconf/FrontEnd/Dialog.pm line 76, <> line 1.)\n",
            "debconf: falling back to frontend: Readline\n",
            "debconf: unable to initialize frontend: Readline\n",
            "debconf: (This frontend requires a controlling tty.)\n",
            "debconf: falling back to frontend: Teletype\n",
            "dpkg-preconfigure: unable to re-open stdin: \n",
            "Selecting previously unselected package apt-transport-https.\n",
            "(Reading database ... 160980 files and directories currently installed.)\n",
            "Preparing to unpack .../apt-transport-https_1.6.12ubuntu0.2_all.deb ...\n",
            "Unpacking apt-transport-https (1.6.12ubuntu0.2) ...\n",
            "Setting up apt-transport-https (1.6.12ubuntu0.2) ...\n",
            "Executing: /tmp/apt-key-gpghome.pbpriuPDCU/gpg.1.sh --keyserver hkp://keyserver.ubuntu.com:80 --recv E0C56BD4\n",
            "gpg: key C8F1E19FE0C56BD4: public key \"ClickHouse Repository Key <milovidov@yandex-team.ru>\" imported\n",
            "gpg: Total number processed: 1\n",
            "gpg:               imported: 1\n",
            "deb https://repo.clickhouse.tech/deb/stable/ main/\n",
            "Ign:1 https://developer.download.nvidia.com/compute/cuda/repos/ubuntu1804/x86_64  InRelease\n",
            "Ign:2 https://developer.download.nvidia.com/compute/machine-learning/repos/ubuntu1804/x86_64  InRelease\n",
            "Get:3 https://cloud.r-project.org/bin/linux/ubuntu bionic-cran40/ InRelease [3,626 B]\n",
            "Hit:4 https://developer.download.nvidia.com/compute/cuda/repos/ubuntu1804/x86_64  Release\n",
            "Hit:5 https://developer.download.nvidia.com/compute/machine-learning/repos/ubuntu1804/x86_64  Release\n",
            "Get:6 http://ppa.launchpad.net/c2d4u.team/c2d4u4.0+/ubuntu bionic InRelease [15.9 kB]\n",
            "Hit:7 http://archive.ubuntu.com/ubuntu bionic InRelease\n",
            "Get:9 http://security.ubuntu.com/ubuntu bionic-security InRelease [88.7 kB]\n",
            "Get:11 http://archive.ubuntu.com/ubuntu bionic-updates InRelease [88.7 kB]\n",
            "Ign:12 https://repo.clickhouse.tech/deb/stable main/ InRelease\n",
            "Hit:13 http://ppa.launchpad.net/cran/libgit2/ubuntu bionic InRelease\n",
            "Get:14 https://repo.clickhouse.tech/deb/stable main/ Release [749 B]\n",
            "Get:15 http://archive.ubuntu.com/ubuntu bionic-backports InRelease [74.6 kB]\n",
            "Hit:16 http://ppa.launchpad.net/deadsnakes/ppa/ubuntu bionic InRelease\n",
            "Get:17 https://repo.clickhouse.tech/deb/stable main/ Release.gpg [836 B]\n",
            "Get:18 http://security.ubuntu.com/ubuntu bionic-security/restricted amd64 Packages [348 kB]\n",
            "Get:19 http://archive.ubuntu.com/ubuntu bionic-updates/restricted amd64 Packages [378 kB]\n",
            "Get:20 http://ppa.launchpad.net/graphics-drivers/ppa/ubuntu bionic InRelease [21.3 kB]\n",
            "Get:21 http://security.ubuntu.com/ubuntu bionic-security/main amd64 Packages [2,045 kB]\n",
            "Get:22 http://archive.ubuntu.com/ubuntu bionic-updates/main amd64 Packages [2,475 kB]\n",
            "Get:23 http://ppa.launchpad.net/c2d4u.team/c2d4u4.0+/ubuntu bionic/main Sources [1,748 kB]\n",
            "Get:24 http://security.ubuntu.com/ubuntu bionic-security/universe amd64 Packages [1,402 kB]\n",
            "Get:25 http://archive.ubuntu.com/ubuntu bionic-updates/universe amd64 Packages [2,170 kB]\n",
            "Get:26 https://repo.clickhouse.tech/deb/stable main/ Packages [166 kB]\n",
            "Get:27 http://ppa.launchpad.net/c2d4u.team/c2d4u4.0+/ubuntu bionic/main amd64 Packages [894 kB]\n",
            "Get:28 http://ppa.launchpad.net/graphics-drivers/ppa/ubuntu bionic/main amd64 Packages [49.4 kB]\n",
            "Fetched 12.0 MB in 4s (2,890 kB/s)\n",
            "Reading package lists... Done\n",
            "Reading package lists... Done\n",
            "Building dependency tree       \n",
            "Reading state information... Done\n",
            "The following additional packages will be installed:\n",
            "  clickhouse-common-static libcap2-bin libpam-cap\n",
            "Suggested packages:\n",
            "  clickhouse-common-static-dbg\n",
            "The following NEW packages will be installed:\n",
            "  clickhouse-client clickhouse-common-static clickhouse-server libcap2-bin\n",
            "  libpam-cap\n",
            "0 upgraded, 5 newly installed, 0 to remove and 59 not upgraded.\n",
            "Need to get 126 MB of archives.\n",
            "After this operation, 428 MB of additional disk space will be used.\n",
            "Get:1 https://repo.clickhouse.tech/deb/stable main/ clickhouse-common-static 21.3.3.14 [126 MB]\n",
            "Get:2 http://archive.ubuntu.com/ubuntu bionic/main amd64 libcap2-bin amd64 1:2.25-1.2 [20.6 kB]\n",
            "Get:3 http://archive.ubuntu.com/ubuntu bionic/main amd64 libpam-cap amd64 1:2.25-1.2 [7,268 B]\n",
            "Get:4 https://repo.clickhouse.tech/deb/stable main/ clickhouse-client 21.3.3.14 [38.1 kB]\n",
            "Get:5 https://repo.clickhouse.tech/deb/stable main/ clickhouse-server 21.3.3.14 [58.1 kB]\n",
            "Fetched 126 MB in 2s (55.7 MB/s)\n",
            "debconf: unable to initialize frontend: Dialog\n",
            "debconf: (No usable dialog-like program is installed, so the dialog based frontend cannot be used. at /usr/share/perl5/Debconf/FrontEnd/Dialog.pm line 76, <> line 5.)\n",
            "debconf: falling back to frontend: Readline\n",
            "debconf: unable to initialize frontend: Readline\n",
            "debconf: (This frontend requires a controlling tty.)\n",
            "debconf: falling back to frontend: Teletype\n",
            "dpkg-preconfigure: unable to re-open stdin: \n",
            "Selecting previously unselected package libcap2-bin.\n",
            "(Reading database ... 160984 files and directories currently installed.)\n",
            "Preparing to unpack .../libcap2-bin_1%3a2.25-1.2_amd64.deb ...\n",
            "Unpacking libcap2-bin (1:2.25-1.2) ...\n",
            "Selecting previously unselected package libpam-cap:amd64.\n",
            "Preparing to unpack .../libpam-cap_1%3a2.25-1.2_amd64.deb ...\n",
            "Unpacking libpam-cap:amd64 (1:2.25-1.2) ...\n",
            "Selecting previously unselected package clickhouse-common-static.\n",
            "Preparing to unpack .../clickhouse-common-static_21.3.3.14_amd64.deb ...\n",
            "Unpacking clickhouse-common-static (21.3.3.14) ...\n",
            "Selecting previously unselected package clickhouse-client.\n",
            "Preparing to unpack .../clickhouse-client_21.3.3.14_all.deb ...\n",
            "Unpacking clickhouse-client (21.3.3.14) ...\n",
            "Selecting previously unselected package clickhouse-server.\n",
            "Preparing to unpack .../clickhouse-server_21.3.3.14_all.deb ...\n",
            "Unpacking clickhouse-server (21.3.3.14) ...\n",
            "Setting up libpam-cap:amd64 (1:2.25-1.2) ...\n",
            "debconf: unable to initialize frontend: Dialog\n",
            "debconf: (No usable dialog-like program is installed, so the dialog based frontend cannot be used. at /usr/share/perl5/Debconf/FrontEnd/Dialog.pm line 76.)\n",
            "debconf: falling back to frontend: Readline\n",
            "Setting up libcap2-bin (1:2.25-1.2) ...\n",
            "Setting up clickhouse-common-static (21.3.3.14) ...\n",
            "Setting up clickhouse-server (21.3.3.14) ...\n",
            "debconf: unable to initialize frontend: Dialog\n",
            "debconf: (No usable dialog-like program is installed, so the dialog based frontend cannot be used. at /usr/share/perl5/Debconf/FrontEnd/Dialog.pm line 76.)\n",
            "debconf: falling back to frontend: Readline\n",
            "Configuring clickhouse-server\n",
            "-----------------------------\n",
            "\n",
            "\u001b[4mEnter password for default user: \u001b[m\u001b[1m\u001b[m\u001b[m\n",
            "\n",
            "ClickHouse binary is already located at /usr/bin/clickhouse\n",
            "Symlink /usr/bin/clickhouse-server already exists but it points to /clickhouse. Will replace the old symlink to /usr/bin/clickhouse.\n",
            "Creating symlink /usr/bin/clickhouse-server to /usr/bin/clickhouse.\n",
            "Symlink /usr/bin/clickhouse-client already exists but it points to /clickhouse. Will replace the old symlink to /usr/bin/clickhouse.\n",
            "Creating symlink /usr/bin/clickhouse-client to /usr/bin/clickhouse.\n",
            "Symlink /usr/bin/clickhouse-local already exists but it points to /clickhouse. Will replace the old symlink to /usr/bin/clickhouse.\n",
            "Creating symlink /usr/bin/clickhouse-local to /usr/bin/clickhouse.\n",
            "Symlink /usr/bin/clickhouse-benchmark already exists but it points to /clickhouse. Will replace the old symlink to /usr/bin/clickhouse.\n",
            "Creating symlink /usr/bin/clickhouse-benchmark to /usr/bin/clickhouse.\n",
            "Symlink /usr/bin/clickhouse-copier already exists but it points to /clickhouse. Will replace the old symlink to /usr/bin/clickhouse.\n",
            "Creating symlink /usr/bin/clickhouse-copier to /usr/bin/clickhouse.\n",
            "Symlink /usr/bin/clickhouse-obfuscator already exists but it points to /clickhouse. Will replace the old symlink to /usr/bin/clickhouse.\n",
            "Creating symlink /usr/bin/clickhouse-obfuscator to /usr/bin/clickhouse.\n",
            "Creating symlink /usr/bin/clickhouse-git-import to /usr/bin/clickhouse.\n",
            "Symlink /usr/bin/clickhouse-compressor already exists but it points to /clickhouse. Will replace the old symlink to /usr/bin/clickhouse.\n",
            "Creating symlink /usr/bin/clickhouse-compressor to /usr/bin/clickhouse.\n",
            "Symlink /usr/bin/clickhouse-format already exists but it points to /clickhouse. Will replace the old symlink to /usr/bin/clickhouse.\n",
            "Creating symlink /usr/bin/clickhouse-format to /usr/bin/clickhouse.\n",
            "Symlink /usr/bin/clickhouse-extract-from-config already exists but it points to /clickhouse. Will replace the old symlink to /usr/bin/clickhouse.\n",
            "Creating symlink /usr/bin/clickhouse-extract-from-config to /usr/bin/clickhouse.\n",
            "Creating clickhouse group if it does not exist.\n",
            " groupadd -r clickhouse\n",
            "Creating clickhouse user if it does not exist.\n",
            " useradd -r --shell /bin/false --home-dir /nonexistent -g clickhouse clickhouse\n",
            "Will set ulimits for clickhouse user in /etc/security/limits.d/clickhouse.conf.\n",
            "Creating config directory /etc/clickhouse-server/config.d that is used for tweaks of main server configuration.\n",
            "Creating config directory /etc/clickhouse-server/users.d that is used for tweaks of users configuration.\n",
            "Config file /etc/clickhouse-server/config.xml already exists, will keep it and extract path info from it.\n",
            "/etc/clickhouse-server/config.xml has /var/lib/clickhouse/ as data path.\n",
            "/etc/clickhouse-server/config.xml has /var/log/clickhouse-server/ as log path.\n",
            "Users config file /etc/clickhouse-server/users.xml already exists, will keep it and extract users info from it.\n",
            " chown --recursive clickhouse:clickhouse '/etc/clickhouse-server'\n",
            "Creating log directory /var/log/clickhouse-server/.\n",
            "Creating data directory /var/lib/clickhouse/.\n",
            "Creating pid directory /var/run/clickhouse-server.\n",
            " chown --recursive clickhouse:clickhouse '/var/log/clickhouse-server/'\n",
            " chown --recursive clickhouse:clickhouse '/var/run/clickhouse-server'\n",
            " chown clickhouse:clickhouse '/var/lib/clickhouse/'\n",
            "Password for default user is empty string. See /etc/clickhouse-server/users.xml and /etc/clickhouse-server/users.d to change it.\n",
            "Setting capabilities for clickhouse binary. This is optional.\n",
            " command -v setcap >/dev/null && echo > /tmp/test_setcap.sh && chmod a+x /tmp/test_setcap.sh && /tmp/test_setcap.sh && setcap 'cap_net_admin,cap_ipc_lock,cap_sys_nice+ep' /tmp/test_setcap.sh && /tmp/test_setcap.sh && rm /tmp/test_setcap.sh && setcap 'cap_net_admin,cap_ipc_lock,cap_sys_nice+ep' /usr/bin/clickhouse || echo \"Cannot set 'net_admin' or 'ipc_lock' or 'sys_nice' capability for clickhouse binary. This is optional. Taskstats accounting will be disabled. To enable taskstats accounting you may add the required capability later manually.\"\n",
            "sh: 1: /tmp/test_setcap.sh: Operation not permitted\n",
            "Cannot set 'net_admin' or 'ipc_lock' or 'sys_nice' capability for clickhouse binary. This is optional. Taskstats accounting will be disabled. To enable taskstats accounting you may add the required capability later manually.\n",
            "\n",
            "ClickHouse has been successfully installed.\n",
            "\n",
            "Start clickhouse-server with:\n",
            " sudo clickhouse start\n",
            "\n",
            "Start clickhouse-client with:\n",
            " clickhouse-client\n",
            "\n",
            "Setting up clickhouse-client (21.3.3.14) ...\n",
            "Processing triggers for man-db (2.8.3-2ubuntu0.1) ...\n",
            "Processing triggers for systemd (237-3ubuntu10.44) ...\n",
            " chown --recursive clickhouse '/var/run/clickhouse-server/'\n",
            "Will run su -s /bin/sh 'clickhouse' -c '/usr/bin/clickhouse-server --config-file /etc/clickhouse-server/config.xml --pid-file /var/run/clickhouse-server/clickhouse-server.pid --daemon'\n",
            "Waiting for server to start\n",
            "Waiting for server to start\n",
            "Server started\n",
            "src/tcmalloc.cc:283] Attempt to free invalid pointer 0x7fface416000 \n"
          ],
          "name": "stdout"
        }
      ]
    },
    {
      "cell_type": "code",
      "metadata": {
        "colab": {
          "base_uri": "https://localhost:8080/"
        },
        "id": "kV7yV-dfH6vv",
        "outputId": "1cd66b96-37b5-4bb7-dffc-1f864a7e9cd6"
      },
      "source": [
        "!pip install clickhouse-driver"
      ],
      "execution_count": 2,
      "outputs": [
        {
          "output_type": "stream",
          "text": [
            "Collecting clickhouse-driver\n",
            "\u001b[?25l  Downloading https://files.pythonhosted.org/packages/7d/33/16f13d59d084ab3f38ef4c8f6906834d1a004c03ef2f68714ae22e42a3d6/clickhouse_driver-0.2.0-cp37-cp37m-manylinux2010_x86_64.whl (480kB)\n",
            "\u001b[K     |████████████████████████████████| 481kB 8.0MB/s \n",
            "\u001b[?25hRequirement already satisfied: tzlocal<3.0 in /usr/local/lib/python3.7/dist-packages (from clickhouse-driver) (1.5.1)\n",
            "Requirement already satisfied: pytz in /usr/local/lib/python3.7/dist-packages (from clickhouse-driver) (2018.9)\n",
            "Installing collected packages: clickhouse-driver\n",
            "Successfully installed clickhouse-driver-0.2.0\n"
          ],
          "name": "stdout"
        }
      ]
    },
    {
      "cell_type": "code",
      "metadata": {
        "colab": {
          "base_uri": "https://localhost:8080/"
        },
        "id": "SGu1Mty9IA6m",
        "outputId": "0781dd60-2a4a-4d09-cefb-f84175a12f2b"
      },
      "source": [
        "from clickhouse_driver import Client\n",
        "client = Client(host='localhost')\n",
        "client.execute('SHOW DATABASES')"
      ],
      "execution_count": 60,
      "outputs": [
        {
          "output_type": "execute_result",
          "data": {
            "text/plain": [
              "[('db_sales',), ('default',), ('system',)]"
            ]
          },
          "metadata": {
            "tags": []
          },
          "execution_count": 60
        }
      ]
    },
    {
      "cell_type": "markdown",
      "metadata": {
        "id": "MvQJBkS7IGF2"
      },
      "source": [
        "Загрузка датасета"
      ]
    },
    {
      "cell_type": "code",
      "metadata": {
        "id": "lj75vGWgIj3u"
      },
      "source": [
        "import pandas as pd\n",
        "import numpy as np\n",
        "from datetime import datetime"
      ],
      "execution_count": 10,
      "outputs": []
    },
    {
      "cell_type": "code",
      "metadata": {
        "id": "lVH69SoeIDZd"
      },
      "source": [
        "dateparser = lambda x: datetime.strptime(x, \"%d.%m.%Y\")\n",
        "df = pd.read_csv('data.csv',sep=';',decimal=',',parse_dates = ['date'], date_parser=dateparser)"
      ],
      "execution_count": 14,
      "outputs": []
    },
    {
      "cell_type": "code",
      "metadata": {
        "colab": {
          "base_uri": "https://localhost:8080/"
        },
        "id": "VrAuZGJ8IaF1",
        "outputId": "8a1974ef-fc85-4446-e14d-e2de2c53cdc6"
      },
      "source": [
        "print(df.head(5))\n",
        "print(df.info())"
      ],
      "execution_count": 15,
      "outputs": [
        {
          "output_type": "stream",
          "text": [
            "        date  region product  amount  delta\n",
            "0 2020-01-01       1       a      14   15.0\n",
            "1 2020-01-02       2       b      50   19.7\n",
            "2 2020-01-03       3       c      97   12.9\n",
            "3 2020-01-04       1       d      29   16.8\n",
            "4 2020-01-05       2       a      68   19.4\n",
            "<class 'pandas.core.frame.DataFrame'>\n",
            "RangeIndex: 20 entries, 0 to 19\n",
            "Data columns (total 5 columns):\n",
            " #   Column   Non-Null Count  Dtype         \n",
            "---  ------   --------------  -----         \n",
            " 0   date     20 non-null     datetime64[ns]\n",
            " 1   region   20 non-null     int64         \n",
            " 2   product  20 non-null     object        \n",
            " 3   amount   20 non-null     int64         \n",
            " 4   delta    20 non-null     float64       \n",
            "dtypes: datetime64[ns](1), float64(1), int64(2), object(1)\n",
            "memory usage: 928.0+ bytes\n",
            "None\n"
          ],
          "name": "stdout"
        }
      ]
    },
    {
      "cell_type": "markdown",
      "metadata": {
        "id": "qxqQDPgoLDCY"
      },
      "source": [
        "Добавление новой БД и запись значений"
      ]
    },
    {
      "cell_type": "code",
      "metadata": {
        "colab": {
          "base_uri": "https://localhost:8080/"
        },
        "id": "bFSXHh1wK2Ju",
        "outputId": "3ddafd17-9ecb-4669-bd4c-a2023f42762a"
      },
      "source": [
        "client.execute('CREATE DATABASE db_sales')"
      ],
      "execution_count": 16,
      "outputs": [
        {
          "output_type": "execute_result",
          "data": {
            "text/plain": [
              "[]"
            ]
          },
          "metadata": {
            "tags": []
          },
          "execution_count": 16
        }
      ]
    },
    {
      "cell_type": "code",
      "metadata": {
        "colab": {
          "base_uri": "https://localhost:8080/"
        },
        "id": "gzRm4NQALNGX",
        "outputId": "826c9a7e-9645-4f14-e55c-ccad8ba035f4"
      },
      "source": [
        "client.execute('SHOW DATABASES')"
      ],
      "execution_count": 17,
      "outputs": [
        {
          "output_type": "execute_result",
          "data": {
            "text/plain": [
              "[('db_sales',), ('default',), ('system',)]"
            ]
          },
          "metadata": {
            "tags": []
          },
          "execution_count": 17
        }
      ]
    },
    {
      "cell_type": "code",
      "metadata": {
        "id": "fWosmiJ7LR9F"
      },
      "source": [
        "client = Client(host='localhost', user='default', port='9000', database='db_sales',settings={'use_numpy': True})"
      ],
      "execution_count": 62,
      "outputs": []
    },
    {
      "cell_type": "code",
      "metadata": {
        "colab": {
          "base_uri": "https://localhost:8080/"
        },
        "id": "RVu-IT1HLUmW",
        "outputId": "7b147f31-63c6-45e5-b784-de5061d42ab7"
      },
      "source": [
        "client.execute('DROP TABLE IF EXISTS sales')"
      ],
      "execution_count": 22,
      "outputs": [
        {
          "output_type": "execute_result",
          "data": {
            "text/plain": [
              "[]"
            ]
          },
          "metadata": {
            "tags": []
          },
          "execution_count": 22
        }
      ]
    },
    {
      "cell_type": "code",
      "metadata": {
        "colab": {
          "base_uri": "https://localhost:8080/"
        },
        "id": "ggdMCmVOLYxF",
        "outputId": "2a1f630d-e9ad-4145-c7f8-e62ca5f18f51"
      },
      "source": [
        "client.execute('CREATE TABLE sales (date Date, region Int32, product String, amount Int32, delta Float32  ) ENGINE = Memory')"
      ],
      "execution_count": 23,
      "outputs": [
        {
          "output_type": "execute_result",
          "data": {
            "text/plain": [
              "[]"
            ]
          },
          "metadata": {
            "tags": []
          },
          "execution_count": 23
        }
      ]
    },
    {
      "cell_type": "code",
      "metadata": {
        "colab": {
          "base_uri": "https://localhost:8080/"
        },
        "id": "qZFPlp6pLwlo",
        "outputId": "2b47ded7-7d59-4167-d44b-b5a3735422a9"
      },
      "source": [
        "client.execute('SHOW TABLES FROM db_sales')"
      ],
      "execution_count": 24,
      "outputs": [
        {
          "output_type": "execute_result",
          "data": {
            "text/plain": [
              "[('sales',)]"
            ]
          },
          "metadata": {
            "tags": []
          },
          "execution_count": 24
        }
      ]
    },
    {
      "cell_type": "code",
      "metadata": {
        "colab": {
          "base_uri": "https://localhost:8080/"
        },
        "id": "ZK2mbC7SMB1G",
        "outputId": "365336a6-3d1f-45d5-9dc6-78fd4f6fd7c6"
      },
      "source": [
        "client.execute(\"INSERT INTO sales VALUES\", df.to_dict('records'))"
      ],
      "execution_count": 25,
      "outputs": [
        {
          "output_type": "execute_result",
          "data": {
            "text/plain": [
              "20"
            ]
          },
          "metadata": {
            "tags": []
          },
          "execution_count": 25
        }
      ]
    },
    {
      "cell_type": "code",
      "metadata": {
        "colab": {
          "base_uri": "https://localhost:8080/"
        },
        "id": "ot6uZRxYMVIe",
        "outputId": "332011f0-30c2-49a7-9e07-b459b92920ce"
      },
      "source": [
        "client.execute('SELECT * FROM sales LIMIT 5')"
      ],
      "execution_count": 26,
      "outputs": [
        {
          "output_type": "execute_result",
          "data": {
            "text/plain": [
              "[(datetime.date(2020, 1, 1), 1, 'a', 14, 15.0),\n",
              " (datetime.date(2020, 1, 2), 2, 'b', 50, 19.700000762939453),\n",
              " (datetime.date(2020, 1, 3), 3, 'c', 97, 12.899999618530273),\n",
              " (datetime.date(2020, 1, 4), 1, 'd', 29, 16.799999237060547),\n",
              " (datetime.date(2020, 1, 5), 2, 'a', 68, 19.399999618530273)]"
            ]
          },
          "metadata": {
            "tags": []
          },
          "execution_count": 26
        }
      ]
    },
    {
      "cell_type": "code",
      "metadata": {
        "id": "3YSDemG8Q4N4"
      },
      "source": [
        "def select_clickhouse(sql):\n",
        "  return client.query_dataframe(sql)"
      ],
      "execution_count": 73,
      "outputs": []
    },
    {
      "cell_type": "code",
      "metadata": {
        "id": "SDUwHZg_Rdce"
      },
      "source": [
        "sql = '''SELECT * FROM sales LIMIT 5'''"
      ],
      "execution_count": 74,
      "outputs": []
    },
    {
      "cell_type": "code",
      "metadata": {
        "colab": {
          "base_uri": "https://localhost:8080/",
          "height": 204
        },
        "id": "WisJgtMyRidA",
        "outputId": "838cfa50-1391-4e99-e017-a275d20552b3"
      },
      "source": [
        "select_clickhouse(sql)"
      ],
      "execution_count": 75,
      "outputs": [
        {
          "output_type": "execute_result",
          "data": {
            "text/html": [
              "<div>\n",
              "<style scoped>\n",
              "    .dataframe tbody tr th:only-of-type {\n",
              "        vertical-align: middle;\n",
              "    }\n",
              "\n",
              "    .dataframe tbody tr th {\n",
              "        vertical-align: top;\n",
              "    }\n",
              "\n",
              "    .dataframe thead th {\n",
              "        text-align: right;\n",
              "    }\n",
              "</style>\n",
              "<table border=\"1\" class=\"dataframe\">\n",
              "  <thead>\n",
              "    <tr style=\"text-align: right;\">\n",
              "      <th></th>\n",
              "      <th>date</th>\n",
              "      <th>region</th>\n",
              "      <th>product</th>\n",
              "      <th>amount</th>\n",
              "      <th>delta</th>\n",
              "    </tr>\n",
              "  </thead>\n",
              "  <tbody>\n",
              "    <tr>\n",
              "      <th>0</th>\n",
              "      <td>2020-01-01</td>\n",
              "      <td>1</td>\n",
              "      <td>a</td>\n",
              "      <td>14</td>\n",
              "      <td>15.000000</td>\n",
              "    </tr>\n",
              "    <tr>\n",
              "      <th>1</th>\n",
              "      <td>2020-01-02</td>\n",
              "      <td>2</td>\n",
              "      <td>b</td>\n",
              "      <td>50</td>\n",
              "      <td>19.700001</td>\n",
              "    </tr>\n",
              "    <tr>\n",
              "      <th>2</th>\n",
              "      <td>2020-01-03</td>\n",
              "      <td>3</td>\n",
              "      <td>c</td>\n",
              "      <td>97</td>\n",
              "      <td>12.900000</td>\n",
              "    </tr>\n",
              "    <tr>\n",
              "      <th>3</th>\n",
              "      <td>2020-01-04</td>\n",
              "      <td>1</td>\n",
              "      <td>d</td>\n",
              "      <td>29</td>\n",
              "      <td>16.799999</td>\n",
              "    </tr>\n",
              "    <tr>\n",
              "      <th>4</th>\n",
              "      <td>2020-01-05</td>\n",
              "      <td>2</td>\n",
              "      <td>a</td>\n",
              "      <td>68</td>\n",
              "      <td>19.400000</td>\n",
              "    </tr>\n",
              "  </tbody>\n",
              "</table>\n",
              "</div>"
            ],
            "text/plain": [
              "        date  region product  amount      delta\n",
              "0 2020-01-01       1       a      14  15.000000\n",
              "1 2020-01-02       2       b      50  19.700001\n",
              "2 2020-01-03       3       c      97  12.900000\n",
              "3 2020-01-04       1       d      29  16.799999\n",
              "4 2020-01-05       2       a      68  19.400000"
            ]
          },
          "metadata": {
            "tags": []
          },
          "execution_count": 75
        }
      ]
    },
    {
      "cell_type": "markdown",
      "metadata": {
        "id": "kWqe4qmfUfuQ"
      },
      "source": [
        "## Преобразование типов"
      ]
    },
    {
      "cell_type": "code",
      "metadata": {
        "id": "AUu_tSINTH7H"
      },
      "source": [
        "sql = '''SELECT s.*, toInt32(round(s.delta,0)) as delta_int FROM sales as s LIMIT 5'''"
      ],
      "execution_count": 88,
      "outputs": []
    },
    {
      "cell_type": "code",
      "metadata": {
        "colab": {
          "base_uri": "https://localhost:8080/",
          "height": 204
        },
        "id": "LCo9L8tyTSUm",
        "outputId": "b7ba9d97-0548-4235-fbdb-0908a3faa1f5"
      },
      "source": [
        "select_clickhouse(sql)"
      ],
      "execution_count": 89,
      "outputs": [
        {
          "output_type": "execute_result",
          "data": {
            "text/html": [
              "<div>\n",
              "<style scoped>\n",
              "    .dataframe tbody tr th:only-of-type {\n",
              "        vertical-align: middle;\n",
              "    }\n",
              "\n",
              "    .dataframe tbody tr th {\n",
              "        vertical-align: top;\n",
              "    }\n",
              "\n",
              "    .dataframe thead th {\n",
              "        text-align: right;\n",
              "    }\n",
              "</style>\n",
              "<table border=\"1\" class=\"dataframe\">\n",
              "  <thead>\n",
              "    <tr style=\"text-align: right;\">\n",
              "      <th></th>\n",
              "      <th>date</th>\n",
              "      <th>region</th>\n",
              "      <th>product</th>\n",
              "      <th>amount</th>\n",
              "      <th>delta</th>\n",
              "      <th>delta_int</th>\n",
              "    </tr>\n",
              "  </thead>\n",
              "  <tbody>\n",
              "    <tr>\n",
              "      <th>0</th>\n",
              "      <td>2020-01-01</td>\n",
              "      <td>1</td>\n",
              "      <td>a</td>\n",
              "      <td>14</td>\n",
              "      <td>15.000000</td>\n",
              "      <td>15</td>\n",
              "    </tr>\n",
              "    <tr>\n",
              "      <th>1</th>\n",
              "      <td>2020-01-02</td>\n",
              "      <td>2</td>\n",
              "      <td>b</td>\n",
              "      <td>50</td>\n",
              "      <td>19.700001</td>\n",
              "      <td>20</td>\n",
              "    </tr>\n",
              "    <tr>\n",
              "      <th>2</th>\n",
              "      <td>2020-01-03</td>\n",
              "      <td>3</td>\n",
              "      <td>c</td>\n",
              "      <td>97</td>\n",
              "      <td>12.900000</td>\n",
              "      <td>13</td>\n",
              "    </tr>\n",
              "    <tr>\n",
              "      <th>3</th>\n",
              "      <td>2020-01-04</td>\n",
              "      <td>1</td>\n",
              "      <td>d</td>\n",
              "      <td>29</td>\n",
              "      <td>16.799999</td>\n",
              "      <td>17</td>\n",
              "    </tr>\n",
              "    <tr>\n",
              "      <th>4</th>\n",
              "      <td>2020-01-05</td>\n",
              "      <td>2</td>\n",
              "      <td>a</td>\n",
              "      <td>68</td>\n",
              "      <td>19.400000</td>\n",
              "      <td>19</td>\n",
              "    </tr>\n",
              "  </tbody>\n",
              "</table>\n",
              "</div>"
            ],
            "text/plain": [
              "        date  region product  amount      delta  delta_int\n",
              "0 2020-01-01       1       a      14  15.000000         15\n",
              "1 2020-01-02       2       b      50  19.700001         20\n",
              "2 2020-01-03       3       c      97  12.900000         13\n",
              "3 2020-01-04       1       d      29  16.799999         17\n",
              "4 2020-01-05       2       a      68  19.400000         19"
            ]
          },
          "metadata": {
            "tags": []
          },
          "execution_count": 89
        }
      ]
    },
    {
      "cell_type": "markdown",
      "metadata": {
        "id": "uSstAnPAVXs3"
      },
      "source": [
        "## Условные функции"
      ]
    },
    {
      "cell_type": "code",
      "metadata": {
        "id": "bOGXFzvxVVg3"
      },
      "source": [
        "sql ='''SELECT multiIf(s.product = 'a','aaa',s.product = 'b','bbb','ccc') as product_name FROM sales as s LIMIT 5'''"
      ],
      "execution_count": 94,
      "outputs": []
    },
    {
      "cell_type": "code",
      "metadata": {
        "colab": {
          "base_uri": "https://localhost:8080/",
          "height": 204
        },
        "id": "tS4rM0ACWkRW",
        "outputId": "69594225-b768-4057-822f-dc6c3cd5d0e8"
      },
      "source": [
        "select_clickhouse(sql)"
      ],
      "execution_count": 95,
      "outputs": [
        {
          "output_type": "execute_result",
          "data": {
            "text/html": [
              "<div>\n",
              "<style scoped>\n",
              "    .dataframe tbody tr th:only-of-type {\n",
              "        vertical-align: middle;\n",
              "    }\n",
              "\n",
              "    .dataframe tbody tr th {\n",
              "        vertical-align: top;\n",
              "    }\n",
              "\n",
              "    .dataframe thead th {\n",
              "        text-align: right;\n",
              "    }\n",
              "</style>\n",
              "<table border=\"1\" class=\"dataframe\">\n",
              "  <thead>\n",
              "    <tr style=\"text-align: right;\">\n",
              "      <th></th>\n",
              "      <th>product_name</th>\n",
              "    </tr>\n",
              "  </thead>\n",
              "  <tbody>\n",
              "    <tr>\n",
              "      <th>0</th>\n",
              "      <td>aaa</td>\n",
              "    </tr>\n",
              "    <tr>\n",
              "      <th>1</th>\n",
              "      <td>bbb</td>\n",
              "    </tr>\n",
              "    <tr>\n",
              "      <th>2</th>\n",
              "      <td>ccc</td>\n",
              "    </tr>\n",
              "    <tr>\n",
              "      <th>3</th>\n",
              "      <td>ccc</td>\n",
              "    </tr>\n",
              "    <tr>\n",
              "      <th>4</th>\n",
              "      <td>aaa</td>\n",
              "    </tr>\n",
              "  </tbody>\n",
              "</table>\n",
              "</div>"
            ],
            "text/plain": [
              "  product_name\n",
              "0          aaa\n",
              "1          bbb\n",
              "2          ccc\n",
              "3          ccc\n",
              "4          aaa"
            ]
          },
          "metadata": {
            "tags": []
          },
          "execution_count": 95
        }
      ]
    },
    {
      "cell_type": "markdown",
      "metadata": {
        "id": "N1nKmljsXeKX"
      },
      "source": [
        "## Агрегатные функции"
      ]
    },
    {
      "cell_type": "code",
      "metadata": {
        "id": "Fr0X4RnwW_uo"
      },
      "source": [
        "sql ='''SELECT corr(s.amount,s.delta) as corr FROM sales as s'''"
      ],
      "execution_count": 96,
      "outputs": []
    },
    {
      "cell_type": "code",
      "metadata": {
        "colab": {
          "base_uri": "https://localhost:8080/",
          "height": 80
        },
        "id": "-8EE65O3YOzH",
        "outputId": "06c61fb4-fe1b-49ab-9173-ac29ea99d583"
      },
      "source": [
        "select_clickhouse(sql)"
      ],
      "execution_count": 97,
      "outputs": [
        {
          "output_type": "execute_result",
          "data": {
            "text/html": [
              "<div>\n",
              "<style scoped>\n",
              "    .dataframe tbody tr th:only-of-type {\n",
              "        vertical-align: middle;\n",
              "    }\n",
              "\n",
              "    .dataframe tbody tr th {\n",
              "        vertical-align: top;\n",
              "    }\n",
              "\n",
              "    .dataframe thead th {\n",
              "        text-align: right;\n",
              "    }\n",
              "</style>\n",
              "<table border=\"1\" class=\"dataframe\">\n",
              "  <thead>\n",
              "    <tr style=\"text-align: right;\">\n",
              "      <th></th>\n",
              "      <th>corr</th>\n",
              "    </tr>\n",
              "  </thead>\n",
              "  <tbody>\n",
              "    <tr>\n",
              "      <th>0</th>\n",
              "      <td>-0.373312</td>\n",
              "    </tr>\n",
              "  </tbody>\n",
              "</table>\n",
              "</div>"
            ],
            "text/plain": [
              "       corr\n",
              "0 -0.373312"
            ]
          },
          "metadata": {
            "tags": []
          },
          "execution_count": 97
        }
      ]
    },
    {
      "cell_type": "code",
      "metadata": {
        "id": "J-M0Gz7IYZDu"
      },
      "source": [
        "sql ='''SELECT topK(2)(s.product) FROM sales as s'''"
      ],
      "execution_count": 101,
      "outputs": []
    },
    {
      "cell_type": "code",
      "metadata": {
        "colab": {
          "base_uri": "https://localhost:8080/",
          "height": 80
        },
        "id": "CpD7_exFYjnn",
        "outputId": "57fc00fd-1e16-41bd-8cfa-2c5926069429"
      },
      "source": [
        "select_clickhouse(sql)"
      ],
      "execution_count": 102,
      "outputs": [
        {
          "output_type": "execute_result",
          "data": {
            "text/html": [
              "<div>\n",
              "<style scoped>\n",
              "    .dataframe tbody tr th:only-of-type {\n",
              "        vertical-align: middle;\n",
              "    }\n",
              "\n",
              "    .dataframe tbody tr th {\n",
              "        vertical-align: top;\n",
              "    }\n",
              "\n",
              "    .dataframe thead th {\n",
              "        text-align: right;\n",
              "    }\n",
              "</style>\n",
              "<table border=\"1\" class=\"dataframe\">\n",
              "  <thead>\n",
              "    <tr style=\"text-align: right;\">\n",
              "      <th></th>\n",
              "      <th>topK_2__product_</th>\n",
              "    </tr>\n",
              "  </thead>\n",
              "  <tbody>\n",
              "    <tr>\n",
              "      <th>0</th>\n",
              "      <td>[a, b]</td>\n",
              "    </tr>\n",
              "  </tbody>\n",
              "</table>\n",
              "</div>"
            ],
            "text/plain": [
              "  topK_2__product_\n",
              "0           [a, b]"
            ]
          },
          "metadata": {
            "tags": []
          },
          "execution_count": 102
        }
      ]
    },
    {
      "cell_type": "code",
      "metadata": {
        "id": "91bKBsZAY1nl"
      },
      "source": [
        "sql ='''SELECT argMin(s.product, amount) as argMin, argMin(tuple(s.product, s.amount)) as argMin_tuple FROM sales as s'''"
      ],
      "execution_count": 105,
      "outputs": []
    },
    {
      "cell_type": "code",
      "metadata": {
        "colab": {
          "base_uri": "https://localhost:8080/",
          "height": 80
        },
        "id": "qtW_dd6tbEN-",
        "outputId": "b6a67f23-687b-4402-8f26-11da22a2e295"
      },
      "source": [
        "select_clickhouse(sql)"
      ],
      "execution_count": 106,
      "outputs": [
        {
          "output_type": "execute_result",
          "data": {
            "text/html": [
              "<div>\n",
              "<style scoped>\n",
              "    .dataframe tbody tr th:only-of-type {\n",
              "        vertical-align: middle;\n",
              "    }\n",
              "\n",
              "    .dataframe tbody tr th {\n",
              "        vertical-align: top;\n",
              "    }\n",
              "\n",
              "    .dataframe thead th {\n",
              "        text-align: right;\n",
              "    }\n",
              "</style>\n",
              "<table border=\"1\" class=\"dataframe\">\n",
              "  <thead>\n",
              "    <tr style=\"text-align: right;\">\n",
              "      <th></th>\n",
              "      <th>argMin</th>\n",
              "      <th>argMin_tuple</th>\n",
              "    </tr>\n",
              "  </thead>\n",
              "  <tbody>\n",
              "    <tr>\n",
              "      <th>0</th>\n",
              "      <td>a</td>\n",
              "      <td>(a, 14)</td>\n",
              "    </tr>\n",
              "  </tbody>\n",
              "</table>\n",
              "</div>"
            ],
            "text/plain": [
              "  argMin argMin_tuple\n",
              "0      a      (a, 14)"
            ]
          },
          "metadata": {
            "tags": []
          },
          "execution_count": 106
        }
      ]
    },
    {
      "cell_type": "code",
      "metadata": {
        "id": "e4nHjZzhbPsf"
      },
      "source": [
        "sql ='''SELECT simpleLinearRegression(s.amount,s.delta) as linearRegression FROM sales as s'''"
      ],
      "execution_count": 121,
      "outputs": []
    },
    {
      "cell_type": "code",
      "metadata": {
        "colab": {
          "base_uri": "https://localhost:8080/",
          "height": 80
        },
        "id": "B8xthWUuci7P",
        "outputId": "ed7c074c-ee03-4608-aec8-adf8a35d3198"
      },
      "source": [
        "select_clickhouse(sql)"
      ],
      "execution_count": 122,
      "outputs": [
        {
          "output_type": "execute_result",
          "data": {
            "text/html": [
              "<div>\n",
              "<style scoped>\n",
              "    .dataframe tbody tr th:only-of-type {\n",
              "        vertical-align: middle;\n",
              "    }\n",
              "\n",
              "    .dataframe tbody tr th {\n",
              "        vertical-align: top;\n",
              "    }\n",
              "\n",
              "    .dataframe thead th {\n",
              "        text-align: right;\n",
              "    }\n",
              "</style>\n",
              "<table border=\"1\" class=\"dataframe\">\n",
              "  <thead>\n",
              "    <tr style=\"text-align: right;\">\n",
              "      <th></th>\n",
              "      <th>linearRegression</th>\n",
              "    </tr>\n",
              "  </thead>\n",
              "  <tbody>\n",
              "    <tr>\n",
              "      <th>0</th>\n",
              "      <td>(-0.03912577754180567, 18.034076274781373)</td>\n",
              "    </tr>\n",
              "  </tbody>\n",
              "</table>\n",
              "</div>"
            ],
            "text/plain": [
              "                             linearRegression\n",
              "0  (-0.03912577754180567, 18.034076274781373)"
            ]
          },
          "metadata": {
            "tags": []
          },
          "execution_count": 122
        }
      ]
    },
    {
      "cell_type": "code",
      "metadata": {
        "id": "QZyuAymwePaA"
      },
      "source": [
        "sql = '''WITH test as (SELECT s.amount, s.product, if(s.product ='a',1,0) as product_code FROM sales as s WHERE product IN ('a','b'))\n",
        "SELECT studentTTest(t.amount, t.product_code) as t_test  FROM  test as t'''"
      ],
      "execution_count": 144,
      "outputs": []
    },
    {
      "cell_type": "code",
      "metadata": {
        "colab": {
          "base_uri": "https://localhost:8080/",
          "height": 80
        },
        "id": "y_rKMtFseptQ",
        "outputId": "90bae3eb-9892-4ab7-d9a3-63bd2b7b192c"
      },
      "source": [
        "select_clickhouse(sql)"
      ],
      "execution_count": 145,
      "outputs": [
        {
          "output_type": "execute_result",
          "data": {
            "text/html": [
              "<div>\n",
              "<style scoped>\n",
              "    .dataframe tbody tr th:only-of-type {\n",
              "        vertical-align: middle;\n",
              "    }\n",
              "\n",
              "    .dataframe tbody tr th {\n",
              "        vertical-align: top;\n",
              "    }\n",
              "\n",
              "    .dataframe thead th {\n",
              "        text-align: right;\n",
              "    }\n",
              "</style>\n",
              "<table border=\"1\" class=\"dataframe\">\n",
              "  <thead>\n",
              "    <tr style=\"text-align: right;\">\n",
              "      <th></th>\n",
              "      <th>t_test</th>\n",
              "    </tr>\n",
              "  </thead>\n",
              "  <tbody>\n",
              "    <tr>\n",
              "      <th>0</th>\n",
              "      <td>(0.38800371725178673, 0.7081336841547918)</td>\n",
              "    </tr>\n",
              "  </tbody>\n",
              "</table>\n",
              "</div>"
            ],
            "text/plain": [
              "                                      t_test\n",
              "0  (0.38800371725178673, 0.7081336841547918)"
            ]
          },
          "metadata": {
            "tags": []
          },
          "execution_count": 145
        }
      ]
    }
  ]
}