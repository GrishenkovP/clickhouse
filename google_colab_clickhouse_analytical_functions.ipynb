{
  "nbformat": 4,
  "nbformat_minor": 0,
  "metadata": {
    "colab": {
      "name": "google_colab_clickhouse_analytical_functions.ipynb",
      "provenance": [],
      "collapsed_sections": []
    },
    "kernelspec": {
      "name": "python3",
      "display_name": "Python 3"
    },
    "language_info": {
      "name": "python"
    }
  },
  "cells": [
    {
      "cell_type": "markdown",
      "metadata": {
        "id": "GxFnwEJN0j3N"
      },
      "source": [
        "# ClickHouse. Аналитические функции"
      ]
    },
    {
      "cell_type": "code",
      "metadata": {
        "id": "9RT_abua0QU7"
      },
      "source": [
        "import pandas as pd\n",
        "import numpy as np"
      ],
      "execution_count": 1,
      "outputs": []
    },
    {
      "cell_type": "code",
      "metadata": {
        "id": "Rn3Bou5e1GUl"
      },
      "source": [
        "df = pd.read_csv('/content/drive/MyDrive/dataset/clickhouse_data.csv', sep=';', parse_dates=['dt'])"
      ],
      "execution_count": 5,
      "outputs": []
    },
    {
      "cell_type": "code",
      "metadata": {
        "colab": {
          "base_uri": "https://localhost:8080/"
        },
        "id": "qfE-ZJ5X1RQ8",
        "outputId": "f44138c6-1356-4be6-bb8b-bf0c5df65910"
      },
      "source": [
        "df.info()"
      ],
      "execution_count": 8,
      "outputs": [
        {
          "output_type": "stream",
          "name": "stdout",
          "text": [
            "<class 'pandas.core.frame.DataFrame'>\n",
            "RangeIndex: 49 entries, 0 to 48\n",
            "Data columns (total 4 columns):\n",
            " #   Column   Non-Null Count  Dtype         \n",
            "---  ------   --------------  -----         \n",
            " 0   dt       49 non-null     datetime64[ns]\n",
            " 1   group    49 non-null     object        \n",
            " 2   manager  49 non-null     object        \n",
            " 3   val      49 non-null     int64         \n",
            "dtypes: datetime64[ns](1), int64(1), object(2)\n",
            "memory usage: 1.7+ KB\n"
          ]
        }
      ]
    },
    {
      "cell_type": "code",
      "metadata": {
        "id": "NZg13PxP1ghE"
      },
      "source": [
        "%%capture\n",
        "!sudo apt-get install apt-transport-https ca-certificates dirmngr\n",
        "!sudo apt-key adv --keyserver hkp://keyserver.ubuntu.com:80 --recv E0C56BD4\n",
        "\n",
        "!echo \"deb https://repo.clickhouse.tech/deb/stable/ main/\" | sudo tee \\\n",
        "    /etc/apt/sources.list.d/clickhouse.list\n",
        "!sudo apt-get update\n",
        "\n",
        "!sudo apt-get install -y clickhouse-server clickhouse-client\n",
        "\n",
        "!sudo service clickhouse-server start\n",
        "!clickhouse-client"
      ],
      "execution_count": 9,
      "outputs": []
    },
    {
      "cell_type": "code",
      "metadata": {
        "id": "zw3WJku418Aj"
      },
      "source": [
        "%%capture\n",
        "!pip install clickhouse-driver"
      ],
      "execution_count": 10,
      "outputs": []
    },
    {
      "cell_type": "code",
      "metadata": {
        "colab": {
          "base_uri": "https://localhost:8080/"
        },
        "id": "P5y75p-V2Acr",
        "outputId": "67144892-6700-44dc-fde3-59aa3ddfa18c"
      },
      "source": [
        "from clickhouse_driver import Client\n",
        "client = Client(host='localhost')\n",
        "client.execute('SHOW DATABASES')"
      ],
      "execution_count": 11,
      "outputs": [
        {
          "output_type": "execute_result",
          "data": {
            "text/plain": [
              "[('default',), ('system',)]"
            ]
          },
          "metadata": {},
          "execution_count": 11
        }
      ]
    },
    {
      "cell_type": "code",
      "metadata": {
        "colab": {
          "base_uri": "https://localhost:8080/"
        },
        "id": "WmiD4qWv2E2c",
        "outputId": "a5a2ea4e-3686-4595-877d-e0f3711656a7"
      },
      "source": [
        "client.execute('DROP DATABASE IF EXISTS db')\n",
        "client.execute('CREATE DATABASE db')\n",
        "client.execute('SHOW DATABASES')"
      ],
      "execution_count": 12,
      "outputs": [
        {
          "output_type": "execute_result",
          "data": {
            "text/plain": [
              "[('db',), ('default',), ('system',)]"
            ]
          },
          "metadata": {},
          "execution_count": 12
        }
      ]
    },
    {
      "cell_type": "code",
      "metadata": {
        "id": "2NfJhJ9j2HQT"
      },
      "source": [
        "client = Client(host='localhost', user='default', port='9000', database='db')"
      ],
      "execution_count": 13,
      "outputs": []
    },
    {
      "cell_type": "code",
      "metadata": {
        "colab": {
          "base_uri": "https://localhost:8080/"
        },
        "id": "1JLWbQjR2JfT",
        "outputId": "f4e53009-bada-4cb1-e192-2e1eb59d86cb"
      },
      "source": [
        "client.execute('DROP TABLE IF EXISTS sales')\n",
        "client.execute('CREATE TABLE sales (dt Date, \\\n",
        "                                    group String, \\\n",
        "                                    manager String, \\\n",
        "                                    val  Int32 \\\n",
        "                                      ) ENGINE = Memory')\n",
        "client.execute('SHOW TABLES FROM db')"
      ],
      "execution_count": 14,
      "outputs": [
        {
          "output_type": "execute_result",
          "data": {
            "text/plain": [
              "[('sales',)]"
            ]
          },
          "metadata": {},
          "execution_count": 14
        }
      ]
    },
    {
      "cell_type": "code",
      "metadata": {
        "colab": {
          "base_uri": "https://localhost:8080/"
        },
        "id": "T-RhtGui2kz8",
        "outputId": "4ca59044-6647-46de-fd65-67b17f3d97f3"
      },
      "source": [
        "client.execute(\"INSERT INTO sales VALUES\", df.to_dict('records'))"
      ],
      "execution_count": 15,
      "outputs": [
        {
          "output_type": "execute_result",
          "data": {
            "text/plain": [
              "49"
            ]
          },
          "metadata": {},
          "execution_count": 15
        }
      ]
    },
    {
      "cell_type": "code",
      "metadata": {
        "id": "7G8QHA8Z2ooM"
      },
      "source": [
        "def select_clickhouse(sql):\n",
        "  return client.query_dataframe(sql)"
      ],
      "execution_count": 16,
      "outputs": []
    },
    {
      "cell_type": "code",
      "metadata": {
        "id": "kq4Q0OQU2q7t"
      },
      "source": [
        "sql = '''SELECT * FROM sales'''"
      ],
      "execution_count": 37,
      "outputs": []
    },
    {
      "cell_type": "code",
      "metadata": {
        "colab": {
          "base_uri": "https://localhost:8080/",
          "height": 1000
        },
        "id": "NmEfgSZ32rxl",
        "outputId": "711f3fe9-6130-4aec-bf9f-0d0ccd158fe3"
      },
      "source": [
        "select_clickhouse(sql)"
      ],
      "execution_count": 38,
      "outputs": [
        {
          "output_type": "execute_result",
          "data": {
            "text/html": [
              "<div>\n",
              "<style scoped>\n",
              "    .dataframe tbody tr th:only-of-type {\n",
              "        vertical-align: middle;\n",
              "    }\n",
              "\n",
              "    .dataframe tbody tr th {\n",
              "        vertical-align: top;\n",
              "    }\n",
              "\n",
              "    .dataframe thead th {\n",
              "        text-align: right;\n",
              "    }\n",
              "</style>\n",
              "<table border=\"1\" class=\"dataframe\">\n",
              "  <thead>\n",
              "    <tr style=\"text-align: right;\">\n",
              "      <th></th>\n",
              "      <th>dt</th>\n",
              "      <th>group</th>\n",
              "      <th>manager</th>\n",
              "      <th>val</th>\n",
              "    </tr>\n",
              "  </thead>\n",
              "  <tbody>\n",
              "    <tr>\n",
              "      <th>0</th>\n",
              "      <td>2021-01-01</td>\n",
              "      <td>C</td>\n",
              "      <td>m4</td>\n",
              "      <td>95</td>\n",
              "    </tr>\n",
              "    <tr>\n",
              "      <th>1</th>\n",
              "      <td>2021-02-01</td>\n",
              "      <td>A</td>\n",
              "      <td>m4</td>\n",
              "      <td>33</td>\n",
              "    </tr>\n",
              "    <tr>\n",
              "      <th>2</th>\n",
              "      <td>2021-03-01</td>\n",
              "      <td>C</td>\n",
              "      <td>m4</td>\n",
              "      <td>64</td>\n",
              "    </tr>\n",
              "    <tr>\n",
              "      <th>3</th>\n",
              "      <td>2021-04-01</td>\n",
              "      <td>C</td>\n",
              "      <td>m3</td>\n",
              "      <td>1</td>\n",
              "    </tr>\n",
              "    <tr>\n",
              "      <th>4</th>\n",
              "      <td>2021-05-01</td>\n",
              "      <td>C</td>\n",
              "      <td>m2</td>\n",
              "      <td>33</td>\n",
              "    </tr>\n",
              "    <tr>\n",
              "      <th>5</th>\n",
              "      <td>2021-06-01</td>\n",
              "      <td>B</td>\n",
              "      <td>m1</td>\n",
              "      <td>36</td>\n",
              "    </tr>\n",
              "    <tr>\n",
              "      <th>6</th>\n",
              "      <td>2021-07-01</td>\n",
              "      <td>B</td>\n",
              "      <td>m1</td>\n",
              "      <td>35</td>\n",
              "    </tr>\n",
              "    <tr>\n",
              "      <th>7</th>\n",
              "      <td>2021-08-01</td>\n",
              "      <td>B</td>\n",
              "      <td>m1</td>\n",
              "      <td>79</td>\n",
              "    </tr>\n",
              "    <tr>\n",
              "      <th>8</th>\n",
              "      <td>2021-09-01</td>\n",
              "      <td>A</td>\n",
              "      <td>m5</td>\n",
              "      <td>97</td>\n",
              "    </tr>\n",
              "    <tr>\n",
              "      <th>9</th>\n",
              "      <td>2021-10-01</td>\n",
              "      <td>A</td>\n",
              "      <td>m3</td>\n",
              "      <td>10</td>\n",
              "    </tr>\n",
              "    <tr>\n",
              "      <th>10</th>\n",
              "      <td>2021-11-01</td>\n",
              "      <td>B</td>\n",
              "      <td>m2</td>\n",
              "      <td>1</td>\n",
              "    </tr>\n",
              "    <tr>\n",
              "      <th>11</th>\n",
              "      <td>2021-12-01</td>\n",
              "      <td>B</td>\n",
              "      <td>m3</td>\n",
              "      <td>6</td>\n",
              "    </tr>\n",
              "    <tr>\n",
              "      <th>12</th>\n",
              "      <td>2021-01-13</td>\n",
              "      <td>C</td>\n",
              "      <td>m2</td>\n",
              "      <td>92</td>\n",
              "    </tr>\n",
              "    <tr>\n",
              "      <th>13</th>\n",
              "      <td>2021-01-14</td>\n",
              "      <td>B</td>\n",
              "      <td>m2</td>\n",
              "      <td>80</td>\n",
              "    </tr>\n",
              "    <tr>\n",
              "      <th>14</th>\n",
              "      <td>2021-01-15</td>\n",
              "      <td>A</td>\n",
              "      <td>m4</td>\n",
              "      <td>30</td>\n",
              "    </tr>\n",
              "    <tr>\n",
              "      <th>15</th>\n",
              "      <td>2021-01-16</td>\n",
              "      <td>C</td>\n",
              "      <td>m1</td>\n",
              "      <td>21</td>\n",
              "    </tr>\n",
              "    <tr>\n",
              "      <th>16</th>\n",
              "      <td>2021-01-17</td>\n",
              "      <td>C</td>\n",
              "      <td>m2</td>\n",
              "      <td>42</td>\n",
              "    </tr>\n",
              "    <tr>\n",
              "      <th>17</th>\n",
              "      <td>2021-01-18</td>\n",
              "      <td>B</td>\n",
              "      <td>m3</td>\n",
              "      <td>54</td>\n",
              "    </tr>\n",
              "    <tr>\n",
              "      <th>18</th>\n",
              "      <td>2021-01-19</td>\n",
              "      <td>C</td>\n",
              "      <td>m3</td>\n",
              "      <td>36</td>\n",
              "    </tr>\n",
              "    <tr>\n",
              "      <th>19</th>\n",
              "      <td>2021-01-20</td>\n",
              "      <td>A</td>\n",
              "      <td>m1</td>\n",
              "      <td>18</td>\n",
              "    </tr>\n",
              "    <tr>\n",
              "      <th>20</th>\n",
              "      <td>2021-01-21</td>\n",
              "      <td>B</td>\n",
              "      <td>m4</td>\n",
              "      <td>63</td>\n",
              "    </tr>\n",
              "    <tr>\n",
              "      <th>21</th>\n",
              "      <td>2021-01-22</td>\n",
              "      <td>A</td>\n",
              "      <td>m1</td>\n",
              "      <td>20</td>\n",
              "    </tr>\n",
              "    <tr>\n",
              "      <th>22</th>\n",
              "      <td>2021-01-23</td>\n",
              "      <td>A</td>\n",
              "      <td>m1</td>\n",
              "      <td>92</td>\n",
              "    </tr>\n",
              "    <tr>\n",
              "      <th>23</th>\n",
              "      <td>2021-01-24</td>\n",
              "      <td>B</td>\n",
              "      <td>m3</td>\n",
              "      <td>4</td>\n",
              "    </tr>\n",
              "    <tr>\n",
              "      <th>24</th>\n",
              "      <td>2021-01-25</td>\n",
              "      <td>C</td>\n",
              "      <td>m1</td>\n",
              "      <td>28</td>\n",
              "    </tr>\n",
              "    <tr>\n",
              "      <th>25</th>\n",
              "      <td>2021-01-26</td>\n",
              "      <td>C</td>\n",
              "      <td>m4</td>\n",
              "      <td>26</td>\n",
              "    </tr>\n",
              "    <tr>\n",
              "      <th>26</th>\n",
              "      <td>2021-01-27</td>\n",
              "      <td>A</td>\n",
              "      <td>m2</td>\n",
              "      <td>22</td>\n",
              "    </tr>\n",
              "    <tr>\n",
              "      <th>27</th>\n",
              "      <td>2021-01-28</td>\n",
              "      <td>A</td>\n",
              "      <td>m3</td>\n",
              "      <td>28</td>\n",
              "    </tr>\n",
              "    <tr>\n",
              "      <th>28</th>\n",
              "      <td>2021-01-29</td>\n",
              "      <td>B</td>\n",
              "      <td>m2</td>\n",
              "      <td>68</td>\n",
              "    </tr>\n",
              "    <tr>\n",
              "      <th>29</th>\n",
              "      <td>2021-01-30</td>\n",
              "      <td>C</td>\n",
              "      <td>m2</td>\n",
              "      <td>40</td>\n",
              "    </tr>\n",
              "    <tr>\n",
              "      <th>30</th>\n",
              "      <td>2021-01-31</td>\n",
              "      <td>C</td>\n",
              "      <td>m1</td>\n",
              "      <td>29</td>\n",
              "    </tr>\n",
              "    <tr>\n",
              "      <th>31</th>\n",
              "      <td>2021-01-02</td>\n",
              "      <td>C</td>\n",
              "      <td>m4</td>\n",
              "      <td>74</td>\n",
              "    </tr>\n",
              "    <tr>\n",
              "      <th>32</th>\n",
              "      <td>2021-02-02</td>\n",
              "      <td>A</td>\n",
              "      <td>m5</td>\n",
              "      <td>73</td>\n",
              "    </tr>\n",
              "    <tr>\n",
              "      <th>33</th>\n",
              "      <td>2021-03-02</td>\n",
              "      <td>B</td>\n",
              "      <td>m2</td>\n",
              "      <td>24</td>\n",
              "    </tr>\n",
              "    <tr>\n",
              "      <th>34</th>\n",
              "      <td>2021-04-02</td>\n",
              "      <td>B</td>\n",
              "      <td>m3</td>\n",
              "      <td>16</td>\n",
              "    </tr>\n",
              "    <tr>\n",
              "      <th>35</th>\n",
              "      <td>2021-05-02</td>\n",
              "      <td>C</td>\n",
              "      <td>m2</td>\n",
              "      <td>76</td>\n",
              "    </tr>\n",
              "    <tr>\n",
              "      <th>36</th>\n",
              "      <td>2021-06-02</td>\n",
              "      <td>B</td>\n",
              "      <td>m4</td>\n",
              "      <td>72</td>\n",
              "    </tr>\n",
              "    <tr>\n",
              "      <th>37</th>\n",
              "      <td>2021-07-02</td>\n",
              "      <td>B</td>\n",
              "      <td>m3</td>\n",
              "      <td>70</td>\n",
              "    </tr>\n",
              "    <tr>\n",
              "      <th>38</th>\n",
              "      <td>2021-08-02</td>\n",
              "      <td>B</td>\n",
              "      <td>m5</td>\n",
              "      <td>8</td>\n",
              "    </tr>\n",
              "    <tr>\n",
              "      <th>39</th>\n",
              "      <td>2021-09-02</td>\n",
              "      <td>B</td>\n",
              "      <td>m1</td>\n",
              "      <td>33</td>\n",
              "    </tr>\n",
              "    <tr>\n",
              "      <th>40</th>\n",
              "      <td>2021-10-02</td>\n",
              "      <td>B</td>\n",
              "      <td>m3</td>\n",
              "      <td>56</td>\n",
              "    </tr>\n",
              "    <tr>\n",
              "      <th>41</th>\n",
              "      <td>2021-11-02</td>\n",
              "      <td>C</td>\n",
              "      <td>m3</td>\n",
              "      <td>63</td>\n",
              "    </tr>\n",
              "    <tr>\n",
              "      <th>42</th>\n",
              "      <td>2021-12-02</td>\n",
              "      <td>C</td>\n",
              "      <td>m5</td>\n",
              "      <td>22</td>\n",
              "    </tr>\n",
              "    <tr>\n",
              "      <th>43</th>\n",
              "      <td>2021-02-13</td>\n",
              "      <td>C</td>\n",
              "      <td>m2</td>\n",
              "      <td>54</td>\n",
              "    </tr>\n",
              "    <tr>\n",
              "      <th>44</th>\n",
              "      <td>2021-02-14</td>\n",
              "      <td>B</td>\n",
              "      <td>m4</td>\n",
              "      <td>42</td>\n",
              "    </tr>\n",
              "    <tr>\n",
              "      <th>45</th>\n",
              "      <td>2021-02-15</td>\n",
              "      <td>C</td>\n",
              "      <td>m5</td>\n",
              "      <td>64</td>\n",
              "    </tr>\n",
              "    <tr>\n",
              "      <th>46</th>\n",
              "      <td>2021-02-16</td>\n",
              "      <td>A</td>\n",
              "      <td>m2</td>\n",
              "      <td>33</td>\n",
              "    </tr>\n",
              "    <tr>\n",
              "      <th>47</th>\n",
              "      <td>2021-02-17</td>\n",
              "      <td>A</td>\n",
              "      <td>m4</td>\n",
              "      <td>48</td>\n",
              "    </tr>\n",
              "    <tr>\n",
              "      <th>48</th>\n",
              "      <td>2021-02-18</td>\n",
              "      <td>A</td>\n",
              "      <td>m2</td>\n",
              "      <td>27</td>\n",
              "    </tr>\n",
              "  </tbody>\n",
              "</table>\n",
              "</div>"
            ],
            "text/plain": [
              "            dt group manager  val\n",
              "0   2021-01-01     C      m4   95\n",
              "1   2021-02-01     A      m4   33\n",
              "2   2021-03-01     C      m4   64\n",
              "3   2021-04-01     C      m3    1\n",
              "4   2021-05-01     C      m2   33\n",
              "5   2021-06-01     B      m1   36\n",
              "6   2021-07-01     B      m1   35\n",
              "7   2021-08-01     B      m1   79\n",
              "8   2021-09-01     A      m5   97\n",
              "9   2021-10-01     A      m3   10\n",
              "10  2021-11-01     B      m2    1\n",
              "11  2021-12-01     B      m3    6\n",
              "12  2021-01-13     C      m2   92\n",
              "13  2021-01-14     B      m2   80\n",
              "14  2021-01-15     A      m4   30\n",
              "15  2021-01-16     C      m1   21\n",
              "16  2021-01-17     C      m2   42\n",
              "17  2021-01-18     B      m3   54\n",
              "18  2021-01-19     C      m3   36\n",
              "19  2021-01-20     A      m1   18\n",
              "20  2021-01-21     B      m4   63\n",
              "21  2021-01-22     A      m1   20\n",
              "22  2021-01-23     A      m1   92\n",
              "23  2021-01-24     B      m3    4\n",
              "24  2021-01-25     C      m1   28\n",
              "25  2021-01-26     C      m4   26\n",
              "26  2021-01-27     A      m2   22\n",
              "27  2021-01-28     A      m3   28\n",
              "28  2021-01-29     B      m2   68\n",
              "29  2021-01-30     C      m2   40\n",
              "30  2021-01-31     C      m1   29\n",
              "31  2021-01-02     C      m4   74\n",
              "32  2021-02-02     A      m5   73\n",
              "33  2021-03-02     B      m2   24\n",
              "34  2021-04-02     B      m3   16\n",
              "35  2021-05-02     C      m2   76\n",
              "36  2021-06-02     B      m4   72\n",
              "37  2021-07-02     B      m3   70\n",
              "38  2021-08-02     B      m5    8\n",
              "39  2021-09-02     B      m1   33\n",
              "40  2021-10-02     B      m3   56\n",
              "41  2021-11-02     C      m3   63\n",
              "42  2021-12-02     C      m5   22\n",
              "43  2021-02-13     C      m2   54\n",
              "44  2021-02-14     B      m4   42\n",
              "45  2021-02-15     C      m5   64\n",
              "46  2021-02-16     A      m2   33\n",
              "47  2021-02-17     A      m4   48\n",
              "48  2021-02-18     A      m2   27"
            ]
          },
          "metadata": {},
          "execution_count": 38
        }
      ]
    },
    {
      "cell_type": "markdown",
      "metadata": {
        "id": "BlGpz3bB3ZC8"
      },
      "source": [
        "### Комбинаторы агрегатных функций"
      ]
    },
    {
      "cell_type": "markdown",
      "metadata": {
        "id": "xgmJWhVtDlJN"
      },
      "source": [
        "If К имени любой агрегатной функции может быть приписан суффикс -If. В этом случае, агрегатная функция принимает ещё один дополнительный аргумент - условие (типа UInt8). Агрегатная функция будет обрабатывать только те строки, для которых условие сработало. Если условие ни разу не сработало - возвращается некоторое значение по умолчанию (обычно - нули, пустые строки).\n",
        "\n",
        "Примеры: sumIf(column, cond), countIf(cond), avgIf(x, cond), quantilesTimingIf(level1, level2)(x, cond), argMinIf(arg, val, cond) и т. п."
      ]
    },
    {
      "cell_type": "code",
      "metadata": {
        "id": "nMgB7fJt3aO0"
      },
      "source": [
        "sql = '''select s.group, \n",
        "                sumIf(s.val,s.manager='m1') as m1,\n",
        "                sumIf(s.val,s.manager='m2') as m2,\n",
        "                sumIf(s.val,s.manager='m3') as m3,\n",
        "                sumIf(s.val,s.manager='m4') as m4,\n",
        "                sumIf(s.val,s.manager='m5') as m5\n",
        "         from sales as s\n",
        "         group by s.group'''"
      ],
      "execution_count": 29,
      "outputs": []
    },
    {
      "cell_type": "code",
      "metadata": {
        "colab": {
          "base_uri": "https://localhost:8080/",
          "height": 142
        },
        "id": "kIdosz5g36UH",
        "outputId": "c53f9995-b5d2-41ff-9fb1-07fd3fa6b784"
      },
      "source": [
        "select_clickhouse(sql)"
      ],
      "execution_count": 30,
      "outputs": [
        {
          "output_type": "execute_result",
          "data": {
            "text/html": [
              "<div>\n",
              "<style scoped>\n",
              "    .dataframe tbody tr th:only-of-type {\n",
              "        vertical-align: middle;\n",
              "    }\n",
              "\n",
              "    .dataframe tbody tr th {\n",
              "        vertical-align: top;\n",
              "    }\n",
              "\n",
              "    .dataframe thead th {\n",
              "        text-align: right;\n",
              "    }\n",
              "</style>\n",
              "<table border=\"1\" class=\"dataframe\">\n",
              "  <thead>\n",
              "    <tr style=\"text-align: right;\">\n",
              "      <th></th>\n",
              "      <th>group</th>\n",
              "      <th>m1</th>\n",
              "      <th>m2</th>\n",
              "      <th>m3</th>\n",
              "      <th>m4</th>\n",
              "      <th>m5</th>\n",
              "    </tr>\n",
              "  </thead>\n",
              "  <tbody>\n",
              "    <tr>\n",
              "      <th>0</th>\n",
              "      <td>B</td>\n",
              "      <td>183</td>\n",
              "      <td>173</td>\n",
              "      <td>206</td>\n",
              "      <td>177</td>\n",
              "      <td>8</td>\n",
              "    </tr>\n",
              "    <tr>\n",
              "      <th>1</th>\n",
              "      <td>C</td>\n",
              "      <td>78</td>\n",
              "      <td>337</td>\n",
              "      <td>100</td>\n",
              "      <td>259</td>\n",
              "      <td>86</td>\n",
              "    </tr>\n",
              "    <tr>\n",
              "      <th>2</th>\n",
              "      <td>A</td>\n",
              "      <td>130</td>\n",
              "      <td>82</td>\n",
              "      <td>38</td>\n",
              "      <td>111</td>\n",
              "      <td>170</td>\n",
              "    </tr>\n",
              "  </tbody>\n",
              "</table>\n",
              "</div>"
            ],
            "text/plain": [
              "  group   m1   m2   m3   m4   m5\n",
              "0     B  183  173  206  177    8\n",
              "1     C   78  337  100  259   86\n",
              "2     A  130   82   38  111  170"
            ]
          },
          "metadata": {},
          "execution_count": 30
        }
      ]
    },
    {
      "cell_type": "markdown",
      "metadata": {
        "id": "io8-ckot7INE"
      },
      "source": [
        "### Параметрические агрегатные функции"
      ]
    },
    {
      "cell_type": "markdown",
      "metadata": {
        "id": "9QOnzjlc8Nch"
      },
      "source": [
        "sequenceCount(pattern)(time, cond1, cond2, …)\n",
        "Вычисляет количество цепочек событий, соответствующих шаблону. Функция обнаруживает только непересекающиеся цепочки событий. Она начинает искать следующую цепочку только после того, как полностью совпала текущая цепочка событий."
      ]
    },
    {
      "cell_type": "code",
      "metadata": {
        "id": "4q73UvrG7KUK"
      },
      "source": [
        "sql = '''SELECT sequenceCount('(?1)(?t==1)(?2)(?t==1)(?3)')(s.dt, s.group = 'A',s.group = 'A',s.group='A') as A_A_A \n",
        "        FROM sales as s'''"
      ],
      "execution_count": 105,
      "outputs": []
    },
    {
      "cell_type": "code",
      "metadata": {
        "colab": {
          "base_uri": "https://localhost:8080/",
          "height": 80
        },
        "id": "1GPVQzlk7jYA",
        "outputId": "e541b0f3-d219-4d84-9f85-66d0034e42bd"
      },
      "source": [
        "select_clickhouse(sql)"
      ],
      "execution_count": 106,
      "outputs": [
        {
          "output_type": "execute_result",
          "data": {
            "text/html": [
              "<div>\n",
              "<style scoped>\n",
              "    .dataframe tbody tr th:only-of-type {\n",
              "        vertical-align: middle;\n",
              "    }\n",
              "\n",
              "    .dataframe tbody tr th {\n",
              "        vertical-align: top;\n",
              "    }\n",
              "\n",
              "    .dataframe thead th {\n",
              "        text-align: right;\n",
              "    }\n",
              "</style>\n",
              "<table border=\"1\" class=\"dataframe\">\n",
              "  <thead>\n",
              "    <tr style=\"text-align: right;\">\n",
              "      <th></th>\n",
              "      <th>A_A_A</th>\n",
              "    </tr>\n",
              "  </thead>\n",
              "  <tbody>\n",
              "    <tr>\n",
              "      <th>0</th>\n",
              "      <td>1</td>\n",
              "    </tr>\n",
              "  </tbody>\n",
              "</table>\n",
              "</div>"
            ],
            "text/plain": [
              "   A_A_A\n",
              "0      1"
            ]
          },
          "metadata": {},
          "execution_count": 106
        }
      ]
    }
  ]
}