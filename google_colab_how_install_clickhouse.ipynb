{
  "nbformat": 4,
  "nbformat_minor": 0,
  "metadata": {
    "colab": {
      "name": "google_colab_how_install_clickhouse.ipynb",
      "provenance": [],
      "collapsed_sections": []
    },
    "kernelspec": {
      "name": "python3",
      "display_name": "Python 3"
    },
    "language_info": {
      "name": "python"
    }
  },
  "cells": [
    {
      "cell_type": "code",
      "metadata": {
        "id": "T6zN9XP0fVaV",
        "colab": {
          "base_uri": "https://localhost:8080/"
        },
        "outputId": "9cf97c1b-1b67-4c4b-9362-0505a71e14c0"
      },
      "source": [
        "!sudo apt-get install apt-transport-https ca-certificates dirmngr\n",
        "!sudo apt-key adv --keyserver hkp://keyserver.ubuntu.com:80 --recv E0C56BD4\n",
        "\n",
        "!echo \"deb https://repo.clickhouse.tech/deb/stable/ main/\" | sudo tee \\\n",
        "    /etc/apt/sources.list.d/clickhouse.list\n",
        "!sudo apt-get update\n",
        "\n",
        "!sudo apt-get install -y clickhouse-server clickhouse-client\n",
        "\n",
        "!sudo service clickhouse-server start\n",
        "!clickhouse-client"
      ],
      "execution_count": 1,
      "outputs": [
        {
          "output_type": "stream",
          "text": [
            "Reading package lists... Done\n",
            "Building dependency tree       \n",
            "Reading state information... Done\n",
            "ca-certificates is already the newest version (20210119~18.04.1).\n",
            "dirmngr is already the newest version (2.2.4-1ubuntu1.4).\n",
            "The following NEW packages will be installed:\n",
            "  apt-transport-https\n",
            "0 upgraded, 1 newly installed, 0 to remove and 31 not upgraded.\n",
            "Need to get 1,692 B of archives.\n",
            "After this operation, 154 kB of additional disk space will be used.\n",
            "Get:1 http://archive.ubuntu.com/ubuntu bionic-updates/universe amd64 apt-transport-https all 1.6.13 [1,692 B]\n",
            "Fetched 1,692 B in 0s (4,727 B/s)\n",
            "debconf: unable to initialize frontend: Dialog\n",
            "debconf: (No usable dialog-like program is installed, so the dialog based frontend cannot be used. at /usr/share/perl5/Debconf/FrontEnd/Dialog.pm line 76, <> line 1.)\n",
            "debconf: falling back to frontend: Readline\n",
            "debconf: unable to initialize frontend: Readline\n",
            "debconf: (This frontend requires a controlling tty.)\n",
            "debconf: falling back to frontend: Teletype\n",
            "dpkg-preconfigure: unable to re-open stdin: \n",
            "Selecting previously unselected package apt-transport-https.\n",
            "(Reading database ... 160983 files and directories currently installed.)\n",
            "Preparing to unpack .../apt-transport-https_1.6.13_all.deb ...\n",
            "Unpacking apt-transport-https (1.6.13) ...\n",
            "Setting up apt-transport-https (1.6.13) ...\n",
            "Executing: /tmp/apt-key-gpghome.fUtb6soVFV/gpg.1.sh --keyserver hkp://keyserver.ubuntu.com:80 --recv E0C56BD4\n",
            "gpg: key C8F1E19FE0C56BD4: public key \"ClickHouse Repository Key <milovidov@yandex-team.ru>\" imported\n",
            "gpg: Total number processed: 1\n",
            "gpg:               imported: 1\n",
            "deb https://repo.clickhouse.tech/deb/stable/ main/\n",
            "Get:1 https://cloud.r-project.org/bin/linux/ubuntu bionic-cran40/ InRelease [3,626 B]\n",
            "Ign:2 https://developer.download.nvidia.com/compute/cuda/repos/ubuntu1804/x86_64  InRelease\n",
            "Get:3 http://security.ubuntu.com/ubuntu bionic-security InRelease [88.7 kB]\n",
            "Ign:4 https://developer.download.nvidia.com/compute/machine-learning/repos/ubuntu1804/x86_64  InRelease\n",
            "Hit:5 https://developer.download.nvidia.com/compute/cuda/repos/ubuntu1804/x86_64  Release\n",
            "Hit:6 https://developer.download.nvidia.com/compute/machine-learning/repos/ubuntu1804/x86_64  Release\n",
            "Ign:7 https://repo.clickhouse.tech/deb/stable main/ InRelease\n",
            "Get:8 http://ppa.launchpad.net/c2d4u.team/c2d4u4.0+/ubuntu bionic InRelease [15.9 kB]\n",
            "Hit:9 http://archive.ubuntu.com/ubuntu bionic InRelease\n",
            "Get:12 http://archive.ubuntu.com/ubuntu bionic-updates InRelease [88.7 kB]\n",
            "Get:13 https://repo.clickhouse.tech/deb/stable main/ Release [749 B]\n",
            "Get:14 https://repo.clickhouse.tech/deb/stable main/ Release.gpg [836 B]\n",
            "Hit:15 http://ppa.launchpad.net/cran/libgit2/ubuntu bionic InRelease\n",
            "Get:16 http://archive.ubuntu.com/ubuntu bionic-backports InRelease [74.6 kB]\n",
            "Get:17 http://ppa.launchpad.net/deadsnakes/ppa/ubuntu bionic InRelease [15.9 kB]\n",
            "Get:18 https://repo.clickhouse.tech/deb/stable main/ Packages [171 kB]\n",
            "Get:19 http://archive.ubuntu.com/ubuntu bionic-updates/universe amd64 Packages [2,173 kB]\n",
            "Hit:20 http://ppa.launchpad.net/graphics-drivers/ppa/ubuntu bionic InRelease\n",
            "Get:21 http://ppa.launchpad.net/c2d4u.team/c2d4u4.0+/ubuntu bionic/main Sources [1,751 kB]\n",
            "Get:22 http://archive.ubuntu.com/ubuntu bionic-updates/main amd64 Packages [2,476 kB]\n",
            "Get:23 http://ppa.launchpad.net/c2d4u.team/c2d4u4.0+/ubuntu bionic/main amd64 Packages [896 kB]\n",
            "Get:24 http://ppa.launchpad.net/deadsnakes/ppa/ubuntu bionic/main amd64 Packages [39.5 kB]\n",
            "Fetched 7,795 kB in 4s (1,773 kB/s)\n",
            "Reading package lists... Done\n",
            "Reading package lists... Done\n",
            "Building dependency tree       \n",
            "Reading state information... Done\n",
            "The following additional packages will be installed:\n",
            "  clickhouse-common-static libcap2-bin libpam-cap\n",
            "Suggested packages:\n",
            "  clickhouse-common-static-dbg\n",
            "The following NEW packages will be installed:\n",
            "  clickhouse-client clickhouse-common-static clickhouse-server libcap2-bin\n",
            "  libpam-cap\n",
            "0 upgraded, 5 newly installed, 0 to remove and 34 not upgraded.\n",
            "Need to get 126 MB of archives.\n",
            "After this operation, 428 MB of additional disk space will be used.\n",
            "Get:1 https://repo.clickhouse.tech/deb/stable main/ clickhouse-common-static 21.3.5.42 [126 MB]\n",
            "Get:2 http://archive.ubuntu.com/ubuntu bionic/main amd64 libcap2-bin amd64 1:2.25-1.2 [20.6 kB]\n",
            "Get:3 http://archive.ubuntu.com/ubuntu bionic/main amd64 libpam-cap amd64 1:2.25-1.2 [7,268 B]\n",
            "Get:4 https://repo.clickhouse.tech/deb/stable main/ clickhouse-client 21.3.5.42 [38.1 kB]\n",
            "Get:5 https://repo.clickhouse.tech/deb/stable main/ clickhouse-server 21.3.5.42 [58.1 kB]\n",
            "Fetched 126 MB in 2s (56.6 MB/s)\n",
            "debconf: unable to initialize frontend: Dialog\n",
            "debconf: (No usable dialog-like program is installed, so the dialog based frontend cannot be used. at /usr/share/perl5/Debconf/FrontEnd/Dialog.pm line 76, <> line 5.)\n",
            "debconf: falling back to frontend: Readline\n",
            "debconf: unable to initialize frontend: Readline\n",
            "debconf: (This frontend requires a controlling tty.)\n",
            "debconf: falling back to frontend: Teletype\n",
            "dpkg-preconfigure: unable to re-open stdin: \n",
            "Selecting previously unselected package libcap2-bin.\n",
            "(Reading database ... 160987 files and directories currently installed.)\n",
            "Preparing to unpack .../libcap2-bin_1%3a2.25-1.2_amd64.deb ...\n",
            "Unpacking libcap2-bin (1:2.25-1.2) ...\n",
            "Selecting previously unselected package libpam-cap:amd64.\n",
            "Preparing to unpack .../libpam-cap_1%3a2.25-1.2_amd64.deb ...\n",
            "Unpacking libpam-cap:amd64 (1:2.25-1.2) ...\n",
            "Selecting previously unselected package clickhouse-common-static.\n",
            "Preparing to unpack .../clickhouse-common-static_21.3.5.42_amd64.deb ...\n",
            "Unpacking clickhouse-common-static (21.3.5.42) ...\n",
            "Selecting previously unselected package clickhouse-client.\n",
            "Preparing to unpack .../clickhouse-client_21.3.5.42_all.deb ...\n",
            "Unpacking clickhouse-client (21.3.5.42) ...\n",
            "Selecting previously unselected package clickhouse-server.\n",
            "Preparing to unpack .../clickhouse-server_21.3.5.42_all.deb ...\n",
            "Unpacking clickhouse-server (21.3.5.42) ...\n",
            "Setting up libpam-cap:amd64 (1:2.25-1.2) ...\n",
            "debconf: unable to initialize frontend: Dialog\n",
            "debconf: (No usable dialog-like program is installed, so the dialog based frontend cannot be used. at /usr/share/perl5/Debconf/FrontEnd/Dialog.pm line 76.)\n",
            "debconf: falling back to frontend: Readline\n",
            "Setting up libcap2-bin (1:2.25-1.2) ...\n",
            "Setting up clickhouse-common-static (21.3.5.42) ...\n",
            "Setting up clickhouse-server (21.3.5.42) ...\n",
            "debconf: unable to initialize frontend: Dialog\n",
            "debconf: (No usable dialog-like program is installed, so the dialog based frontend cannot be used. at /usr/share/perl5/Debconf/FrontEnd/Dialog.pm line 76.)\n",
            "debconf: falling back to frontend: Readline\n",
            "Configuring clickhouse-server\n",
            "-----------------------------\n",
            "\n",
            "\u001b[4mEnter password for default user: \u001b[m\u001b[1m\u001b[m\u001b[m\n",
            "\n",
            "ClickHouse binary is already located at /usr/bin/clickhouse\n",
            "Symlink /usr/bin/clickhouse-server already exists but it points to /clickhouse. Will replace the old symlink to /usr/bin/clickhouse.\n",
            "Creating symlink /usr/bin/clickhouse-server to /usr/bin/clickhouse.\n",
            "Symlink /usr/bin/clickhouse-client already exists but it points to /clickhouse. Will replace the old symlink to /usr/bin/clickhouse.\n",
            "Creating symlink /usr/bin/clickhouse-client to /usr/bin/clickhouse.\n",
            "Symlink /usr/bin/clickhouse-local already exists but it points to /clickhouse. Will replace the old symlink to /usr/bin/clickhouse.\n",
            "Creating symlink /usr/bin/clickhouse-local to /usr/bin/clickhouse.\n",
            "Symlink /usr/bin/clickhouse-benchmark already exists but it points to /clickhouse. Will replace the old symlink to /usr/bin/clickhouse.\n",
            "Creating symlink /usr/bin/clickhouse-benchmark to /usr/bin/clickhouse.\n",
            "Symlink /usr/bin/clickhouse-copier already exists but it points to /clickhouse. Will replace the old symlink to /usr/bin/clickhouse.\n",
            "Creating symlink /usr/bin/clickhouse-copier to /usr/bin/clickhouse.\n",
            "Symlink /usr/bin/clickhouse-obfuscator already exists but it points to /clickhouse. Will replace the old symlink to /usr/bin/clickhouse.\n",
            "Creating symlink /usr/bin/clickhouse-obfuscator to /usr/bin/clickhouse.\n",
            "Creating symlink /usr/bin/clickhouse-git-import to /usr/bin/clickhouse.\n",
            "Symlink /usr/bin/clickhouse-compressor already exists but it points to /clickhouse. Will replace the old symlink to /usr/bin/clickhouse.\n",
            "Creating symlink /usr/bin/clickhouse-compressor to /usr/bin/clickhouse.\n",
            "Symlink /usr/bin/clickhouse-format already exists but it points to /clickhouse. Will replace the old symlink to /usr/bin/clickhouse.\n",
            "Creating symlink /usr/bin/clickhouse-format to /usr/bin/clickhouse.\n",
            "Symlink /usr/bin/clickhouse-extract-from-config already exists but it points to /clickhouse. Will replace the old symlink to /usr/bin/clickhouse.\n",
            "Creating symlink /usr/bin/clickhouse-extract-from-config to /usr/bin/clickhouse.\n",
            "Creating clickhouse group if it does not exist.\n",
            " groupadd -r clickhouse\n",
            "Creating clickhouse user if it does not exist.\n",
            " useradd -r --shell /bin/false --home-dir /nonexistent -g clickhouse clickhouse\n",
            "Will set ulimits for clickhouse user in /etc/security/limits.d/clickhouse.conf.\n",
            "Creating config directory /etc/clickhouse-server/config.d that is used for tweaks of main server configuration.\n",
            "Creating config directory /etc/clickhouse-server/users.d that is used for tweaks of users configuration.\n",
            "Config file /etc/clickhouse-server/config.xml already exists, will keep it and extract path info from it.\n",
            "/etc/clickhouse-server/config.xml has /var/lib/clickhouse/ as data path.\n",
            "/etc/clickhouse-server/config.xml has /var/log/clickhouse-server/ as log path.\n",
            "Users config file /etc/clickhouse-server/users.xml already exists, will keep it and extract users info from it.\n",
            " chown --recursive clickhouse:clickhouse '/etc/clickhouse-server'\n",
            "Creating log directory /var/log/clickhouse-server/.\n",
            "Creating data directory /var/lib/clickhouse/.\n",
            "Creating pid directory /var/run/clickhouse-server.\n",
            " chown --recursive clickhouse:clickhouse '/var/log/clickhouse-server/'\n",
            " chown --recursive clickhouse:clickhouse '/var/run/clickhouse-server'\n",
            " chown clickhouse:clickhouse '/var/lib/clickhouse/'\n",
            "Password for default user is empty string. See /etc/clickhouse-server/users.xml and /etc/clickhouse-server/users.d to change it.\n",
            "Setting capabilities for clickhouse binary. This is optional.\n",
            " command -v setcap >/dev/null && echo > /tmp/test_setcap.sh && chmod a+x /tmp/test_setcap.sh && /tmp/test_setcap.sh && setcap 'cap_net_admin,cap_ipc_lock,cap_sys_nice+ep' /tmp/test_setcap.sh && /tmp/test_setcap.sh && rm /tmp/test_setcap.sh && setcap 'cap_net_admin,cap_ipc_lock,cap_sys_nice+ep' /usr/bin/clickhouse || echo \"Cannot set 'net_admin' or 'ipc_lock' or 'sys_nice' capability for clickhouse binary. This is optional. Taskstats accounting will be disabled. To enable taskstats accounting you may add the required capability later manually.\"\n",
            "sh: 1: /tmp/test_setcap.sh: Operation not permitted\n",
            "Cannot set 'net_admin' or 'ipc_lock' or 'sys_nice' capability for clickhouse binary. This is optional. Taskstats accounting will be disabled. To enable taskstats accounting you may add the required capability later manually.\n",
            "\n",
            "ClickHouse has been successfully installed.\n",
            "\n",
            "Start clickhouse-server with:\n",
            " sudo clickhouse start\n",
            "\n",
            "Start clickhouse-client with:\n",
            " clickhouse-client\n",
            "\n",
            "Setting up clickhouse-client (21.3.5.42) ...\n",
            "Processing triggers for man-db (2.8.3-2ubuntu0.1) ...\n",
            "Processing triggers for systemd (237-3ubuntu10.45) ...\n",
            " chown --recursive clickhouse '/var/run/clickhouse-server/'\n",
            "Will run su -s /bin/sh 'clickhouse' -c '/usr/bin/clickhouse-server --config-file /etc/clickhouse-server/config.xml --pid-file /var/run/clickhouse-server/clickhouse-server.pid --daemon'\n",
            "Waiting for server to start\n",
            "Waiting for server to start\n",
            "Server started\n",
            "src/tcmalloc.cc:283] Attempt to free invalid pointer 0x7f7548216000 \n"
          ],
          "name": "stdout"
        }
      ]
    },
    {
      "cell_type": "code",
      "metadata": {
        "id": "DYZsT-5ofcu9",
        "colab": {
          "base_uri": "https://localhost:8080/"
        },
        "outputId": "3c31832b-a6d5-43e5-b913-2b44cf53096b"
      },
      "source": [
        "!pip install clickhouse-driver"
      ],
      "execution_count": 2,
      "outputs": [
        {
          "output_type": "stream",
          "text": [
            "Collecting clickhouse-driver\n",
            "\u001b[?25l  Downloading https://files.pythonhosted.org/packages/7d/33/16f13d59d084ab3f38ef4c8f6906834d1a004c03ef2f68714ae22e42a3d6/clickhouse_driver-0.2.0-cp37-cp37m-manylinux2010_x86_64.whl (480kB)\n",
            "\r\u001b[K     |▊                               | 10kB 13.8MB/s eta 0:00:01\r\u001b[K     |█▍                              | 20kB 20.2MB/s eta 0:00:01\r\u001b[K     |██                              | 30kB 12.5MB/s eta 0:00:01\r\u001b[K     |██▊                             | 40kB 10.0MB/s eta 0:00:01\r\u001b[K     |███▍                            | 51kB 8.0MB/s eta 0:00:01\r\u001b[K     |████                            | 61kB 6.6MB/s eta 0:00:01\r\u001b[K     |████▊                           | 71kB 7.4MB/s eta 0:00:01\r\u001b[K     |█████▌                          | 81kB 8.2MB/s eta 0:00:01\r\u001b[K     |██████▏                         | 92kB 8.1MB/s eta 0:00:01\r\u001b[K     |██████▉                         | 102kB 8.1MB/s eta 0:00:01\r\u001b[K     |███████▌                        | 112kB 8.1MB/s eta 0:00:01\r\u001b[K     |████████▏                       | 122kB 8.1MB/s eta 0:00:01\r\u001b[K     |████████▉                       | 133kB 8.1MB/s eta 0:00:01\r\u001b[K     |█████████▌                      | 143kB 8.1MB/s eta 0:00:01\r\u001b[K     |██████████▎                     | 153kB 8.1MB/s eta 0:00:01\r\u001b[K     |███████████                     | 163kB 8.1MB/s eta 0:00:01\r\u001b[K     |███████████▋                    | 174kB 8.1MB/s eta 0:00:01\r\u001b[K     |████████████▎                   | 184kB 8.1MB/s eta 0:00:01\r\u001b[K     |█████████████                   | 194kB 8.1MB/s eta 0:00:01\r\u001b[K     |█████████████▋                  | 204kB 8.1MB/s eta 0:00:01\r\u001b[K     |██████████████▎                 | 215kB 8.1MB/s eta 0:00:01\r\u001b[K     |███████████████                 | 225kB 8.1MB/s eta 0:00:01\r\u001b[K     |███████████████▊                | 235kB 8.1MB/s eta 0:00:01\r\u001b[K     |████████████████▍               | 245kB 8.1MB/s eta 0:00:01\r\u001b[K     |█████████████████               | 256kB 8.1MB/s eta 0:00:01\r\u001b[K     |█████████████████▊              | 266kB 8.1MB/s eta 0:00:01\r\u001b[K     |██████████████████▍             | 276kB 8.1MB/s eta 0:00:01\r\u001b[K     |███████████████████             | 286kB 8.1MB/s eta 0:00:01\r\u001b[K     |███████████████████▉            | 296kB 8.1MB/s eta 0:00:01\r\u001b[K     |████████████████████▌           | 307kB 8.1MB/s eta 0:00:01\r\u001b[K     |█████████████████████▏          | 317kB 8.1MB/s eta 0:00:01\r\u001b[K     |█████████████████████▉          | 327kB 8.1MB/s eta 0:00:01\r\u001b[K     |██████████████████████▌         | 337kB 8.1MB/s eta 0:00:01\r\u001b[K     |███████████████████████▏        | 348kB 8.1MB/s eta 0:00:01\r\u001b[K     |███████████████████████▉        | 358kB 8.1MB/s eta 0:00:01\r\u001b[K     |████████████████████████▋       | 368kB 8.1MB/s eta 0:00:01\r\u001b[K     |█████████████████████████▎      | 378kB 8.1MB/s eta 0:00:01\r\u001b[K     |██████████████████████████      | 389kB 8.1MB/s eta 0:00:01\r\u001b[K     |██████████████████████████▋     | 399kB 8.1MB/s eta 0:00:01\r\u001b[K     |███████████████████████████▎    | 409kB 8.1MB/s eta 0:00:01\r\u001b[K     |████████████████████████████    | 419kB 8.1MB/s eta 0:00:01\r\u001b[K     |████████████████████████████▋   | 430kB 8.1MB/s eta 0:00:01\r\u001b[K     |█████████████████████████████▍  | 440kB 8.1MB/s eta 0:00:01\r\u001b[K     |██████████████████████████████  | 450kB 8.1MB/s eta 0:00:01\r\u001b[K     |██████████████████████████████▊ | 460kB 8.1MB/s eta 0:00:01\r\u001b[K     |███████████████████████████████▍| 471kB 8.1MB/s eta 0:00:01\r\u001b[K     |████████████████████████████████| 481kB 8.1MB/s \n",
            "\u001b[?25hRequirement already satisfied: tzlocal<3.0 in /usr/local/lib/python3.7/dist-packages (from clickhouse-driver) (1.5.1)\n",
            "Requirement already satisfied: pytz in /usr/local/lib/python3.7/dist-packages (from clickhouse-driver) (2018.9)\n",
            "Installing collected packages: clickhouse-driver\n",
            "Successfully installed clickhouse-driver-0.2.0\n"
          ],
          "name": "stdout"
        }
      ]
    },
    {
      "cell_type": "code",
      "metadata": {
        "id": "A6DUpJl7fft0",
        "colab": {
          "base_uri": "https://localhost:8080/"
        },
        "outputId": "768f1849-6df8-48b5-d2bb-52cfd24be5d6"
      },
      "source": [
        "from clickhouse_driver import Client\n",
        "client = Client(host='localhost')\n",
        "client.execute('SHOW DATABASES')"
      ],
      "execution_count": 3,
      "outputs": [
        {
          "output_type": "execute_result",
          "data": {
            "text/plain": [
              "[('default',), ('system',)]"
            ]
          },
          "metadata": {
            "tags": []
          },
          "execution_count": 3
        }
      ]
    },
    {
      "cell_type": "code",
      "metadata": {
        "id": "kjyurshBfhm8"
      },
      "source": [
        "import pandas as pd\n",
        "import numpy as np\n",
        "from datetime import datetime"
      ],
      "execution_count": 4,
      "outputs": []
    },
    {
      "cell_type": "code",
      "metadata": {
        "id": "u8UEF7aihE6k"
      },
      "source": [
        "dateparser = lambda x: datetime.strptime(x, \"%d.%m.%Y\")\n",
        "df = pd.read_csv('data.csv',sep=';',decimal=',',parse_dates = ['date'], date_parser=dateparser)"
      ],
      "execution_count": 6,
      "outputs": []
    },
    {
      "cell_type": "code",
      "metadata": {
        "colab": {
          "base_uri": "https://localhost:8080/"
        },
        "id": "1DF2APGehKbD",
        "outputId": "e39fab34-1521-423d-d097-b505376c3883"
      },
      "source": [
        "print(df.head())\n",
        "print(df.info())"
      ],
      "execution_count": 7,
      "outputs": [
        {
          "output_type": "stream",
          "text": [
            "        date   product  amount  delta\n",
            "0 2020-01-01  product1      10    5.0\n",
            "1 2020-01-02  product2      15    7.5\n",
            "2 2020-01-03  product3      20   10.0\n",
            "3 2020-01-04  product4      25   12.5\n",
            "4 2020-01-05  product5      30   15.0\n",
            "<class 'pandas.core.frame.DataFrame'>\n",
            "RangeIndex: 9 entries, 0 to 8\n",
            "Data columns (total 4 columns):\n",
            " #   Column   Non-Null Count  Dtype         \n",
            "---  ------   --------------  -----         \n",
            " 0   date     9 non-null      datetime64[ns]\n",
            " 1   product  9 non-null      object        \n",
            " 2   amount   9 non-null      int64         \n",
            " 3   delta    9 non-null      float64       \n",
            "dtypes: datetime64[ns](1), float64(1), int64(1), object(1)\n",
            "memory usage: 416.0+ bytes\n",
            "None\n"
          ],
          "name": "stdout"
        }
      ]
    },
    {
      "cell_type": "code",
      "metadata": {
        "colab": {
          "base_uri": "https://localhost:8080/"
        },
        "id": "KCcplBuvnM1r",
        "outputId": "3a61d849-8838-4b5f-8688-bf9c8b7d1556"
      },
      "source": [
        "client.execute('DROP DATABASE IF EXISTS db')"
      ],
      "execution_count": 8,
      "outputs": [
        {
          "output_type": "execute_result",
          "data": {
            "text/plain": [
              "[]"
            ]
          },
          "metadata": {
            "tags": []
          },
          "execution_count": 8
        }
      ]
    },
    {
      "cell_type": "code",
      "metadata": {
        "colab": {
          "base_uri": "https://localhost:8080/"
        },
        "id": "x4N77QQvh61d",
        "outputId": "cf459c39-72d6-476e-db93-556795dd628b"
      },
      "source": [
        "client.execute('CREATE DATABASE db')"
      ],
      "execution_count": 9,
      "outputs": [
        {
          "output_type": "execute_result",
          "data": {
            "text/plain": [
              "[]"
            ]
          },
          "metadata": {
            "tags": []
          },
          "execution_count": 9
        }
      ]
    },
    {
      "cell_type": "code",
      "metadata": {
        "colab": {
          "base_uri": "https://localhost:8080/"
        },
        "id": "pBsQ8t89jrY7",
        "outputId": "5b83263c-f036-4f5d-9b3a-ae4580fecb62"
      },
      "source": [
        "client.execute('SHOW DATABASES')"
      ],
      "execution_count": 10,
      "outputs": [
        {
          "output_type": "execute_result",
          "data": {
            "text/plain": [
              "[('db',), ('default',), ('system',)]"
            ]
          },
          "metadata": {
            "tags": []
          },
          "execution_count": 10
        }
      ]
    },
    {
      "cell_type": "code",
      "metadata": {
        "id": "RhjFuFZciFPz"
      },
      "source": [
        "# Старый вариант settings={'use_numpy': True}\n",
        "client = Client(host='localhost', user='default', port='9000', database='db',settings={'columnar': True})"
      ],
      "execution_count": 11,
      "outputs": []
    },
    {
      "cell_type": "code",
      "metadata": {
        "colab": {
          "base_uri": "https://localhost:8080/"
        },
        "id": "8MRvqJrpknuT",
        "outputId": "8803d2f0-af3d-414d-9014-4eab601fcb9f"
      },
      "source": [
        "client.execute('DROP TABLE IF EXISTS test')"
      ],
      "execution_count": 12,
      "outputs": [
        {
          "output_type": "execute_result",
          "data": {
            "text/plain": [
              "[]"
            ]
          },
          "metadata": {
            "tags": []
          },
          "execution_count": 12
        }
      ]
    },
    {
      "cell_type": "code",
      "metadata": {
        "colab": {
          "base_uri": "https://localhost:8080/"
        },
        "id": "9P2ljJnniRXL",
        "outputId": "f41f3d5d-619e-49c1-a754-9a975adbb473"
      },
      "source": [
        "client.execute('CREATE TABLE test (date Date, product String, amount Int32, delta Float32) ENGINE = Memory')"
      ],
      "execution_count": 13,
      "outputs": [
        {
          "output_type": "execute_result",
          "data": {
            "text/plain": [
              "[]"
            ]
          },
          "metadata": {
            "tags": []
          },
          "execution_count": 13
        }
      ]
    },
    {
      "cell_type": "code",
      "metadata": {
        "colab": {
          "base_uri": "https://localhost:8080/"
        },
        "id": "HcZNrqlVjgF0",
        "outputId": "0449e7c4-e040-451a-de9e-4ff4604240a0"
      },
      "source": [
        "client.execute('SHOW TABLES FROM db')"
      ],
      "execution_count": 14,
      "outputs": [
        {
          "output_type": "execute_result",
          "data": {
            "text/plain": [
              "[('test',)]"
            ]
          },
          "metadata": {
            "tags": []
          },
          "execution_count": 14
        }
      ]
    },
    {
      "cell_type": "code",
      "metadata": {
        "colab": {
          "base_uri": "https://localhost:8080/"
        },
        "id": "bNXjTqZSinMc",
        "outputId": "319d27e7-0f76-4f4b-af68-bc4b00b56f77"
      },
      "source": [
        "client.execute(\"INSERT INTO test VALUES\", df.to_dict('records'))"
      ],
      "execution_count": 15,
      "outputs": [
        {
          "output_type": "execute_result",
          "data": {
            "text/plain": [
              "9"
            ]
          },
          "metadata": {
            "tags": []
          },
          "execution_count": 15
        }
      ]
    },
    {
      "cell_type": "code",
      "metadata": {
        "id": "hWAGEYDBnjo7"
      },
      "source": [
        "def select_clickhouse(sql):\n",
        "  return client.query_dataframe(sql)"
      ],
      "execution_count": 16,
      "outputs": []
    },
    {
      "cell_type": "code",
      "metadata": {
        "id": "zvaST1zbnoXi"
      },
      "source": [
        "sql = '''SELECT * \n",
        "         FROM test as t \n",
        "         ORDER BY t.date\n",
        "         LIMIT 25'''"
      ],
      "execution_count": 17,
      "outputs": []
    },
    {
      "cell_type": "code",
      "metadata": {
        "colab": {
          "base_uri": "https://localhost:8080/",
          "height": 328
        },
        "id": "bwU4Qx-lnsNq",
        "outputId": "2dedb36c-33ef-4dfe-d016-2417e921bb85"
      },
      "source": [
        "select_clickhouse(sql)"
      ],
      "execution_count": 18,
      "outputs": [
        {
          "output_type": "execute_result",
          "data": {
            "text/html": [
              "<div>\n",
              "<style scoped>\n",
              "    .dataframe tbody tr th:only-of-type {\n",
              "        vertical-align: middle;\n",
              "    }\n",
              "\n",
              "    .dataframe tbody tr th {\n",
              "        vertical-align: top;\n",
              "    }\n",
              "\n",
              "    .dataframe thead th {\n",
              "        text-align: right;\n",
              "    }\n",
              "</style>\n",
              "<table border=\"1\" class=\"dataframe\">\n",
              "  <thead>\n",
              "    <tr style=\"text-align: right;\">\n",
              "      <th></th>\n",
              "      <th>date</th>\n",
              "      <th>product</th>\n",
              "      <th>amount</th>\n",
              "      <th>delta</th>\n",
              "    </tr>\n",
              "  </thead>\n",
              "  <tbody>\n",
              "    <tr>\n",
              "      <th>0</th>\n",
              "      <td>2020-01-01</td>\n",
              "      <td>product1</td>\n",
              "      <td>10</td>\n",
              "      <td>5.0</td>\n",
              "    </tr>\n",
              "    <tr>\n",
              "      <th>1</th>\n",
              "      <td>2020-01-02</td>\n",
              "      <td>product2</td>\n",
              "      <td>15</td>\n",
              "      <td>7.5</td>\n",
              "    </tr>\n",
              "    <tr>\n",
              "      <th>2</th>\n",
              "      <td>2020-01-03</td>\n",
              "      <td>product3</td>\n",
              "      <td>20</td>\n",
              "      <td>10.0</td>\n",
              "    </tr>\n",
              "    <tr>\n",
              "      <th>3</th>\n",
              "      <td>2020-01-04</td>\n",
              "      <td>product4</td>\n",
              "      <td>25</td>\n",
              "      <td>12.5</td>\n",
              "    </tr>\n",
              "    <tr>\n",
              "      <th>4</th>\n",
              "      <td>2020-01-05</td>\n",
              "      <td>product5</td>\n",
              "      <td>30</td>\n",
              "      <td>15.0</td>\n",
              "    </tr>\n",
              "    <tr>\n",
              "      <th>5</th>\n",
              "      <td>2020-01-06</td>\n",
              "      <td>product6</td>\n",
              "      <td>35</td>\n",
              "      <td>17.5</td>\n",
              "    </tr>\n",
              "    <tr>\n",
              "      <th>6</th>\n",
              "      <td>2020-01-07</td>\n",
              "      <td>product7</td>\n",
              "      <td>40</td>\n",
              "      <td>20.0</td>\n",
              "    </tr>\n",
              "    <tr>\n",
              "      <th>7</th>\n",
              "      <td>2020-01-08</td>\n",
              "      <td>product8</td>\n",
              "      <td>45</td>\n",
              "      <td>22.5</td>\n",
              "    </tr>\n",
              "    <tr>\n",
              "      <th>8</th>\n",
              "      <td>2020-01-09</td>\n",
              "      <td>product9</td>\n",
              "      <td>50</td>\n",
              "      <td>25.0</td>\n",
              "    </tr>\n",
              "  </tbody>\n",
              "</table>\n",
              "</div>"
            ],
            "text/plain": [
              "         date   product  amount  delta\n",
              "0  2020-01-01  product1      10    5.0\n",
              "1  2020-01-02  product2      15    7.5\n",
              "2  2020-01-03  product3      20   10.0\n",
              "3  2020-01-04  product4      25   12.5\n",
              "4  2020-01-05  product5      30   15.0\n",
              "5  2020-01-06  product6      35   17.5\n",
              "6  2020-01-07  product7      40   20.0\n",
              "7  2020-01-08  product8      45   22.5\n",
              "8  2020-01-09  product9      50   25.0"
            ]
          },
          "metadata": {
            "tags": []
          },
          "execution_count": 18
        }
      ]
    }
  ]
}